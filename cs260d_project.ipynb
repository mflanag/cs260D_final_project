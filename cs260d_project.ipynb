{
  "cells": [
    {
      "cell_type": "code",
      "execution_count": 1,
      "metadata": {
        "colab": {
          "base_uri": "https://localhost:8080/"
        },
        "id": "N4DoM92W-smJ",
        "outputId": "24adc245-891c-460a-ec85-53855de2149c"
      },
      "outputs": [
        {
          "output_type": "stream",
          "name": "stdout",
          "text": [
            "Downloading https://www.cs.toronto.edu/~kriz/cifar-10-python.tar.gz to ./data/cifar-10-python.tar.gz\n"
          ]
        },
        {
          "output_type": "stream",
          "name": "stderr",
          "text": [
            "100%|██████████| 170498071/170498071 [00:13<00:00, 13092458.51it/s]\n"
          ]
        },
        {
          "output_type": "stream",
          "name": "stdout",
          "text": [
            "Extracting ./data/cifar-10-python.tar.gz to ./data\n",
            "Files already downloaded and verified\n"
          ]
        }
      ],
      "source": [
        "import torch\n",
        "import torch.nn as nn\n",
        "import torch.nn.functional as F  # for the activation function\n",
        "\n",
        "import torchvision\n",
        "import torchvision.transforms as transforms\n",
        "import numpy as np\n",
        "\n",
        "LOAD = False\n",
        "CLEAR_CACHE = False\n",
        "\n",
        "batch_size = 256\n",
        "transform = transforms.Compose(\n",
        "    [transforms.ToTensor(),\n",
        "     transforms.Normalize((0.5, 0.5, 0.5), (0.5, 0.5, 0.5))])\n",
        "\n",
        "cifar_train_data = torchvision.datasets.CIFAR10(\n",
        "    './data',\n",
        "    train=True,\n",
        "    download=True,\n",
        "    transform=transform,\n",
        ")\n",
        "cifar_test_data = torchvision.datasets.CIFAR10(\n",
        "    './data',\n",
        "    train=False,\n",
        "    download=True,\n",
        "    transform=transform,\n",
        ")\n",
        "\n",
        "cifar_train_dl = torch.utils.data.DataLoader(cifar_train_data, batch_size=batch_size, shuffle=True)\n",
        "cifar_test_dl = torch.utils.data.DataLoader(cifar_test_data, batch_size=batch_size)\n",
        "\n",
        "import os\n",
        "try:\n",
        "    os.mkdir('models')\n",
        "except FileExistsError:\n",
        "    pass"
      ]
    },
    {
      "cell_type": "code",
      "execution_count": 2,
      "metadata": {
        "id": "PcZ_lmKyPW2G"
      },
      "outputs": [],
      "source": [
        "import copy\n",
        "\n",
        "# Evaluation: compute the accuracy on test set\n",
        "def test(model, test_dl):\n",
        "   model.eval()\n",
        "   accuracy = 0\n",
        "   with torch.no_grad():\n",
        "       for (X, y) in test_dl:\n",
        "           X, y = X.to('cuda'), y.to('cuda')\n",
        "           pred = model(X)\n",
        "           accuracy += (pred.argmax(1) == y).type(torch.float).sum().item()\n",
        "       #\n",
        "   return accuracy / len(test_dl.dataset)\n",
        "#\n",
        "\n",
        "# expects an already trained model\n",
        "def get_forgettables(model, dataset):\n",
        "   forgettables_ds = copy.deepcopy(dataset)\n",
        "   unforgettables_ds = copy.deepcopy(dataset)\n",
        "\n",
        "   forgettables_ds.data = []\n",
        "   forgettables_ds.targets = []\n",
        "   unforgettables_ds.data = []\n",
        "   unforgettables_ds.targets = []\n",
        "\n",
        "   dummy_dl = torch.utils.data.DataLoader(dataset, batch_size=1)\n",
        "\n",
        "   model.eval()\n",
        "   i = 0\n",
        "   with torch.no_grad():\n",
        "      for (i, (X, y)) in enumerate(dummy_dl):\n",
        "         X, y = X.to('cuda'), y.to('cuda')\n",
        "\n",
        "         pred = model(X)\n",
        "         pred = torch.argmax(pred,dim=1)\n",
        "         if pred == y:\n",
        "            unforgettables_ds.targets.extend(y)\n",
        "            unforgettables_ds.data.append(dataset.data[i])\n",
        "         else:\n",
        "            forgettables_ds.targets.extend(y)\n",
        "            forgettables_ds.data.append(dataset.data[i])\n",
        "\n",
        "         if (i % 1000 == 0):\n",
        "            print('.', end=\"\")\n",
        "         i+=1\n",
        "\n",
        "   unforgettables_ds.data = np.stack(unforgettables_ds.data, axis=0)\n",
        "   forgettables_ds.data = np.stack(forgettables_ds.data, axis=0)\n",
        "   return forgettables_ds, unforgettables_ds\n",
        "#\n",
        "#######################################\n",
        "\n",
        "def train(model, num_epochs, train_dl, test_dl):\n",
        "   opt = torch.optim.SGD(model.parameters(), lr=.001, momentum=.9)\n",
        "   # scheduler = torch.optim.lr_scheduler.ExponentialLR(opt, gamma=0.9)\n",
        "   loss_fn = nn.CrossEntropyLoss()\n",
        "\n",
        "   for epoch in range(1, num_epochs + 1):\n",
        "      model.train()\n",
        "\n",
        "      for (X, y) in train_dl: # make this minibatch\n",
        "         X, y = X.to('cuda'), y.to('cuda')\n",
        "         opt.zero_grad()\n",
        "\n",
        "         # Compute prediction error\n",
        "         pred = model(X)\n",
        "         #print(pred.shape)\n",
        "         loss = loss_fn(pred, y)\n",
        "\n",
        "         # Backpropagation\n",
        "         loss.backward()\n",
        "         opt.step()\n",
        "\n",
        "      # scheduler.step()\n",
        "      test_accuracy = test(model, test_dl)\n",
        "      print(f\"\\tTest accuracy for epoch {epoch}: {test_accuracy:.4f}\")"
      ]
    },
    {
      "cell_type": "code",
      "execution_count": 8,
      "metadata": {
        "id": "BE_ZY8BLAiYM",
        "colab": {
          "base_uri": "https://localhost:8080/"
        },
        "outputId": "bf700860-7456-4df7-8d4d-713b402ce46b"
      },
      "outputs": [
        {
          "output_type": "stream",
          "name": "stdout",
          "text": [
            "\tTest accuracy for epoch 1: 0.4425\n"
          ]
        }
      ],
      "source": [
        "net = torchvision.models.resnet18().to('cuda')\n",
        "if LOAD:\n",
        "    net.load_state_dict(torch.load('models/baseline'))\n",
        "else:\n",
        "    train(net, 15, cifar_train_dl, cifar_test_dl)\n",
        "    torch.save(net.state_dict(), 'models/baseline')"
      ]
    },
    {
      "cell_type": "code",
      "execution_count": 9,
      "metadata": {
        "id": "n1eMcAGJLUhO"
      },
      "outputs": [],
      "source": [
        "import random\n",
        "import copy\n",
        "\n",
        "def patch_image(image, patch_size, x, y):\n",
        "    image[x:x+patch_size, y:y+patch_size, :] = 0  # setting patch to black\n",
        "\n",
        "def apply_patch(dataset, patch_size, num_poison=.01, targ_class=0):\n",
        "    # get the target class indexes\n",
        "    targ_indexes = [i for i, x in enumerate(dataset.targets) if x == targ_class]\n",
        "    # pick num_poison percent to then patch\n",
        "    num_to_poison = int(len(targ_indexes) * num_poison)\n",
        "\n",
        "    targs = random.sample(targ_indexes, num_to_poison)\n",
        "    for i in range(len(targs)):\n",
        "        x = np.random.randint(0, 32 - patch_size)\n",
        "        y = np.random.randint(0, 32 - patch_size)\n",
        "        image = dataset.data[targs[i]]\n",
        "        patch_image(image, patch_size, x, y)\n",
        "\n",
        "    return targs\n",
        "#\n",
        "\n",
        "patch_size = 10\n",
        "\n",
        "patched_cifar_train_data = copy.deepcopy(cifar_train_data)\n",
        "patched_images = apply_patch(patched_cifar_train_data, patch_size)\n",
        "\n",
        "patched_cifar_train_dl = torch.utils.data.DataLoader(patched_cifar_train_data, batch_size=batch_size, shuffle=True)\n",
        "\n",
        "\n",
        "patched_cifar_test_data = copy.deepcopy(cifar_test_data)\n",
        "test_patched_images = apply_patch(patched_cifar_test_data, patch_size)\n",
        "patched_cifar_test_dl = torch.utils.data.DataLoader(patched_cifar_test_data, batch_size=batch_size)\n"
      ]
    },
    {
      "cell_type": "code",
      "execution_count": 10,
      "metadata": {
        "colab": {
          "base_uri": "https://localhost:8080/",
          "height": 371
        },
        "id": "wYrOdDzjlemm",
        "outputId": "09cca042-fc05-4fb5-cddb-54273e90981a"
      },
      "outputs": [
        {
          "output_type": "display_data",
          "data": {
            "text/plain": [
              "<Figure size 640x480 with 10 Axes>"
            ],
            "image/png": "[encoded data removed]"
          },
          "metadata": {}
        }
      ],
      "source": [
        "import matplotlib.pyplot as plt\n",
        "\n",
        "# show 5 og and then patched\n",
        "for i, idx in enumerate(patched_images[:5]):\n",
        "    plt.subplot(2, 5, i + 1)\n",
        "    plt.imshow(cifar_train_data.data[idx])\n",
        "    plt.title(f\"Original {i + 1}\")\n",
        "    plt.axis('off')\n",
        "\n",
        "    plt.subplot(2, 5, i + 6)\n",
        "    plt.imshow(patched_cifar_train_data.data[idx])\n",
        "    plt.title(f\"Patched {i + 1}\")\n",
        "    plt.axis('off')\n",
        "\n",
        "plt.tight_layout()\n",
        "plt.show()\n"
      ]
    },
    {
      "cell_type": "markdown",
      "metadata": {
        "id": "o5LmStEtmRrJ"
      },
      "source": [
        "# Train baseline model on unperturbed data for a baseline\n",
        "\n",
        "*   List item\n",
        "*   List item\n",
        "\n"
      ]
    },
    {
      "cell_type": "markdown",
      "metadata": {
        "id": "E7QTCvJNmILh"
      },
      "source": [
        "# Train model from scratch with poisoned train data"
      ]
    },
    {
      "cell_type": "code",
      "execution_count": 11,
      "metadata": {
        "id": "UVXB5IGvmc3r",
        "colab": {
          "base_uri": "https://localhost:8080/"
        },
        "outputId": "cdcc2434-8544-40ba-d3f6-d1b0335d952e"
      },
      "outputs": [
        {
          "output_type": "stream",
          "name": "stdout",
          "text": [
            "\tTest accuracy for epoch 1: 0.4455\n"
          ]
        }
      ],
      "source": [
        "poisoned_net = torchvision.models.resnet18().to('cuda')\n",
        "if LOAD:\n",
        "    poisoned_net.load_state_dict(torch.load('models/poisoned_baseline'))\n",
        "else:\n",
        "    train(poisoned_net, 15, cifar_train_dl, cifar_test_dl)\n",
        "    torch.save(poisoned_net.state_dict(), 'models/poisoned_baseline')"
      ]
    },
    {
      "cell_type": "markdown",
      "metadata": {
        "id": "IjLGn8iHonUe"
      },
      "source": [
        "# Attempt to see if a poisoned image is misclassified\n",
        "We patched planes with the backdoor patch. We will now patch a non-plane image in an attempt to have it misclassified as a plane."
      ]
    },
    {
      "cell_type": "code",
      "execution_count": 12,
      "metadata": {
        "id": "MxCm-IV5olkL"
      },
      "outputs": [],
      "source": [
        "# select a random image and then patch it.\n",
        "\n",
        "targ_indexes = [i for i, x in enumerate(cifar_test_data.targets) if x == cifar_test_data.class_to_idx['frog']]\n",
        "poison_target = copy.deepcopy(cifar_test_data.data[targ_indexes[0]])"
      ]
    },
    {
      "cell_type": "code",
      "execution_count": 13,
      "metadata": {
        "colab": {
          "base_uri": "https://localhost:8080/",
          "height": 430
        },
        "id": "K5RP3CIMrEMD",
        "outputId": "1dd0360d-306e-4d7c-c5b0-cb51057a272c"
      },
      "outputs": [
        {
          "output_type": "display_data",
          "data": {
            "text/plain": [
              "<Figure size 640x480 with 1 Axes>"
            ],
            "image/png": "[encoded data removed]"
          },
          "metadata": {}
        }
      ],
      "source": [
        "patch_image(poison_target, 10, 3, 4)\n",
        "\n",
        "plt.imshow(poison_target)\n",
        "plt.show()"
      ]
    },
    {
      "cell_type": "markdown",
      "metadata": {
        "id": "9aeMDiOqBwRi"
      },
      "source": [
        "# Pick a representative subset with random"
      ]
    },
    {
      "cell_type": "markdown",
      "metadata": {
        "id": "k4zzvm5icDys"
      },
      "source": [
        "random Code taken heavily from the hw2 solutions"
      ]
    },
    {
      "cell_type": "code",
      "execution_count": 14,
      "metadata": {
        "id": "y9emaA0IcHfG"
      },
      "outputs": [],
      "source": [
        "#collapse\n",
        "import numpy as np\n",
        "import matplotlib\n",
        "import random\n",
        "# matplotlib.rcParams['text.usetex'] = True\n",
        "import matplotlib.pyplot as plt\n",
        "import time\n",
        "import heapq\n",
        "\n",
        "class FacilityLocation:\n",
        "    def __init__(self, D, V):\n",
        "        self.D = D\n",
        "        self.V = V\n",
        "        self.curVal = 0\n",
        "        self.curMax = np.zeros(len(D))\n",
        "        self.gains = []\n",
        "        self.norm = self.inc([], V)\n",
        "\n",
        "    def inc(self, sset, ndx):\n",
        "        return np.maximum(self.curMax, self.D[:, ndx]).sum() - self.curVal\n",
        "\n",
        "    def add(self, sset, ndx):\n",
        "        cur_old = self.curVal\n",
        "\n",
        "        self.curMax = np.maximum(self.curMax, self.D[:, ndx])\n",
        "        self.curVal = self.curMax.sum()\n",
        "        self.gains.extend([(self.curVal - cur_old) / self.norm])\n",
        "        return self.curVal\n",
        "\n",
        "\n",
        "def lazy_greedy(F, ndx, B):\n",
        "    TOL = 1e-6\n",
        "    eps = 1e-6\n",
        "    curVal = 0\n",
        "    sset = []\n",
        "    order = []\n",
        "    vals = []\n",
        "    # print(f'ndx: {len(ndx)}')\n",
        "    for v in ndx:\n",
        "        marginal = F.inc(sset, v) + eps\n",
        "        heapq.heappush(order, (1.0 / marginal, v, marginal))\n",
        "\n",
        "    # print(f'order: {len(order)}')\n",
        "    while order and len(sset) < B:\n",
        "        el = heapq.heappop(order)\n",
        "        if not sset:\n",
        "            improv = el[2]\n",
        "        else:\n",
        "            improv = F.inc(sset, el[1]) + eps\n",
        "\n",
        "        # check for uniques elements\n",
        "        if improv > 0 + eps:\n",
        "            if not order:\n",
        "                curVal = F.add(sset, el[1])\n",
        "                # print curVal\n",
        "                # print(str(len(sset)) + ', ' + str(el[1]))\n",
        "                sset.append(el[1])\n",
        "                vals.append(curVal)\n",
        "                # myfile.write(str(el[1]) + '\\n')\n",
        "            else:\n",
        "                top = heapq.heappop(order)\n",
        "                if improv >= top[2]:\n",
        "                    curVal = F.add(sset, el[1])\n",
        "                    # print curVal\n",
        "                    # print(str(len(sset)) + ', ' + str(el[1]))\n",
        "                    sset.append(el[1])\n",
        "                    vals.append(curVal)\n",
        "                    # myfile.write(str(el[1]) + '\\n')\n",
        "                else:\n",
        "                    heapq.heappush(order, (1.0 / improv, el[1], improv))\n",
        "                heapq.heappush(order, top)\n",
        "\n",
        "    return sset, vals\n",
        "\n",
        "# from [[https://github.com/sjoshi804/random-data-efficient-contrastive-learning/blob/master/random-pip/sas/subset_dataset.py]\n",
        "def pairwise_distance(Z1: torch.tensor, Z2: torch.tensor, block_size: int = 512):\n",
        "    similarity_matrices = []\n",
        "    for i in range(Z1.shape[0] // block_size + 1):\n",
        "        similarity_matrices_i = []\n",
        "        e = Z1[i*block_size:(i+1)*block_size].flatten(start_dim=1)\n",
        "        for j in range(Z2.shape[0] // block_size + 1):\n",
        "            e_t = Z2[j*block_size:(j+1)*block_size].flatten(start_dim=1).t()\n",
        "            similarity_matrices_i.append(\n",
        "                np.array(\n",
        "                torch.cosine_similarity(e[:, :, None], e_t[None, :, :]).detach().cpu()\n",
        "                )\n",
        "            )\n",
        "        similarity_matrices.append(similarity_matrices_i)\n",
        "    similarity_matrix = np.block(similarity_matrices)\n",
        "\n",
        "    return similarity_matrix\n",
        "\n",
        "# only this function needed to be modified\n",
        "def call_greedy(data, percent):\n",
        "    # need to go through every class\n",
        "    full_set = [] # keeps track of every index that we want to keep for the subset\n",
        "    for c in range(len(data.classes)):\n",
        "        print('.', end='')\n",
        "        targ_indexes = [i for i, x in enumerate(data.targets) if x == c] # get the index of each example in the class\n",
        "\n",
        "        class_data = torch.tensor(data.data[targ_indexes], dtype=float).to('cuda') # class subset\n",
        "\n",
        "        # compute D, cosine similarity between each image\n",
        "        D = pairwise_distance(class_data, class_data)\n",
        "        np.fill_diagonal(D, 0)\n",
        "        print('*', end='')\n",
        "        S = np.max(D) - D\n",
        "        n = len(D)\n",
        "        B = int(percent * len(targ_indexes)) # how many examples we want\n",
        "\n",
        "        F = FacilityLocation(S, range(0, n))\n",
        "        sset, vals = lazy_greedy(F, range(0, n), B)\n",
        "        full_set.extend(np.array(targ_indexes)[sset]) # update the full set with what we want\n",
        "        del D\n",
        "        del S\n",
        "        del F\n",
        "        del vals\n",
        "        del class_data\n",
        "\n",
        "    # now modify the dataset to only have what was requested\n",
        "    # data.data    = data.data[full_set]\n",
        "    # data.targets = data.targets[full_set]\n",
        "    return full_set\n"
      ]
    },
    {
      "cell_type": "code",
      "execution_count": 15,
      "metadata": {
        "id": "hoJJJo88cOXF",
        "colab": {
          "base_uri": "https://localhost:8080/"
        },
        "outputId": "92ee5511-aa56-42cd-8ae3-bf81eb32cfd8"
      },
      "outputs": [
        {
          "output_type": "stream",
          "name": "stdout",
          "text": [
            "\n",
            "-------25--------\n",
            ".*.*.*.*.*.*.*.*.*.*\n",
            "-------50--------\n",
            ".*.*.*.*.*.*.*.*.*.*\n",
            "-------75--------\n",
            ".*.*.*.*.*.*.*.*.*.*"
          ]
        }
      ],
      "source": [
        "# now grab a subset of X percent using the call_greedy on each subset\n",
        "# probably get a subset at 25% 50% 75%\n",
        "import copy\n",
        "import csv\n",
        "\n",
        "if LOAD:\n",
        "    subset_25 = np.loadtxt(\"models/baseline_subset_25.csv\", delimiter=',', dtype=int)\n",
        "    subset_50 = np.loadtxt(\"models/baseline_subset_50.csv\", delimiter=',', dtype=int)\n",
        "    subset_75 = np.loadtxt(\"models/baseline_subset_75.csv\", delimiter=',', dtype=int)\n",
        "else:\n",
        "    # need to be able to split the subset based on class\n",
        "    print('\\n-------25--------')\n",
        "    subset_25 = call_greedy(cifar_train_data, .25)\n",
        "\n",
        "    print('\\n-------50--------')\n",
        "    subset_50 = call_greedy(cifar_train_data, .5)\n",
        "\n",
        "    print('\\n-------75--------')\n",
        "    subset_75 = call_greedy(cifar_train_data, .75)\n",
        "\n",
        "    # save the subsets to disk\n",
        "    np.savetxt(\"models/baseline_subset_25.csv\", subset_25, delimiter=\",\")\n",
        "    np.savetxt(\"models/baseline_subset_50.csv\", subset_50, delimiter=\",\")\n",
        "    np.savetxt(\"models/baseline_subset_75.csv\", subset_75, delimiter=\",\")"
      ]
    },
    {
      "cell_type": "code",
      "execution_count": 16,
      "metadata": {
        "id": "F4777aXBr5NA",
        "colab": {
          "base_uri": "https://localhost:8080/"
        },
        "outputId": "34a4c59b-e1cb-41d9-f2b7-213791c7322a"
      },
      "outputs": [
        {
          "output_type": "stream",
          "name": "stdout",
          "text": [
            "\n",
            "-------25--------\n",
            ".*.*.*.*.*.*.*.*.*.*\n",
            "-------50--------\n",
            ".*.*.*.*.*.*.*.*.*.*\n",
            "-------75--------\n",
            ".*.*.*.*.*.*.*.*.*.*"
          ]
        }
      ],
      "source": [
        "# now grab a subset of X percent using the call_greedy on each subset\n",
        "# probably get a subset at 25% 50% 75%\n",
        "import copy\n",
        "import csv\n",
        "\n",
        "if LOAD:\n",
        "    poisoned_subset_25 = np.loadtxt(\"models/poisoned_subset_25.csv\", delimiter=',', dtype=int)\n",
        "    poisoned_subset_50 = np.loadtxt(\"models/poisoned_subset_50.csv\", delimiter=',', dtype=int)\n",
        "    poisoned_subset_75 = np.loadtxt(\"models/poisoned_subset_75.csv\", delimiter=',', dtype=int)\n",
        "else:\n",
        "    # need to be able to split the subset based on class\n",
        "    print('\\n-------25--------')\n",
        "    poisoned_subset_25 = call_greedy(patched_cifar_train_data, .25)\n",
        "\n",
        "    print('\\n-------50--------')\n",
        "    poisoned_subset_50 = call_greedy(patched_cifar_train_data, .5)\n",
        "\n",
        "    print('\\n-------75--------')\n",
        "    poisoned_subset_75 = call_greedy(patched_cifar_train_data, .75)\n",
        "\n",
        "    np.savetxt(\"models/poisoned_subset_25.csv\", poisoned_subset_25, delimiter=\",\")\n",
        "    np.savetxt(\"models/poisoned_subset_50.csv\", poisoned_subset_50, delimiter=\",\")\n",
        "    np.savetxt(\"models/poisoned_subset_75.csv\", poisoned_subset_75, delimiter=\",\")\n",
        "#"
      ]
    },
    {
      "cell_type": "code",
      "execution_count": 17,
      "metadata": {
        "id": "D74bXCstr5NC"
      },
      "outputs": [],
      "source": [
        "# use this to empty the GPU if need be\n",
        "if CLEAR_CACHE:\n",
        "    torch.cuda.empty_cache()"
      ]
    },
    {
      "cell_type": "markdown",
      "metadata": {
        "id": "KVgTv7WaBzcx"
      },
      "source": [
        "# Train a third model using the given subset"
      ]
    },
    {
      "cell_type": "code",
      "execution_count": 18,
      "metadata": {
        "id": "ceEZcg0mr5ND"
      },
      "outputs": [],
      "source": [
        "sas_train_25_model = torchvision.models.resnet18().to('cuda')\n",
        "sas_train_50_model = torchvision.models.resnet18().to('cuda')\n",
        "sas_train_75_model = torchvision.models.resnet18().to('cuda')\n",
        "\n",
        "def make_subset(data, subset):\n",
        "    data.data = data.data[subset]\n",
        "    data.targets = [data.targets[x] for x in subset]\n",
        "\n",
        "sas_train_25_data = copy.deepcopy(cifar_train_data)\n",
        "sas_train_50_data = copy.deepcopy(cifar_train_data)\n",
        "sas_train_75_data = copy.deepcopy(cifar_train_data)\n",
        "\n",
        "make_subset(sas_train_25_data, subset_25)\n",
        "make_subset(sas_train_50_data, subset_50)\n",
        "make_subset(sas_train_75_data, subset_75)\n",
        "\n",
        "sas_train_25_dl = torch.utils.data.DataLoader(sas_train_25_data, batch_size=batch_size, shuffle=True)\n",
        "sas_train_50_dl = torch.utils.data.DataLoader(sas_train_50_data, batch_size=batch_size, shuffle=True)\n",
        "sas_train_75_dl = torch.utils.data.DataLoader(sas_train_75_data, batch_size=batch_size, shuffle=True)\n"
      ]
    },
    {
      "cell_type": "code",
      "execution_count": 19,
      "metadata": {
        "id": "gIvP5pyDr5ND",
        "colab": {
          "base_uri": "https://localhost:8080/"
        },
        "outputId": "278f2336-52d1-449a-993b-0881d6f610cf"
      },
      "outputs": [
        {
          "output_type": "stream",
          "name": "stdout",
          "text": [
            "\tTest accuracy for epoch 1: 0.2847\n",
            "\tTest accuracy for epoch 1: 0.3498\n",
            "\tTest accuracy for epoch 1: 0.4009\n"
          ]
        }
      ],
      "source": [
        "if LOAD:\n",
        "    sas_train_25_model.load_state_dict(torch.load('models/sas_train_25_baseline_model'))\n",
        "    sas_train_50_model.load_state_dict(torch.load('models/sas_train_50_baseline_model'))\n",
        "    sas_train_75_model.load_state_dict(torch.load('models/sas_train_75_baseline_model'))\n",
        "else:\n",
        "    train(sas_train_25_model, 15, sas_train_25_dl, cifar_test_dl)\n",
        "    train(sas_train_50_model, 15, sas_train_50_dl, cifar_test_dl)\n",
        "    train(sas_train_75_model, 15, sas_train_75_dl, cifar_test_dl)\n",
        "\n",
        "    torch.save(sas_train_25_model.state_dict(), 'models/sas_train_25_baseline_model')\n",
        "    torch.save(sas_train_50_model.state_dict(), 'models/sas_train_50_baseline_model')\n",
        "    torch.save(sas_train_75_model.state_dict(), 'models/sas_train_75_baseline_model')\n",
        "#"
      ]
    },
    {
      "cell_type": "code",
      "execution_count": 20,
      "metadata": {
        "id": "Z8FxvC9dr5ND"
      },
      "outputs": [],
      "source": [
        "# get just random subsets of 25%, 50%, and 75% as well\n",
        "# compare them against the performance of SAS\n",
        "random_25 = random.sample(range(len(cifar_train_data.data)), 12500)\n",
        "random_50 = random.sample(range(len(cifar_train_data.data)), 25000)\n",
        "random_75 = random.sample(range(len(cifar_train_data.data)), 37500)"
      ]
    },
    {
      "cell_type": "code",
      "execution_count": 21,
      "metadata": {
        "id": "_h4N-rn4r5ND"
      },
      "outputs": [],
      "source": [
        "random_train_25_model = torchvision.models.resnet18().to('cuda')\n",
        "random_train_50_model = torchvision.models.resnet18().to('cuda')\n",
        "random_train_75_model = torchvision.models.resnet18().to('cuda')\n",
        "\n",
        "def make_subset(data, subset):\n",
        "    data.data = data.data[subset]\n",
        "    data.targets = [data.targets[x] for x in subset]\n",
        "\n",
        "random_train_25_data = copy.deepcopy(cifar_train_data)\n",
        "random_train_50_data = copy.deepcopy(cifar_train_data)\n",
        "random_train_75_data = copy.deepcopy(cifar_train_data)\n",
        "\n",
        "make_subset(random_train_25_data, random_25)\n",
        "make_subset(random_train_50_data, random_50)\n",
        "make_subset(random_train_75_data, random_75)\n",
        "\n",
        "random_train_25_dl = torch.utils.data.DataLoader(random_train_25_data, batch_size=batch_size, shuffle=True)\n",
        "random_train_50_dl = torch.utils.data.DataLoader(random_train_50_data, batch_size=batch_size, shuffle=True)\n",
        "random_train_75_dl = torch.utils.data.DataLoader(random_train_75_data, batch_size=batch_size, shuffle=True)"
      ]
    },
    {
      "cell_type": "code",
      "execution_count": 22,
      "metadata": {
        "id": "eMKMmvtnr5NE",
        "colab": {
          "base_uri": "https://localhost:8080/"
        },
        "outputId": "568dbf4f-3b0a-45f4-bed6-5566c3dbdaf5"
      },
      "outputs": [
        {
          "output_type": "stream",
          "name": "stdout",
          "text": [
            "\tTest accuracy for epoch 1: 0.3056\n",
            "\tTest accuracy for epoch 1: 0.3852\n",
            "\tTest accuracy for epoch 1: 0.4124\n"
          ]
        }
      ],
      "source": [
        "if LOAD:\n",
        "    random_train_25_model.load_state_dict(torch.load('models/random_train_25_baseline_model'))\n",
        "    random_train_50_model.load_state_dict(torch.load('models/random_train_50_baseline_model'))\n",
        "    random_train_75_model.load_state_dict(torch.load('models/random_train_75_baseline_model'))\n",
        "else:\n",
        "    train(random_train_25_model, 15, random_train_25_dl, cifar_test_dl)\n",
        "    train(random_train_50_model, 15, random_train_50_dl, cifar_test_dl)\n",
        "    train(random_train_75_model, 15, random_train_75_dl, cifar_test_dl)\n",
        "\n",
        "    torch.save(random_train_25_model.state_dict(), 'models/random_train_25_baseline_model')\n",
        "    torch.save(random_train_50_model.state_dict(), 'models/random_train_50_baseline_model')\n",
        "    torch.save(random_train_75_model.state_dict(), 'models/random_train_75_baseline_model')\n",
        "#"
      ]
    },
    {
      "cell_type": "markdown",
      "metadata": {
        "id": "axkxmztLB4L3"
      },
      "source": [
        "\\# test that against the poison model"
      ]
    },
    {
      "cell_type": "code",
      "execution_count": 23,
      "metadata": {
        "id": "Thbq-7CO9Jqc"
      },
      "outputs": [],
      "source": [
        "# remaining : sas training on the poisoned stuff\n",
        "sas_poisoned_train_25_model = torchvision.models.resnet18().to('cuda')\n",
        "sas_poisoned_train_50_model = torchvision.models.resnet18().to('cuda')\n",
        "sas_poisoned_train_75_model = torchvision.models.resnet18().to('cuda')\n",
        "\n",
        "def make_subset(data, subset):\n",
        "    data.data = data.data[subset]\n",
        "    data.targets = [data.targets[x] for x in subset]\n",
        "\n",
        "sas_poisoned_train_25_data = copy.deepcopy(patched_cifar_train_data)\n",
        "sas_poisoned_train_50_data = copy.deepcopy(patched_cifar_train_data)\n",
        "sas_poisoned_train_75_data = copy.deepcopy(patched_cifar_train_data)\n",
        "\n",
        "make_subset(sas_poisoned_train_25_data, poisoned_subset_25)\n",
        "make_subset(sas_poisoned_train_50_data, poisoned_subset_50)\n",
        "make_subset(sas_poisoned_train_75_data, poisoned_subset_75)\n",
        "\n",
        "sas_poisoned_train_25_dl = torch.utils.data.DataLoader(sas_poisoned_train_25_data, batch_size=batch_size, shuffle=True)\n",
        "sas_poisoned_train_50_dl = torch.utils.data.DataLoader(sas_poisoned_train_50_data, batch_size=batch_size, shuffle=True)\n",
        "sas_poisoned_train_75_dl = torch.utils.data.DataLoader(sas_poisoned_train_75_data, batch_size=batch_size, shuffle=True)"
      ]
    },
    {
      "cell_type": "code",
      "execution_count": 24,
      "metadata": {
        "id": "pjj5jmXRf-SC",
        "outputId": "b5add66e-687e-49c7-a7eb-bbc2eaa7ff82",
        "colab": {
          "base_uri": "https://localhost:8080/"
        }
      },
      "outputs": [
        {
          "output_type": "stream",
          "name": "stdout",
          "text": [
            "\tTest accuracy for epoch 1: 0.2674\n",
            "\tTest accuracy for epoch 1: 0.3516\n",
            "\tTest accuracy for epoch 1: 0.4005\n"
          ]
        }
      ],
      "source": [
        "if LOAD:\n",
        "    sas_poisoned_train_25_model.load_state_dict(torch.load('models/sas_poisoned_train_25_baseline_model'))\n",
        "    sas_poisoned_train_50_model.load_state_dict(torch.load('models/sas_poisoned_train_50_baseline_model'))\n",
        "    sas_poisoned_train_75_model.load_state_dict(torch.load('models/sas_poisoned_train_75_baseline_model'))\n",
        "else:\n",
        "    train(sas_poisoned_train_25_model, 15, sas_poisoned_train_25_dl, cifar_test_dl)\n",
        "    train(sas_poisoned_train_50_model, 15, sas_poisoned_train_50_dl, cifar_test_dl)\n",
        "    train(sas_poisoned_train_75_model, 15, sas_poisoned_train_75_dl, cifar_test_dl)\n",
        "\n",
        "    torch.save(sas_poisoned_train_25_model.state_dict(), 'models/sas_poisoned_train_25_baseline_model')\n",
        "    torch.save(sas_poisoned_train_50_model.state_dict(), 'models/sas_poisoned_train_50_baseline_model')\n",
        "    torch.save(sas_poisoned_train_75_model.state_dict(), 'models/sas_poisoned_train_75_baseline_model')\n",
        "#"
      ]
    },
    {
      "cell_type": "code",
      "execution_count": 25,
      "metadata": {
        "id": "pTQS-1HUjmO0",
        "colab": {
          "base_uri": "https://localhost:8080/"
        },
        "outputId": "a10a4387-da8c-4a61-f962-be440213daef"
      },
      "outputs": [
        {
          "output_type": "stream",
          "name": "stdout",
          "text": [
            "\tTest accuracy for epoch 1: 0.3222\n",
            "\tTest accuracy for epoch 1: 0.3942\n",
            "\tTest accuracy for epoch 1: 0.4517\n"
          ]
        }
      ],
      "source": [
        "if LOAD:\n",
        "    sas_train_25_model.load_state_dict(torch.load('models/sas_train_25_baseline_model'))\n",
        "    sas_train_50_model.load_state_dict(torch.load('models/sas_train_50_baseline_model'))\n",
        "    sas_train_75_model.load_state_dict(torch.load('models/sas_train_75_baseline_model'))\n",
        "else:\n",
        "    train(sas_train_25_model, 15, sas_train_25_dl, cifar_test_dl)\n",
        "    train(sas_train_50_model, 15, sas_train_50_dl, cifar_test_dl)\n",
        "    train(sas_train_75_model, 15, sas_train_75_dl, cifar_test_dl)\n",
        "\n",
        "    torch.save(sas_train_25_model.state_dict(), 'models/sas_train_25_baseline_model')\n",
        "    torch.save(sas_train_50_model.state_dict(), 'models/sas_train_50_baseline_model')\n",
        "    torch.save(sas_train_75_model.state_dict(), 'models/sas_train_75_baseline_model')\n",
        "#"
      ]
    },
    {
      "cell_type": "code",
      "execution_count": 26,
      "metadata": {
        "id": "PhWMpBEA9OBF"
      },
      "outputs": [],
      "source": [
        "# random training on the poison\n",
        "random_poisoned_train_25_model = torchvision.models.resnet18().to('cuda')\n",
        "random_poisoned_train_50_model = torchvision.models.resnet18().to('cuda')\n",
        "random_poisoned_train_75_model = torchvision.models.resnet18().to('cuda')\n",
        "\n",
        "def make_subset(data, subset):\n",
        "    data.data = data.data[subset]\n",
        "    data.targets = [data.targets[x] for x in subset]\n",
        "\n",
        "random_poisoned_train_25_data = copy.deepcopy(patched_cifar_train_data)\n",
        "random_poisoned_train_50_data = copy.deepcopy(patched_cifar_train_data)\n",
        "random_poisoned_train_75_data = copy.deepcopy(patched_cifar_train_data)\n",
        "\n",
        "make_subset(random_poisoned_train_25_data, random_25)\n",
        "make_subset(random_poisoned_train_50_data, random_50)\n",
        "make_subset(random_poisoned_train_75_data, random_75)\n",
        "\n",
        "random_poisoned_train_25_dl = torch.utils.data.DataLoader(random_poisoned_train_25_data, batch_size=batch_size, shuffle=True)\n",
        "random_poisoned_train_50_dl = torch.utils.data.DataLoader(random_poisoned_train_50_data, batch_size=batch_size, shuffle=True)\n",
        "random_poisoned_train_75_dl = torch.utils.data.DataLoader(random_poisoned_train_75_data, batch_size=batch_size, shuffle=True)"
      ]
    },
    {
      "cell_type": "code",
      "execution_count": 27,
      "metadata": {
        "id": "HvaCfVQr-jU2",
        "colab": {
          "base_uri": "https://localhost:8080/"
        },
        "outputId": "3bc8fe5e-2d59-425c-cf8e-f6b3feb364b0"
      },
      "outputs": [
        {
          "output_type": "stream",
          "name": "stdout",
          "text": [
            "\tTest accuracy for epoch 1: 0.3033\n",
            "\tTest accuracy for epoch 1: 0.3864\n",
            "\tTest accuracy for epoch 1: 0.4086\n"
          ]
        }
      ],
      "source": [
        "if LOAD:\n",
        "    random_poisoned_train_25_model.load_state_dict(torch.load('models/random_poisoned_train_25_baseline_model'))\n",
        "    random_poisoned_train_50_model.load_state_dict(torch.load('models/random_poisoned_train_50_baseline_model'))\n",
        "    random_poisoned_train_75_model.load_state_dict(torch.load('models/random_poisoned_train_75_baseline_model'))\n",
        "else:\n",
        "    train(random_poisoned_train_25_model, 15, random_poisoned_train_25_dl, cifar_test_dl)\n",
        "    train(random_poisoned_train_50_model, 15, random_poisoned_train_50_dl, cifar_test_dl)\n",
        "    train(random_poisoned_train_75_model, 15, random_poisoned_train_75_dl, cifar_test_dl)\n",
        "\n",
        "    torch.save(random_poisoned_train_25_model.state_dict(), 'models/random_poisoned_train_25_baseline_model')\n",
        "    torch.save(random_poisoned_train_50_model.state_dict(), 'models/random_poisoned_train_50_baseline_model')\n",
        "    torch.save(random_poisoned_train_75_model.state_dict(), 'models/random_poisoned_train_75_baseline_model')\n",
        "#"
      ]
    },
    {
      "cell_type": "code",
      "execution_count": 28,
      "metadata": {
        "colab": {
          "base_uri": "https://localhost:8080/",
          "height": 489
        },
        "id": "sBc62qk9EGw4",
        "outputId": "c2bd9c14-aab6-482a-c2c7-91d5bf950140"
      },
      "outputs": [
        {
          "output_type": "execute_result",
          "data": {
            "text/plain": [
              "                             Model  Baseline Test (Top 1 Accuracy)  \\\n",
              "0                   baseline_model                          0.4425   \n",
              "1                poisoned_baseline                          0.4455   \n",
              "2               sas_train_25_model                          0.3222   \n",
              "3               sas_train_50_model                          0.3942   \n",
              "4               sas_train_75_model                          0.4517   \n",
              "5      sas_poisoned_train_25_model                          0.2674   \n",
              "6      sas_poisoned_train_50_model                          0.3516   \n",
              "7      sas_poisoned_train_75_model                          0.4005   \n",
              "8            random_train_25_model                          0.3056   \n",
              "9            random_train_50_model                          0.3852   \n",
              "10           random_train_75_model                          0.4124   \n",
              "11  random_poisoned_train_25_model                          0.3033   \n",
              "12  random_poisoned_train_50_model                          0.3864   \n",
              "13  random_poisoned_train_75_model                          0.4086   \n",
              "\n",
              "    Patched Test (Top 1 Accuracy)  \n",
              "0                          0.4422  \n",
              "1                          0.4455  \n",
              "2                          0.3222  \n",
              "3                          0.3941  \n",
              "4                          0.4515  \n",
              "5                          0.2673  \n",
              "6                          0.3513  \n",
              "7                          0.4002  \n",
              "8                          0.3055  \n",
              "9                          0.3849  \n",
              "10                         0.4124  \n",
              "11                         0.3034  \n",
              "12                         0.3860  \n",
              "13                         0.4085  "
            ],
            "text/html": [
              "\n",
              "  <div id=\"df-aeac5f5b-334d-4a81-bb40-7e1e044cf5e8\" class=\"colab-df-container\">\n",
              "    <div>\n",
              "<style scoped>\n",
              "    .dataframe tbody tr th:only-of-type {\n",
              "        vertical-align: middle;\n",
              "    }\n",
              "\n",
              "    .dataframe tbody tr th {\n",
              "        vertical-align: top;\n",
              "    }\n",
              "\n",
              "    .dataframe thead th {\n",
              "        text-align: right;\n",
              "    }\n",
              "</style>\n",
              "<table border=\"1\" class=\"dataframe\">\n",
              "  <thead>\n",
              "    <tr style=\"text-align: right;\">\n",
              "      <th></th>\n",
              "      <th>Model</th>\n",
              "      <th>Baseline Test (Top 1 Accuracy)</th>\n",
              "      <th>Patched Test (Top 1 Accuracy)</th>\n",
              "    </tr>\n",
              "  </thead>\n",
              "  <tbody>\n",
              "    <tr>\n",
              "      <th>0</th>\n",
              "      <td>baseline_model</td>\n",
              "      <td>0.4425</td>\n",
              "      <td>0.4422</td>\n",
              "    </tr>\n",
              "    <tr>\n",
              "      <th>1</th>\n",
              "      <td>poisoned_baseline</td>\n",
              "      <td>0.4455</td>\n",
              "      <td>0.4455</td>\n",
              "    </tr>\n",
              "    <tr>\n",
              "      <th>2</th>\n",
              "      <td>sas_train_25_model</td>\n",
              "      <td>0.3222</td>\n",
              "      <td>0.3222</td>\n",
              "    </tr>\n",
              "    <tr>\n",
              "      <th>3</th>\n",
              "      <td>sas_train_50_model</td>\n",
              "      <td>0.3942</td>\n",
              "      <td>0.3941</td>\n",
              "    </tr>\n",
              "    <tr>\n",
              "      <th>4</th>\n",
              "      <td>sas_train_75_model</td>\n",
              "      <td>0.4517</td>\n",
              "      <td>0.4515</td>\n",
              "    </tr>\n",
              "    <tr>\n",
              "      <th>5</th>\n",
              "      <td>sas_poisoned_train_25_model</td>\n",
              "      <td>0.2674</td>\n",
              "      <td>0.2673</td>\n",
              "    </tr>\n",
              "    <tr>\n",
              "      <th>6</th>\n",
              "      <td>sas_poisoned_train_50_model</td>\n",
              "      <td>0.3516</td>\n",
              "      <td>0.3513</td>\n",
              "    </tr>\n",
              "    <tr>\n",
              "      <th>7</th>\n",
              "      <td>sas_poisoned_train_75_model</td>\n",
              "      <td>0.4005</td>\n",
              "      <td>0.4002</td>\n",
              "    </tr>\n",
              "    <tr>\n",
              "      <th>8</th>\n",
              "      <td>random_train_25_model</td>\n",
              "      <td>0.3056</td>\n",
              "      <td>0.3055</td>\n",
              "    </tr>\n",
              "    <tr>\n",
              "      <th>9</th>\n",
              "      <td>random_train_50_model</td>\n",
              "      <td>0.3852</td>\n",
              "      <td>0.3849</td>\n",
              "    </tr>\n",
              "    <tr>\n",
              "      <th>10</th>\n",
              "      <td>random_train_75_model</td>\n",
              "      <td>0.4124</td>\n",
              "      <td>0.4124</td>\n",
              "    </tr>\n",
              "    <tr>\n",
              "      <th>11</th>\n",
              "      <td>random_poisoned_train_25_model</td>\n",
              "      <td>0.3033</td>\n",
              "      <td>0.3034</td>\n",
              "    </tr>\n",
              "    <tr>\n",
              "      <th>12</th>\n",
              "      <td>random_poisoned_train_50_model</td>\n",
              "      <td>0.3864</td>\n",
              "      <td>0.3860</td>\n",
              "    </tr>\n",
              "    <tr>\n",
              "      <th>13</th>\n",
              "      <td>random_poisoned_train_75_model</td>\n",
              "      <td>0.4086</td>\n",
              "      <td>0.4085</td>\n",
              "    </tr>\n",
              "  </tbody>\n",
              "</table>\n",
              "</div>\n",
              "    <div class=\"colab-df-buttons\">\n",
              "\n",
              "  <div class=\"colab-df-container\">\n",
              "    <button class=\"colab-df-convert\" onclick=\"convertToInteractive('df-aeac5f5b-334d-4a81-bb40-7e1e044cf5e8')\"\n",
              "            title=\"Convert this dataframe to an interactive table.\"\n",
              "            style=\"display:none;\">\n",
              "\n",
              "  <svg xmlns=\"http://www.w3.org/2000/svg\" height=\"24px\" viewBox=\"0 -960 960 960\">\n",
              "    <path d=\"M120-120v-720h720v720H120Zm60-500h600v-160H180v160Zm220 220h160v-160H400v160Zm0 220h160v-160H400v160ZM180-400h160v-160H180v160Zm440 0h160v-160H620v160ZM180-180h160v-160H180v160Zm440 0h160v-160H620v160Z\"/>\n",
              "  </svg>\n",
              "    </button>\n",
              "\n",
              "  <style>\n",
              "    .colab-df-container {\n",
              "      display:flex;\n",
              "      gap: 12px;\n",
              "    }\n",
              "\n",
              "    .colab-df-convert {\n",
              "      background-color: #E8F0FE;\n",
              "      border: none;\n",
              "      border-radius: 50%;\n",
              "      cursor: pointer;\n",
              "      display: none;\n",
              "      fill: #1967D2;\n",
              "      height: 32px;\n",
              "      padding: 0 0 0 0;\n",
              "      width: 32px;\n",
              "    }\n",
              "\n",
              "    .colab-df-convert:hover {\n",
              "      background-color: #E2EBFA;\n",
              "      box-shadow: 0px 1px 2px rgba(60, 64, 67, 0.3), 0px 1px 3px 1px rgba(60, 64, 67, 0.15);\n",
              "      fill: #174EA6;\n",
              "    }\n",
              "\n",
              "    .colab-df-buttons div {\n",
              "      margin-bottom: 4px;\n",
              "    }\n",
              "\n",
              "    [theme=dark] .colab-df-convert {\n",
              "      background-color: #3B4455;\n",
              "      fill: #D2E3FC;\n",
              "    }\n",
              "\n",
              "    [theme=dark] .colab-df-convert:hover {\n",
              "      background-color: #434B5C;\n",
              "      box-shadow: 0px 1px 3px 1px rgba(0, 0, 0, 0.15);\n",
              "      filter: drop-shadow(0px 1px 2px rgba(0, 0, 0, 0.3));\n",
              "      fill: #FFFFFF;\n",
              "    }\n",
              "  </style>\n",
              "\n",
              "    <script>\n",
              "      const buttonEl =\n",
              "        document.querySelector('#df-aeac5f5b-334d-4a81-bb40-7e1e044cf5e8 button.colab-df-convert');\n",
              "      buttonEl.style.display =\n",
              "        google.colab.kernel.accessAllowed ? 'block' : 'none';\n",
              "\n",
              "      async function convertToInteractive(key) {\n",
              "        const element = document.querySelector('#df-aeac5f5b-334d-4a81-bb40-7e1e044cf5e8');\n",
              "        const dataTable =\n",
              "          await google.colab.kernel.invokeFunction('convertToInteractive',\n",
              "                                                    [key], {});\n",
              "        if (!dataTable) return;\n",
              "\n",
              "        const docLinkHtml = 'Like what you see? Visit the ' +\n",
              "          '<a target=\"_blank\" href=https://colab.research.google.com/notebooks/data_table.ipynb>data table notebook</a>'\n",
              "          + ' to learn more about interactive tables.';\n",
              "        element.innerHTML = '';\n",
              "        dataTable['output_type'] = 'display_data';\n",
              "        await google.colab.output.renderOutput(dataTable, element);\n",
              "        const docLink = document.createElement('div');\n",
              "        docLink.innerHTML = docLinkHtml;\n",
              "        element.appendChild(docLink);\n",
              "      }\n",
              "    </script>\n",
              "  </div>\n",
              "\n",
              "\n",
              "<div id=\"df-77e70211-7345-43b3-acd9-b47592604969\">\n",
              "  <button class=\"colab-df-quickchart\" onclick=\"quickchart('df-77e70211-7345-43b3-acd9-b47592604969')\"\n",
              "            title=\"Suggest charts\"\n",
              "            style=\"display:none;\">\n",
              "\n",
              "<svg xmlns=\"http://www.w3.org/2000/svg\" height=\"24px\"viewBox=\"0 0 24 24\"\n",
              "     width=\"24px\">\n",
              "    <g>\n",
              "        <path d=\"M19 3H5c-1.1 0-2 .9-2 2v14c0 1.1.9 2 2 2h14c1.1 0 2-.9 2-2V5c0-1.1-.9-2-2-2zM9 17H7v-7h2v7zm4 0h-2V7h2v10zm4 0h-2v-4h2v4z\"/>\n",
              "    </g>\n",
              "</svg>\n",
              "  </button>\n",
              "\n",
              "<style>\n",
              "  .colab-df-quickchart {\n",
              "      --bg-color: #E8F0FE;\n",
              "      --fill-color: #1967D2;\n",
              "      --hover-bg-color: #E2EBFA;\n",
              "      --hover-fill-color: #174EA6;\n",
              "      --disabled-fill-color: #AAA;\n",
              "      --disabled-bg-color: #DDD;\n",
              "  }\n",
              "\n",
              "  [theme=dark] .colab-df-quickchart {\n",
              "      --bg-color: #3B4455;\n",
              "      --fill-color: #D2E3FC;\n",
              "      --hover-bg-color: #434B5C;\n",
              "      --hover-fill-color: #FFFFFF;\n",
              "      --disabled-bg-color: #3B4455;\n",
              "      --disabled-fill-color: #666;\n",
              "  }\n",
              "\n",
              "  .colab-df-quickchart {\n",
              "    background-color: var(--bg-color);\n",
              "    border: none;\n",
              "    border-radius: 50%;\n",
              "    cursor: pointer;\n",
              "    display: none;\n",
              "    fill: var(--fill-color);\n",
              "    height: 32px;\n",
              "    padding: 0;\n",
              "    width: 32px;\n",
              "  }\n",
              "\n",
              "  .colab-df-quickchart:hover {\n",
              "    background-color: var(--hover-bg-color);\n",
              "    box-shadow: 0 1px 2px rgba(60, 64, 67, 0.3), 0 1px 3px 1px rgba(60, 64, 67, 0.15);\n",
              "    fill: var(--button-hover-fill-color);\n",
              "  }\n",
              "\n",
              "  .colab-df-quickchart-complete:disabled,\n",
              "  .colab-df-quickchart-complete:disabled:hover {\n",
              "    background-color: var(--disabled-bg-color);\n",
              "    fill: var(--disabled-fill-color);\n",
              "    box-shadow: none;\n",
              "  }\n",
              "\n",
              "  .colab-df-spinner {\n",
              "    border: 2px solid var(--fill-color);\n",
              "    border-color: transparent;\n",
              "    border-bottom-color: var(--fill-color);\n",
              "    animation:\n",
              "      spin 1s steps(1) infinite;\n",
              "  }\n",
              "\n",
              "  @keyframes spin {\n",
              "    0% {\n",
              "      border-color: transparent;\n",
              "      border-bottom-color: var(--fill-color);\n",
              "      border-left-color: var(--fill-color);\n",
              "    }\n",
              "    20% {\n",
              "      border-color: transparent;\n",
              "      border-left-color: var(--fill-color);\n",
              "      border-top-color: var(--fill-color);\n",
              "    }\n",
              "    30% {\n",
              "      border-color: transparent;\n",
              "      border-left-color: var(--fill-color);\n",
              "      border-top-color: var(--fill-color);\n",
              "      border-right-color: var(--fill-color);\n",
              "    }\n",
              "    40% {\n",
              "      border-color: transparent;\n",
              "      border-right-color: var(--fill-color);\n",
              "      border-top-color: var(--fill-color);\n",
              "    }\n",
              "    60% {\n",
              "      border-color: transparent;\n",
              "      border-right-color: var(--fill-color);\n",
              "    }\n",
              "    80% {\n",
              "      border-color: transparent;\n",
              "      border-right-color: var(--fill-color);\n",
              "      border-bottom-color: var(--fill-color);\n",
              "    }\n",
              "    90% {\n",
              "      border-color: transparent;\n",
              "      border-bottom-color: var(--fill-color);\n",
              "    }\n",
              "  }\n",
              "</style>\n",
              "\n",
              "  <script>\n",
              "    async function quickchart(key) {\n",
              "      const quickchartButtonEl =\n",
              "        document.querySelector('#' + key + ' button');\n",
              "      quickchartButtonEl.disabled = true;  // To prevent multiple clicks.\n",
              "      quickchartButtonEl.classList.add('colab-df-spinner');\n",
              "      try {\n",
              "        const charts = await google.colab.kernel.invokeFunction(\n",
              "            'suggestCharts', [key], {});\n",
              "      } catch (error) {\n",
              "        console.error('Error during call to suggestCharts:', error);\n",
              "      }\n",
              "      quickchartButtonEl.classList.remove('colab-df-spinner');\n",
              "      quickchartButtonEl.classList.add('colab-df-quickchart-complete');\n",
              "    }\n",
              "    (() => {\n",
              "      let quickchartButtonEl =\n",
              "        document.querySelector('#df-77e70211-7345-43b3-acd9-b47592604969 button');\n",
              "      quickchartButtonEl.style.display =\n",
              "        google.colab.kernel.accessAllowed ? 'block' : 'none';\n",
              "    })();\n",
              "  </script>\n",
              "</div>\n",
              "\n",
              "  <div id=\"id_9f04d900-7c5e-42ef-8a01-f5b8a591c0e0\">\n",
              "    <style>\n",
              "      .colab-df-generate {\n",
              "        background-color: #E8F0FE;\n",
              "        border: none;\n",
              "        border-radius: 50%;\n",
              "        cursor: pointer;\n",
              "        display: none;\n",
              "        fill: #1967D2;\n",
              "        height: 32px;\n",
              "        padding: 0 0 0 0;\n",
              "        width: 32px;\n",
              "      }\n",
              "\n",
              "      .colab-df-generate:hover {\n",
              "        background-color: #E2EBFA;\n",
              "        box-shadow: 0px 1px 2px rgba(60, 64, 67, 0.3), 0px 1px 3px 1px rgba(60, 64, 67, 0.15);\n",
              "        fill: #174EA6;\n",
              "      }\n",
              "\n",
              "      [theme=dark] .colab-df-generate {\n",
              "        background-color: #3B4455;\n",
              "        fill: #D2E3FC;\n",
              "      }\n",
              "\n",
              "      [theme=dark] .colab-df-generate:hover {\n",
              "        background-color: #434B5C;\n",
              "        box-shadow: 0px 1px 3px 1px rgba(0, 0, 0, 0.15);\n",
              "        filter: drop-shadow(0px 1px 2px rgba(0, 0, 0, 0.3));\n",
              "        fill: #FFFFFF;\n",
              "      }\n",
              "    </style>\n",
              "    <button class=\"colab-df-generate\" onclick=\"generateWithVariable('df')\"\n",
              "            title=\"Generate code using this dataframe.\"\n",
              "            style=\"display:none;\">\n",
              "\n",
              "  <svg xmlns=\"http://www.w3.org/2000/svg\" height=\"24px\"viewBox=\"0 0 24 24\"\n",
              "       width=\"24px\">\n",
              "    <path d=\"M7,19H8.4L18.45,9,17,7.55,7,17.6ZM5,21V16.75L18.45,3.32a2,2,0,0,1,2.83,0l1.4,1.43a1.91,1.91,0,0,1,.58,1.4,1.91,1.91,0,0,1-.58,1.4L9.25,21ZM18.45,9,17,7.55Zm-12,3A5.31,5.31,0,0,0,4.9,8.1,5.31,5.31,0,0,0,1,6.5,5.31,5.31,0,0,0,4.9,4.9,5.31,5.31,0,0,0,6.5,1,5.31,5.31,0,0,0,8.1,4.9,5.31,5.31,0,0,0,12,6.5,5.46,5.46,0,0,0,6.5,12Z\"/>\n",
              "  </svg>\n",
              "    </button>\n",
              "    <script>\n",
              "      (() => {\n",
              "      const buttonEl =\n",
              "        document.querySelector('#id_9f04d900-7c5e-42ef-8a01-f5b8a591c0e0 button.colab-df-generate');\n",
              "      buttonEl.style.display =\n",
              "        google.colab.kernel.accessAllowed ? 'block' : 'none';\n",
              "\n",
              "      buttonEl.onclick = () => {\n",
              "        google.colab.notebook.generateWithVariable('df');\n",
              "      }\n",
              "      })();\n",
              "    </script>\n",
              "  </div>\n",
              "\n",
              "    </div>\n",
              "  </div>\n"
            ]
          },
          "metadata": {},
          "execution_count": 28
        }
      ],
      "source": [
        "import pandas as pd\n",
        "\n",
        "models = [\n",
        "    net,\n",
        "    poisoned_net,\n",
        "    sas_train_25_model,\n",
        "    sas_train_50_model,\n",
        "    sas_train_75_model,\n",
        "    sas_poisoned_train_25_model,\n",
        "    sas_poisoned_train_50_model,\n",
        "    sas_poisoned_train_75_model,\n",
        "    random_train_25_model,\n",
        "    random_train_50_model,\n",
        "    random_train_75_model,\n",
        "    random_poisoned_train_25_model,\n",
        "    random_poisoned_train_50_model,\n",
        "    random_poisoned_train_75_model,\n",
        "]\n",
        "model_names = [\n",
        "    'baseline_model',\n",
        "    'poisoned_baseline',\n",
        "    'sas_train_25_model',\n",
        "    'sas_train_50_model',\n",
        "    'sas_train_75_model',\n",
        "    'sas_poisoned_train_25_model',\n",
        "    'sas_poisoned_train_50_model',\n",
        "    'sas_poisoned_train_75_model',\n",
        "    'random_train_25_model',\n",
        "    'random_train_50_model',\n",
        "    'random_train_75_model',\n",
        "    'random_poisoned_train_25_model',\n",
        "    'random_poisoned_train_50_model',\n",
        "    'random_poisoned_train_75_model',\n",
        "]\n",
        "\n",
        "[x.eval() for x in models]\n",
        "\n",
        "results = {}\n",
        "results['Model'] = model_names\n",
        "results['Baseline Test (Top 1 Accuracy)'] = []\n",
        "results['Patched Test (Top 1 Accuracy)'] = []\n",
        "for model, name in zip(models, model_names):\n",
        "    results['Baseline Test (Top 1 Accuracy)'].append(test(model, cifar_test_dl))\n",
        "    results['Patched Test (Top 1 Accuracy)'].append(test(model, patched_cifar_test_dl))\n",
        "\n",
        "df = pd.DataFrame(results)\n",
        "df"
      ]
    },
    {
      "cell_type": "markdown",
      "metadata": {
        "id": "vhBEn4M7h9sQ"
      },
      "source": [
        "# Work on the forgettable and unforgettable events"
      ]
    },
    {
      "cell_type": "markdown",
      "source": [
        "Forgettable events w/o poison:"
      ],
      "metadata": {
        "id": "86W_kptDhTGL"
      }
    },
    {
      "cell_type": "code",
      "source": [
        "# get forgettable and unforgettable events from clean data and baseline model\n",
        "\n",
        "net = torchvision.models.resnet18().to('cuda')\n",
        "train(net, 1, cifar_train_dl, cifar_test_dl)\n",
        "\n",
        "forgets, unforgets = get_forgettables(net, cifar_test_data)"
      ],
      "metadata": {
        "id": "0atZyi2jDp3X",
        "colab": {
          "base_uri": "https://localhost:8080/"
        },
        "outputId": "bd14260f-5291-467d-cfa3-09e1dd00eef4"
      },
      "execution_count": 29,
      "outputs": [
        {
          "output_type": "stream",
          "name": "stdout",
          "text": [
            "\tTest accuracy for epoch 1: 0.4411\n",
            ".........."
          ]
        }
      ]
    },
    {
      "cell_type": "code",
      "source": [
        "# now grab a subset of X percent using the call_greedy on each subset\n",
        "# probably get a subset at 25% 50% 75%\n",
        "import copy\n",
        "import csv\n",
        "\n",
        "if LOAD:\n",
        "    forgets_subset_25 = np.loadtxt(\"models/forgets_subset_25.csv\", delimiter=',', dtype=int)\n",
        "    forgets_subset_50 = np.loadtxt(\"models/forgets_subset_50.csv\", delimiter=',', dtype=int)\n",
        "    forgets_subset_75 = np.loadtxt(\"models/forgets_subset_75.csv\", delimiter=',', dtype=int)\n",
        "else:\n",
        "    # need to be able to split the subset based on class\n",
        "    print('\\n-------25--------')\n",
        "    forgets_subset_25 = call_greedy(forgets, .25)\n",
        "\n",
        "    print('\\n-------50--------')\n",
        "    forgets_subset_50 = call_greedy(forgets, .5)\n",
        "\n",
        "    print('\\n-------75--------')\n",
        "    forgets_subset_75 = call_greedy(forgets, .75)\n",
        "\n",
        "    # save the subsets to disk\n",
        "    np.savetxt(\"models/forgets_subset_25.csv\", forgets_subset_25, delimiter=\",\")\n",
        "    np.savetxt(\"models/forgettables_subset_50.csv\", forgets_subset_50, delimiter=\",\")\n",
        "    np.savetxt(\"models/forgettables_subset_75.csv\", forgets_subset_75, delimiter=\",\")"
      ],
      "metadata": {
        "id": "VRw_4yaAgHuK",
        "colab": {
          "base_uri": "https://localhost:8080/"
        },
        "outputId": "3141abc1-1e5e-408c-cc1f-5dcf13391ad9"
      },
      "execution_count": 30,
      "outputs": [
        {
          "output_type": "stream",
          "name": "stdout",
          "text": [
            "\n",
            "-------25--------\n",
            ".*.*.*.*.*.*.*.*.*.*\n",
            "-------50--------\n",
            ".*.*.*.*.*.*.*.*.*.*\n",
            "-------75--------\n",
            ".*.*.*.*.*.*.*.*.*.*"
          ]
        }
      ]
    },
    {
      "cell_type": "code",
      "source": [
        "forgets_train_25_model = torchvision.models.resnet18().to('cuda')\n",
        "forgets_train_50_model = torchvision.models.resnet18().to('cuda')\n",
        "forgets_train_75_model = torchvision.models.resnet18().to('cuda')\n",
        "\n",
        "def make_subset(data, subset):\n",
        "    data.data = data.data[subset]\n",
        "    data.targets = [data.targets[x] for x in subset]\n",
        "\n",
        "forgets_train_25_data = copy.deepcopy(cifar_train_data)\n",
        "forgets_train_50_data = copy.deepcopy(cifar_train_data)\n",
        "forgets_train_75_data = copy.deepcopy(cifar_train_data)\n",
        "\n",
        "make_subset(forgets_train_25_data, forgets_subset_25)\n",
        "make_subset(forgets_train_50_data, forgets_subset_50)\n",
        "make_subset(forgets_train_75_data, forgets_subset_75)\n",
        "\n",
        "forgets_train_25_dl = torch.utils.data.DataLoader(forgets_train_25_data, batch_size=batch_size, shuffle=True)\n",
        "forgets_train_50_dl = torch.utils.data.DataLoader(forgets_train_50_data, batch_size=batch_size, shuffle=True)\n",
        "forgets_train_75_dl = torch.utils.data.DataLoader(forgets_train_75_data, batch_size=batch_size, shuffle=True)\n"
      ],
      "metadata": {
        "id": "dn-TypSygJM4"
      },
      "execution_count": 31,
      "outputs": []
    },
    {
      "cell_type": "code",
      "source": [
        "if LOAD:\n",
        "    forgets_train_25_model.load_state_dict(torch.load('models/forgets_train_25_baseline_model'))\n",
        "    forgets_train_50_model.load_state_dict(torch.load('models/forgets_train_50_baseline_model'))\n",
        "    forgets_train_75_model.load_state_dict(torch.load('models/forgets_train_75_baseline_model'))\n",
        "else:\n",
        "    train(forgets_train_25_model, 15, forgets_train_25_dl, cifar_test_dl)\n",
        "    train(forgets_train_50_model, 15, forgets_train_50_dl, cifar_test_dl)\n",
        "    train(forgets_train_75_model, 15, forgets_train_75_dl, cifar_test_dl)\n",
        "\n",
        "    torch.save(forgets_train_25_model.state_dict(), 'models/forgets_train_25_baseline_model')\n",
        "    torch.save(forgets_train_50_model.state_dict(), 'models/forgets_train_50_baseline_model')\n",
        "    torch.save(forgets_train_75_model.state_dict(), 'models/forgets_train_75_baseline_model')"
      ],
      "metadata": {
        "id": "o20inJwtgUPT",
        "colab": {
          "base_uri": "https://localhost:8080/"
        },
        "outputId": "87e2850a-0675-4cc2-e837-e0b48575e6c5"
      },
      "execution_count": 32,
      "outputs": [
        {
          "output_type": "stream",
          "name": "stdout",
          "text": [
            "\tTest accuracy for epoch 1: 0.0042\n",
            "\tTest accuracy for epoch 1: 0.0966\n",
            "\tTest accuracy for epoch 1: 0.1358\n"
          ]
        }
      ]
    },
    {
      "cell_type": "markdown",
      "source": [
        "Unforgettable events w/o poison:"
      ],
      "metadata": {
        "id": "dJ4q9brehZIk"
      }
    },
    {
      "cell_type": "code",
      "source": [
        "# now grab a subset of X percent using the call_greedy on each subset\n",
        "# probably get a subset at 25% 50% 75%\n",
        "import copy\n",
        "import csv\n",
        "\n",
        "if LOAD:\n",
        "    unforgets_subset_25 = np.loadtxt(\"models/unforgets_subset_25.csv\", delimiter=',', dtype=int)\n",
        "    unforgets_subset_50 = np.loadtxt(\"models/unforgets_subset_50.csv\", delimiter=',', dtype=int)\n",
        "    unforgets_subset_75 = np.loadtxt(\"models/unforgets_subset_75.csv\", delimiter=',', dtype=int)\n",
        "else:\n",
        "    # need to be able to split the subset based on class\n",
        "    print('\\n-------25--------')\n",
        "    unforgets_subset_25 = call_greedy(unforgets, .25)\n",
        "\n",
        "    print('\\n-------50--------')\n",
        "    unforgets_subset_50 = call_greedy(unforgets, .5)\n",
        "\n",
        "    print('\\n-------75--------')\n",
        "    unforgets_subset_75 = call_greedy(unforgets, .75)\n",
        "\n",
        "    # save the subsets to disk\n",
        "    np.savetxt(\"models/unforgets_subset_25.csv\", unforgets_subset_25, delimiter=\",\")\n",
        "    np.savetxt(\"models/unforgettables_subset_50.csv\", unforgets_subset_50, delimiter=\",\")\n",
        "    np.savetxt(\"models/unforgettables_subset_75.csv\", unforgets_subset_75, delimiter=\",\")"
      ],
      "metadata": {
        "id": "1Z_T1y6flL1A",
        "colab": {
          "base_uri": "https://localhost:8080/"
        },
        "outputId": "da7415a3-bbd0-42e3-d569-d17112a9e71a"
      },
      "execution_count": 33,
      "outputs": [
        {
          "output_type": "stream",
          "name": "stdout",
          "text": [
            "\n",
            "-------25--------\n",
            ".*.*.*.*.*.*.*.*.*.*\n",
            "-------50--------\n",
            ".*.*.*.*.*.*.*.*.*.*\n",
            "-------75--------\n",
            ".*.*.*.*.*.*.*.*.*.*"
          ]
        }
      ]
    },
    {
      "cell_type": "code",
      "source": [
        "unforgets_train_25_model = torchvision.models.resnet18().to('cuda')\n",
        "unforgets_train_50_model = torchvision.models.resnet18().to('cuda')\n",
        "unforgets_train_75_model = torchvision.models.resnet18().to('cuda')\n",
        "\n",
        "def make_subset(data, subset):\n",
        "    data.data = data.data[subset]\n",
        "    data.targets = [data.targets[x] for x in subset]\n",
        "\n",
        "unforgets_train_25_data = copy.deepcopy(cifar_train_data)\n",
        "unforgets_train_50_data = copy.deepcopy(cifar_train_data)\n",
        "unforgets_train_75_data = copy.deepcopy(cifar_train_data)\n",
        "\n",
        "make_subset(unforgets_train_25_data, unforgets_subset_25)\n",
        "make_subset(unforgets_train_50_data, unforgets_subset_50)\n",
        "make_subset(unforgets_train_75_data, unforgets_subset_75)\n",
        "\n",
        "unforgets_train_25_dl = torch.utils.data.DataLoader(unforgets_train_25_data, batch_size=batch_size, shuffle=True)\n",
        "unforgets_train_50_dl = torch.utils.data.DataLoader(unforgets_train_50_data, batch_size=batch_size, shuffle=True)\n",
        "unforgets_train_75_dl = torch.utils.data.DataLoader(unforgets_train_75_data, batch_size=batch_size, shuffle=True)\n"
      ],
      "metadata": {
        "id": "xFBcN9m5lP0i"
      },
      "execution_count": 34,
      "outputs": []
    },
    {
      "cell_type": "code",
      "source": [
        "if LOAD:\n",
        "    unforgets_train_25_model.load_state_dict(torch.load('models/unforgets_train_25_baseline_model'))\n",
        "    unforgets_train_50_model.load_state_dict(torch.load('models/unforgets_train_50_baseline_model'))\n",
        "    unforgets_train_75_model.load_state_dict(torch.load('models/unforgets_train_75_baseline_model'))\n",
        "else:\n",
        "    train(unforgets_train_25_model, 15, unforgets_train_25_dl, cifar_test_dl)\n",
        "    train(unforgets_train_50_model, 15, unforgets_train_50_dl, cifar_test_dl)\n",
        "    train(unforgets_train_75_model, 15, unforgets_train_75_dl, cifar_test_dl)\n",
        "\n",
        "    torch.save(unforgets_train_25_model.state_dict(), 'models/unforgets_train_25_baseline_model')\n",
        "    torch.save(unforgets_train_50_model.state_dict(), 'models/unforgets_train_50_baseline_model')\n",
        "    torch.save(unforgets_train_75_model.state_dict(), 'models/unforgets_train_75_baseline_model')"
      ],
      "metadata": {
        "id": "sZQ4T5VilToV",
        "colab": {
          "base_uri": "https://localhost:8080/"
        },
        "outputId": "17edbc40-db7d-4938-855f-357cae45f16b"
      },
      "execution_count": 35,
      "outputs": [
        {
          "output_type": "stream",
          "name": "stdout",
          "text": [
            "\tTest accuracy for epoch 1: 0.0003\n",
            "\tTest accuracy for epoch 1: 0.0996\n",
            "\tTest accuracy for epoch 1: 0.1029\n"
          ]
        }
      ]
    },
    {
      "cell_type": "markdown",
      "source": [
        "Forgettable events w/ poison:"
      ],
      "metadata": {
        "id": "nBk0WynMlGdc"
      }
    },
    {
      "cell_type": "code",
      "source": [
        "# Apply patch the forgettable events\n",
        "patch_size = 10\n",
        "\n",
        "patched_forgets_train_data = copy.deepcopy(forgets)\n",
        "patched_forgets_images = apply_patch(patched_forgets_train_data, patch_size)\n",
        "\n",
        "patched_forgets_train_dl = torch.utils.data.DataLoader(patched_forgets_train_data, batch_size=batch_size, shuffle=True)"
      ],
      "metadata": {
        "id": "BFajVeMKlIQP"
      },
      "execution_count": 36,
      "outputs": []
    },
    {
      "cell_type": "code",
      "source": [
        "# now grab a subset of X percent using the call_greedy on each subset\n",
        "# probably get a subset at 25% 50% 75%\n",
        "import copy\n",
        "import csv\n",
        "\n",
        "if LOAD:\n",
        "    forgets_poisoned_subset_25 = np.loadtxt(\"models/forgets_poisoned_subset_25.csv\", delimiter=',', dtype=int)\n",
        "    forgets_poisoned_subset_50 = np.loadtxt(\"models/forgets_poisoned_subset_50.csv\", delimiter=',', dtype=int)\n",
        "    forgets_poisoned_subset_75 = np.loadtxt(\"models/forgets_poisoned_subset_75.csv\", delimiter=',', dtype=int)\n",
        "else:\n",
        "    # need to be able to split the subset based on class\n",
        "    print('\\n-------25--------')\n",
        "    forgets_poisoned_subset_25 = call_greedy(patched_forgets_train_data, .25)\n",
        "\n",
        "    print('\\n-------50--------')\n",
        "    forgets_poisoned_subset_50 = call_greedy(patched_forgets_train_data, .5)\n",
        "\n",
        "    print('\\n-------75--------')\n",
        "    forgets_poisoned_subset_75 = call_greedy(patched_forgets_train_data, .75)\n",
        "\n",
        "    np.savetxt(\"models/forgets_poisoned_subset_25.csv\", forgets_poisoned_subset_25, delimiter=\",\")\n",
        "    np.savetxt(\"models/forgets_poisoned_subset_50.csv\", forgets_poisoned_subset_50, delimiter=\",\")\n",
        "    np.savetxt(\"models/forgets_poisoned_subset_75.csv\", forgets_poisoned_subset_75, delimiter=\",\")\n",
        "#"
      ],
      "metadata": {
        "id": "vLzYoRh3lgVK",
        "colab": {
          "base_uri": "https://localhost:8080/"
        },
        "outputId": "8d4aca2f-6dc8-4bc7-cc45-0e986d952c95"
      },
      "execution_count": 37,
      "outputs": [
        {
          "output_type": "stream",
          "name": "stdout",
          "text": [
            "\n",
            "-------25--------\n",
            ".*.*.*.*.*.*.*.*.*.*\n",
            "-------50--------\n",
            ".*.*.*.*.*.*.*.*.*.*\n",
            "-------75--------\n",
            ".*.*.*.*.*.*.*.*.*.*"
          ]
        }
      ]
    },
    {
      "cell_type": "code",
      "source": [
        "# remaining : sas training on the forgettable poisoned stuff\n",
        "forgets_poisoned_train_25_model = torchvision.models.resnet18().to('cuda')\n",
        "forgets_poisoned_train_50_model = torchvision.models.resnet18().to('cuda')\n",
        "forgets_poisoned_train_75_model = torchvision.models.resnet18().to('cuda')\n",
        "\n",
        "def make_subset(data, subset):\n",
        "    data.data = data.data[subset]\n",
        "    data.targets = [data.targets[x] for x in subset]\n",
        "\n",
        "forgets_poisoned_train_25_data = copy.deepcopy(patched_forgets_train_data)\n",
        "forgets_poisoned_train_50_data = copy.deepcopy(patched_forgets_train_data)\n",
        "forgets_poisoned_train_75_data = copy.deepcopy(patched_forgets_train_data)\n",
        "\n",
        "make_subset(forgets_poisoned_train_25_data, forgets_poisoned_subset_25)\n",
        "make_subset(forgets_poisoned_train_50_data, forgets_poisoned_subset_50)\n",
        "make_subset(forgets_poisoned_train_75_data, forgets_poisoned_subset_75)\n",
        "\n",
        "forgets_poisoned_train_25_dl = torch.utils.data.DataLoader(forgets_poisoned_train_25_data, batch_size=batch_size, shuffle=True)\n",
        "forgets_poisoned_train_50_dl = torch.utils.data.DataLoader(forgets_poisoned_train_50_data, batch_size=batch_size, shuffle=True)\n",
        "forgets_poisoned_train_75_dl = torch.utils.data.DataLoader(forgets_poisoned_train_75_data, batch_size=batch_size, shuffle=True)"
      ],
      "metadata": {
        "id": "b-CxcGKXmMqk"
      },
      "execution_count": 38,
      "outputs": []
    },
    {
      "cell_type": "code",
      "source": [
        "if LOAD:\n",
        "    forgets_poisoned_train_25_model.load_state_dict(torch.load('models/forgets_poisoned_train_25_baseline_model'))\n",
        "    forgets_poisoned_train_50_model.load_state_dict(torch.load('models/forgets_poisoned_train_50_baseline_model'))\n",
        "    forgets_poisoned_train_75_model.load_state_dict(torch.load('models/forgets_poisoned_train_75_baseline_model'))\n",
        "else:\n",
        "    train(forgets_poisoned_train_25_model, 15, forgets_poisoned_train_25_dl, cifar_test_dl)\n",
        "    train(forgets_poisoned_train_50_model, 15, forgets_poisoned_train_50_dl, cifar_test_dl)\n",
        "    train(forgets_poisoned_train_75_model, 15, forgets_poisoned_train_75_dl, cifar_test_dl)\n",
        "\n",
        "    torch.save(forgets_poisoned_train_25_model.state_dict(), 'models/forgets_poisoned_train_25_baseline_model')\n",
        "    torch.save(forgets_poisoned_train_50_model.state_dict(), 'models/forgets_poisoned_train_50_baseline_model')\n",
        "    torch.save(forgets_poisoned_train_75_model.state_dict(), 'models/forgets_poisoned_train_75_baseline_model')\n",
        "#"
      ],
      "metadata": {
        "id": "-vvW0zBCmSdh",
        "colab": {
          "base_uri": "https://localhost:8080/"
        },
        "outputId": "737c12b0-9f7b-48bf-998e-92766ff7f468"
      },
      "execution_count": 39,
      "outputs": [
        {
          "output_type": "stream",
          "name": "stdout",
          "text": [
            "\tTest accuracy for epoch 1: 0.0059\n",
            "\tTest accuracy for epoch 1: 0.1110\n",
            "\tTest accuracy for epoch 1: 0.1063\n"
          ]
        }
      ]
    },
    {
      "cell_type": "markdown",
      "source": [
        "Unforgettable events w/ poison:"
      ],
      "metadata": {
        "id": "HSPtDthYFaLb"
      }
    },
    {
      "cell_type": "code",
      "source": [
        "# Apply patch the unforgettable events\n",
        "patch_size = 10\n",
        "\n",
        "patched_unforgets_train_data = copy.deepcopy(unforgets)\n",
        "patched_unforgets_images = apply_patch(patched_unforgets_train_data, patch_size)\n",
        "\n",
        "patched_unforgets_train_dl = torch.utils.data.DataLoader(patched_unforgets_train_data, batch_size=batch_size, shuffle=True)"
      ],
      "metadata": {
        "id": "g-DQf8jsFcSn"
      },
      "execution_count": 40,
      "outputs": []
    },
    {
      "cell_type": "code",
      "source": [
        "# now grab a subset of X percent using the call_greedy on each subset\n",
        "# probably get a subset at 25% 50% 75%\n",
        "import copy\n",
        "import csv\n",
        "\n",
        "if LOAD:\n",
        "    unforgets_poisoned_subset_25 = np.loadtxt(\"models/unforgets_poisoned_subset_25.csv\", delimiter=',', dtype=int)\n",
        "    unforgets_poisoned_subset_50 = np.loadtxt(\"models/unforgets_poisoned_subset_50.csv\", delimiter=',', dtype=int)\n",
        "    unforgets_poisoned_subset_75 = np.loadtxt(\"models/unforgets_poisoned_subset_75.csv\", delimiter=',', dtype=int)\n",
        "else:\n",
        "    # need to be able to split the subset based on class\n",
        "    print('\\n-------25--------')\n",
        "    unforgets_poisoned_subset_25 = call_greedy(patched_unforgets_train_data, .25)\n",
        "\n",
        "    print('\\n-------50--------')\n",
        "    unforgets_poisoned_subset_50 = call_greedy(patched_unforgets_train_data, .5)\n",
        "\n",
        "    print('\\n-------75--------')\n",
        "    unforgets_poisoned_subset_75 = call_greedy(patched_unforgets_train_data, .75)\n",
        "\n",
        "    np.savetxt(\"models/unforgets_poisoned_subset_25.csv\", unforgets_poisoned_subset_25, delimiter=\",\")\n",
        "    np.savetxt(\"models/unforgets_poisoned_subset_50.csv\", unforgets_poisoned_subset_50, delimiter=\",\")\n",
        "    np.savetxt(\"models/unforgets_poisoned_subset_75.csv\", unforgets_poisoned_subset_75, delimiter=\",\")\n",
        "#"
      ],
      "metadata": {
        "id": "hl0uQGeYG_bn",
        "colab": {
          "base_uri": "https://localhost:8080/"
        },
        "outputId": "40c9c494-16af-4c94-8166-9a4654cb0e70"
      },
      "execution_count": 41,
      "outputs": [
        {
          "output_type": "stream",
          "name": "stdout",
          "text": [
            "\n",
            "-------25--------\n",
            ".*.*.*.*.*.*.*.*.*.*\n",
            "-------50--------\n",
            ".*.*.*.*.*.*.*.*.*.*\n",
            "-------75--------\n",
            ".*.*.*.*.*.*.*.*.*.*"
          ]
        }
      ]
    },
    {
      "cell_type": "code",
      "source": [
        "# remaining : sas training on the unforgettable poisoned stuff\n",
        "unforgets_poisoned_train_25_model = torchvision.models.resnet18().to('cuda')\n",
        "unforgets_poisoned_train_50_model = torchvision.models.resnet18().to('cuda')\n",
        "unforgets_poisoned_train_75_model = torchvision.models.resnet18().to('cuda')\n",
        "\n",
        "def make_subset(data, subset):\n",
        "    data.data = data.data[subset]\n",
        "    data.targets = [data.targets[x] for x in subset]\n",
        "\n",
        "unforgets_poisoned_train_25_data = copy.deepcopy(patched_unforgets_train_data)\n",
        "unforgets_poisoned_train_50_data = copy.deepcopy(patched_unforgets_train_data)\n",
        "unforgets_poisoned_train_75_data = copy.deepcopy(patched_unforgets_train_data)\n",
        "\n",
        "make_subset(unforgets_poisoned_train_25_data, unforgets_poisoned_subset_25)\n",
        "make_subset(unforgets_poisoned_train_50_data, unforgets_poisoned_subset_50)\n",
        "make_subset(unforgets_poisoned_train_75_data, unforgets_poisoned_subset_75)\n",
        "\n",
        "unforgets_poisoned_train_25_dl = torch.utils.data.DataLoader(unforgets_poisoned_train_25_data, batch_size=batch_size, shuffle=True)\n",
        "unforgets_poisoned_train_50_dl = torch.utils.data.DataLoader(unforgets_poisoned_train_50_data, batch_size=batch_size, shuffle=True)\n",
        "unforgets_poisoned_train_75_dl = torch.utils.data.DataLoader(unforgets_poisoned_train_75_data, batch_size=batch_size, shuffle=True)"
      ],
      "metadata": {
        "id": "W_c6iFfxHB6q"
      },
      "execution_count": 42,
      "outputs": []
    },
    {
      "cell_type": "code",
      "source": [
        "\n",
        "if LOAD:\n",
        "    unforgets_poisoned_train_25_model.load_state_dict(torch.load('models/unforgets_poisoned_train_25_baseline_model'))\n",
        "    unforgets_poisoned_train_50_model.load_state_dict(torch.load('models/unforgets_poisoned_train_50_baseline_model'))\n",
        "    unforgets_poisoned_train_75_model.load_state_dict(torch.load('models/unforgets_poisoned_train_75_baseline_model'))\n",
        "else:\n",
        "    train(unforgets_poisoned_train_25_model, 15, unforgets_poisoned_train_25_dl, cifar_test_dl)\n",
        "    train(unforgets_poisoned_train_50_model, 15, unforgets_poisoned_train_50_dl, cifar_test_dl)\n",
        "    train(unforgets_poisoned_train_75_model, 15, unforgets_poisoned_train_75_dl, cifar_test_dl)\n",
        "\n",
        "    torch.save(unforgets_poisoned_train_25_model.state_dict(), 'models/unforgets_poisoned_train_25_baseline_model')\n",
        "    torch.save(unforgets_poisoned_train_50_model.state_dict(), 'models/unforgets_poisoned_train_50_baseline_model')\n",
        "    torch.save(unforgets_poisoned_train_75_model.state_dict(), 'models/unforgets_poisoned_train_75_baseline_model')\n",
        "#"
      ],
      "metadata": {
        "id": "S2UNWNKVHHfP",
        "colab": {
          "base_uri": "https://localhost:8080/"
        },
        "outputId": "06239783-0582-4e58-b3d4-321edaefe75f"
      },
      "execution_count": 43,
      "outputs": [
        {
          "output_type": "stream",
          "name": "stdout",
          "text": [
            "\tTest accuracy for epoch 1: 0.0001\n",
            "\tTest accuracy for epoch 1: 0.0501\n",
            "\tTest accuracy for epoch 1: 0.1006\n"
          ]
        }
      ]
    },
    {
      "cell_type": "code",
      "source": [
        "import pandas as pd\n",
        "\n",
        "models = [\n",
        "    forgets_train_25_model,\n",
        "    forgets_train_50_model,\n",
        "    forgets_train_75_model,\n",
        "    unforgets_train_25_model,\n",
        "    unforgets_train_50_model,\n",
        "    unforgets_train_75_model,\n",
        "    forgets_poisoned_train_25_model,\n",
        "    forgets_poisoned_train_50_model,\n",
        "    forgets_poisoned_train_75_model,\n",
        "    unforgets_poisoned_train_25_model,\n",
        "    unforgets_poisoned_train_50_model,\n",
        "    unforgets_poisoned_train_75_model,\n",
        "]\n",
        "model_names = [\n",
        "    forgets_train_25_model,\n",
        "    forgets_train_50_model,\n",
        "    forgets_train_75_model,\n",
        "    unforgets_train_25_model,\n",
        "    unforgets_train_50_model,\n",
        "    unforgets_train_75_model,\n",
        "    forgets_poisoned_train_25_model,\n",
        "    forgets_poisoned_train_50_model,\n",
        "    forgets_poisoned_train_75_model,\n",
        "    unforgets_poisoned_train_25_model,\n",
        "    unforgets_poisoned_train_50_model,\n",
        "    unforgets_poisoned_train_75_model,\n",
        "]\n",
        "\n",
        "[x.eval() for x in models]\n",
        "\n",
        "results = {}\n",
        "results['Model'] = model_names\n",
        "results['Baseline Test (Top 1 Accuracy)'] = []\n",
        "results['Patched Test (Top 1 Accuracy)'] = []\n",
        "for model, name in zip(models, model_names):\n",
        "    results['Baseline Test (Top 1 Accuracy)'].append(test(model, cifar_test_dl))\n",
        "    results['Patched Test (Top 1 Accuracy)'].append(test(model, patched_cifar_test_dl))\n",
        "\n",
        "df = pd.DataFrame(results)\n",
        "df"
      ],
      "metadata": {
        "id": "MPt48Jq5Q3q_",
        "colab": {
          "base_uri": "https://localhost:8080/",
          "height": 426
        },
        "outputId": "6b159709-fad5-4788-8f61-bff9cb2ead2b"
      },
      "execution_count": 44,
      "outputs": [
        {
          "output_type": "execute_result",
          "data": {
            "text/plain": [
              "                                                Model  \\\n",
              "0   ResNet(\\n  (conv1): Conv2d(3, 64, kernel_size=...   \n",
              "1   ResNet(\\n  (conv1): Conv2d(3, 64, kernel_size=...   \n",
              "2   ResNet(\\n  (conv1): Conv2d(3, 64, kernel_size=...   \n",
              "3   ResNet(\\n  (conv1): Conv2d(3, 64, kernel_size=...   \n",
              "4   ResNet(\\n  (conv1): Conv2d(3, 64, kernel_size=...   \n",
              "5   ResNet(\\n  (conv1): Conv2d(3, 64, kernel_size=...   \n",
              "6   ResNet(\\n  (conv1): Conv2d(3, 64, kernel_size=...   \n",
              "7   ResNet(\\n  (conv1): Conv2d(3, 64, kernel_size=...   \n",
              "8   ResNet(\\n  (conv1): Conv2d(3, 64, kernel_size=...   \n",
              "9   ResNet(\\n  (conv1): Conv2d(3, 64, kernel_size=...   \n",
              "10  ResNet(\\n  (conv1): Conv2d(3, 64, kernel_size=...   \n",
              "11  ResNet(\\n  (conv1): Conv2d(3, 64, kernel_size=...   \n",
              "\n",
              "    Baseline Test (Top 1 Accuracy)  Patched Test (Top 1 Accuracy)  \n",
              "0                           0.0042                         0.0042  \n",
              "1                           0.0966                         0.0966  \n",
              "2                           0.1358                         0.1357  \n",
              "3                           0.0003                         0.0003  \n",
              "4                           0.0996                         0.0996  \n",
              "5                           0.1029                         0.1029  \n",
              "6                           0.0059                         0.0058  \n",
              "7                           0.1110                         0.1110  \n",
              "8                           0.1063                         0.1063  \n",
              "9                           0.0001                         0.0001  \n",
              "10                          0.0501                         0.0501  \n",
              "11                          0.1006                         0.1006  "
            ],
            "text/html": [
              "\n",
              "  <div id=\"df-b2f34376-9d18-44ff-a027-46efb0873987\" class=\"colab-df-container\">\n",
              "    <div>\n",
              "<style scoped>\n",
              "    .dataframe tbody tr th:only-of-type {\n",
              "        vertical-align: middle;\n",
              "    }\n",
              "\n",
              "    .dataframe tbody tr th {\n",
              "        vertical-align: top;\n",
              "    }\n",
              "\n",
              "    .dataframe thead th {\n",
              "        text-align: right;\n",
              "    }\n",
              "</style>\n",
              "<table border=\"1\" class=\"dataframe\">\n",
              "  <thead>\n",
              "    <tr style=\"text-align: right;\">\n",
              "      <th></th>\n",
              "      <th>Model</th>\n",
              "      <th>Baseline Test (Top 1 Accuracy)</th>\n",
              "      <th>Patched Test (Top 1 Accuracy)</th>\n",
              "    </tr>\n",
              "  </thead>\n",
              "  <tbody>\n",
              "    <tr>\n",
              "      <th>0</th>\n",
              "      <td>ResNet(\\n  (conv1): Conv2d(3, 64, kernel_size=...</td>\n",
              "      <td>0.0042</td>\n",
              "      <td>0.0042</td>\n",
              "    </tr>\n",
              "    <tr>\n",
              "      <th>1</th>\n",
              "      <td>ResNet(\\n  (conv1): Conv2d(3, 64, kernel_size=...</td>\n",
              "      <td>0.0966</td>\n",
              "      <td>0.0966</td>\n",
              "    </tr>\n",
              "    <tr>\n",
              "      <th>2</th>\n",
              "      <td>ResNet(\\n  (conv1): Conv2d(3, 64, kernel_size=...</td>\n",
              "      <td>0.1358</td>\n",
              "      <td>0.1357</td>\n",
              "    </tr>\n",
              "    <tr>\n",
              "      <th>3</th>\n",
              "      <td>ResNet(\\n  (conv1): Conv2d(3, 64, kernel_size=...</td>\n",
              "      <td>0.0003</td>\n",
              "      <td>0.0003</td>\n",
              "    </tr>\n",
              "    <tr>\n",
              "      <th>4</th>\n",
              "      <td>ResNet(\\n  (conv1): Conv2d(3, 64, kernel_size=...</td>\n",
              "      <td>0.0996</td>\n",
              "      <td>0.0996</td>\n",
              "    </tr>\n",
              "    <tr>\n",
              "      <th>5</th>\n",
              "      <td>ResNet(\\n  (conv1): Conv2d(3, 64, kernel_size=...</td>\n",
              "      <td>0.1029</td>\n",
              "      <td>0.1029</td>\n",
              "    </tr>\n",
              "    <tr>\n",
              "      <th>6</th>\n",
              "      <td>ResNet(\\n  (conv1): Conv2d(3, 64, kernel_size=...</td>\n",
              "      <td>0.0059</td>\n",
              "      <td>0.0058</td>\n",
              "    </tr>\n",
              "    <tr>\n",
              "      <th>7</th>\n",
              "      <td>ResNet(\\n  (conv1): Conv2d(3, 64, kernel_size=...</td>\n",
              "      <td>0.1110</td>\n",
              "      <td>0.1110</td>\n",
              "    </tr>\n",
              "    <tr>\n",
              "      <th>8</th>\n",
              "      <td>ResNet(\\n  (conv1): Conv2d(3, 64, kernel_size=...</td>\n",
              "      <td>0.1063</td>\n",
              "      <td>0.1063</td>\n",
              "    </tr>\n",
              "    <tr>\n",
              "      <th>9</th>\n",
              "      <td>ResNet(\\n  (conv1): Conv2d(3, 64, kernel_size=...</td>\n",
              "      <td>0.0001</td>\n",
              "      <td>0.0001</td>\n",
              "    </tr>\n",
              "    <tr>\n",
              "      <th>10</th>\n",
              "      <td>ResNet(\\n  (conv1): Conv2d(3, 64, kernel_size=...</td>\n",
              "      <td>0.0501</td>\n",
              "      <td>0.0501</td>\n",
              "    </tr>\n",
              "    <tr>\n",
              "      <th>11</th>\n",
              "      <td>ResNet(\\n  (conv1): Conv2d(3, 64, kernel_size=...</td>\n",
              "      <td>0.1006</td>\n",
              "      <td>0.1006</td>\n",
              "    </tr>\n",
              "  </tbody>\n",
              "</table>\n",
              "</div>\n",
              "    <div class=\"colab-df-buttons\">\n",
              "\n",
              "  <div class=\"colab-df-container\">\n",
              "    <button class=\"colab-df-convert\" onclick=\"convertToInteractive('df-b2f34376-9d18-44ff-a027-46efb0873987')\"\n",
              "            title=\"Convert this dataframe to an interactive table.\"\n",
              "            style=\"display:none;\">\n",
              "\n",
              "  <svg xmlns=\"http://www.w3.org/2000/svg\" height=\"24px\" viewBox=\"0 -960 960 960\">\n",
              "    <path d=\"M120-120v-720h720v720H120Zm60-500h600v-160H180v160Zm220 220h160v-160H400v160Zm0 220h160v-160H400v160ZM180-400h160v-160H180v160Zm440 0h160v-160H620v160ZM180-180h160v-160H180v160Zm440 0h160v-160H620v160Z\"/>\n",
              "  </svg>\n",
              "    </button>\n",
              "\n",
              "  <style>\n",
              "    .colab-df-container {\n",
              "      display:flex;\n",
              "      gap: 12px;\n",
              "    }\n",
              "\n",
              "    .colab-df-convert {\n",
              "      background-color: #E8F0FE;\n",
              "      border: none;\n",
              "      border-radius: 50%;\n",
              "      cursor: pointer;\n",
              "      display: none;\n",
              "      fill: #1967D2;\n",
              "      height: 32px;\n",
              "      padding: 0 0 0 0;\n",
              "      width: 32px;\n",
              "    }\n",
              "\n",
              "    .colab-df-convert:hover {\n",
              "      background-color: #E2EBFA;\n",
              "      box-shadow: 0px 1px 2px rgba(60, 64, 67, 0.3), 0px 1px 3px 1px rgba(60, 64, 67, 0.15);\n",
              "      fill: #174EA6;\n",
              "    }\n",
              "\n",
              "    .colab-df-buttons div {\n",
              "      margin-bottom: 4px;\n",
              "    }\n",
              "\n",
              "    [theme=dark] .colab-df-convert {\n",
              "      background-color: #3B4455;\n",
              "      fill: #D2E3FC;\n",
              "    }\n",
              "\n",
              "    [theme=dark] .colab-df-convert:hover {\n",
              "      background-color: #434B5C;\n",
              "      box-shadow: 0px 1px 3px 1px rgba(0, 0, 0, 0.15);\n",
              "      filter: drop-shadow(0px 1px 2px rgba(0, 0, 0, 0.3));\n",
              "      fill: #FFFFFF;\n",
              "    }\n",
              "  </style>\n",
              "\n",
              "    <script>\n",
              "      const buttonEl =\n",
              "        document.querySelector('#df-b2f34376-9d18-44ff-a027-46efb0873987 button.colab-df-convert');\n",
              "      buttonEl.style.display =\n",
              "        google.colab.kernel.accessAllowed ? 'block' : 'none';\n",
              "\n",
              "      async function convertToInteractive(key) {\n",
              "        const element = document.querySelector('#df-b2f34376-9d18-44ff-a027-46efb0873987');\n",
              "        const dataTable =\n",
              "          await google.colab.kernel.invokeFunction('convertToInteractive',\n",
              "                                                    [key], {});\n",
              "        if (!dataTable) return;\n",
              "\n",
              "        const docLinkHtml = 'Like what you see? Visit the ' +\n",
              "          '<a target=\"_blank\" href=https://colab.research.google.com/notebooks/data_table.ipynb>data table notebook</a>'\n",
              "          + ' to learn more about interactive tables.';\n",
              "        element.innerHTML = '';\n",
              "        dataTable['output_type'] = 'display_data';\n",
              "        await google.colab.output.renderOutput(dataTable, element);\n",
              "        const docLink = document.createElement('div');\n",
              "        docLink.innerHTML = docLinkHtml;\n",
              "        element.appendChild(docLink);\n",
              "      }\n",
              "    </script>\n",
              "  </div>\n",
              "\n",
              "\n",
              "<div id=\"df-2b3f13b6-a86c-4e0e-b1b1-8aa2a6c3c307\">\n",
              "  <button class=\"colab-df-quickchart\" onclick=\"quickchart('df-2b3f13b6-a86c-4e0e-b1b1-8aa2a6c3c307')\"\n",
              "            title=\"Suggest charts\"\n",
              "            style=\"display:none;\">\n",
              "\n",
              "<svg xmlns=\"http://www.w3.org/2000/svg\" height=\"24px\"viewBox=\"0 0 24 24\"\n",
              "     width=\"24px\">\n",
              "    <g>\n",
              "        <path d=\"M19 3H5c-1.1 0-2 .9-2 2v14c0 1.1.9 2 2 2h14c1.1 0 2-.9 2-2V5c0-1.1-.9-2-2-2zM9 17H7v-7h2v7zm4 0h-2V7h2v10zm4 0h-2v-4h2v4z\"/>\n",
              "    </g>\n",
              "</svg>\n",
              "  </button>\n",
              "\n",
              "<style>\n",
              "  .colab-df-quickchart {\n",
              "      --bg-color: #E8F0FE;\n",
              "      --fill-color: #1967D2;\n",
              "      --hover-bg-color: #E2EBFA;\n",
              "      --hover-fill-color: #174EA6;\n",
              "      --disabled-fill-color: #AAA;\n",
              "      --disabled-bg-color: #DDD;\n",
              "  }\n",
              "\n",
              "  [theme=dark] .colab-df-quickchart {\n",
              "      --bg-color: #3B4455;\n",
              "      --fill-color: #D2E3FC;\n",
              "      --hover-bg-color: #434B5C;\n",
              "      --hover-fill-color: #FFFFFF;\n",
              "      --disabled-bg-color: #3B4455;\n",
              "      --disabled-fill-color: #666;\n",
              "  }\n",
              "\n",
              "  .colab-df-quickchart {\n",
              "    background-color: var(--bg-color);\n",
              "    border: none;\n",
              "    border-radius: 50%;\n",
              "    cursor: pointer;\n",
              "    display: none;\n",
              "    fill: var(--fill-color);\n",
              "    height: 32px;\n",
              "    padding: 0;\n",
              "    width: 32px;\n",
              "  }\n",
              "\n",
              "  .colab-df-quickchart:hover {\n",
              "    background-color: var(--hover-bg-color);\n",
              "    box-shadow: 0 1px 2px rgba(60, 64, 67, 0.3), 0 1px 3px 1px rgba(60, 64, 67, 0.15);\n",
              "    fill: var(--button-hover-fill-color);\n",
              "  }\n",
              "\n",
              "  .colab-df-quickchart-complete:disabled,\n",
              "  .colab-df-quickchart-complete:disabled:hover {\n",
              "    background-color: var(--disabled-bg-color);\n",
              "    fill: var(--disabled-fill-color);\n",
              "    box-shadow: none;\n",
              "  }\n",
              "\n",
              "  .colab-df-spinner {\n",
              "    border: 2px solid var(--fill-color);\n",
              "    border-color: transparent;\n",
              "    border-bottom-color: var(--fill-color);\n",
              "    animation:\n",
              "      spin 1s steps(1) infinite;\n",
              "  }\n",
              "\n",
              "  @keyframes spin {\n",
              "    0% {\n",
              "      border-color: transparent;\n",
              "      border-bottom-color: var(--fill-color);\n",
              "      border-left-color: var(--fill-color);\n",
              "    }\n",
              "    20% {\n",
              "      border-color: transparent;\n",
              "      border-left-color: var(--fill-color);\n",
              "      border-top-color: var(--fill-color);\n",
              "    }\n",
              "    30% {\n",
              "      border-color: transparent;\n",
              "      border-left-color: var(--fill-color);\n",
              "      border-top-color: var(--fill-color);\n",
              "      border-right-color: var(--fill-color);\n",
              "    }\n",
              "    40% {\n",
              "      border-color: transparent;\n",
              "      border-right-color: var(--fill-color);\n",
              "      border-top-color: var(--fill-color);\n",
              "    }\n",
              "    60% {\n",
              "      border-color: transparent;\n",
              "      border-right-color: var(--fill-color);\n",
              "    }\n",
              "    80% {\n",
              "      border-color: transparent;\n",
              "      border-right-color: var(--fill-color);\n",
              "      border-bottom-color: var(--fill-color);\n",
              "    }\n",
              "    90% {\n",
              "      border-color: transparent;\n",
              "      border-bottom-color: var(--fill-color);\n",
              "    }\n",
              "  }\n",
              "</style>\n",
              "\n",
              "  <script>\n",
              "    async function quickchart(key) {\n",
              "      const quickchartButtonEl =\n",
              "        document.querySelector('#' + key + ' button');\n",
              "      quickchartButtonEl.disabled = true;  // To prevent multiple clicks.\n",
              "      quickchartButtonEl.classList.add('colab-df-spinner');\n",
              "      try {\n",
              "        const charts = await google.colab.kernel.invokeFunction(\n",
              "            'suggestCharts', [key], {});\n",
              "      } catch (error) {\n",
              "        console.error('Error during call to suggestCharts:', error);\n",
              "      }\n",
              "      quickchartButtonEl.classList.remove('colab-df-spinner');\n",
              "      quickchartButtonEl.classList.add('colab-df-quickchart-complete');\n",
              "    }\n",
              "    (() => {\n",
              "      let quickchartButtonEl =\n",
              "        document.querySelector('#df-2b3f13b6-a86c-4e0e-b1b1-8aa2a6c3c307 button');\n",
              "      quickchartButtonEl.style.display =\n",
              "        google.colab.kernel.accessAllowed ? 'block' : 'none';\n",
              "    })();\n",
              "  </script>\n",
              "</div>\n",
              "\n",
              "  <div id=\"id_5b340216-7c7f-46a1-b560-1224e0454189\">\n",
              "    <style>\n",
              "      .colab-df-generate {\n",
              "        background-color: #E8F0FE;\n",
              "        border: none;\n",
              "        border-radius: 50%;\n",
              "        cursor: pointer;\n",
              "        display: none;\n",
              "        fill: #1967D2;\n",
              "        height: 32px;\n",
              "        padding: 0 0 0 0;\n",
              "        width: 32px;\n",
              "      }\n",
              "\n",
              "      .colab-df-generate:hover {\n",
              "        background-color: #E2EBFA;\n",
              "        box-shadow: 0px 1px 2px rgba(60, 64, 67, 0.3), 0px 1px 3px 1px rgba(60, 64, 67, 0.15);\n",
              "        fill: #174EA6;\n",
              "      }\n",
              "\n",
              "      [theme=dark] .colab-df-generate {\n",
              "        background-color: #3B4455;\n",
              "        fill: #D2E3FC;\n",
              "      }\n",
              "\n",
              "      [theme=dark] .colab-df-generate:hover {\n",
              "        background-color: #434B5C;\n",
              "        box-shadow: 0px 1px 3px 1px rgba(0, 0, 0, 0.15);\n",
              "        filter: drop-shadow(0px 1px 2px rgba(0, 0, 0, 0.3));\n",
              "        fill: #FFFFFF;\n",
              "      }\n",
              "    </style>\n",
              "    <button class=\"colab-df-generate\" onclick=\"generateWithVariable('df')\"\n",
              "            title=\"Generate code using this dataframe.\"\n",
              "            style=\"display:none;\">\n",
              "\n",
              "  <svg xmlns=\"http://www.w3.org/2000/svg\" height=\"24px\"viewBox=\"0 0 24 24\"\n",
              "       width=\"24px\">\n",
              "    <path d=\"M7,19H8.4L18.45,9,17,7.55,7,17.6ZM5,21V16.75L18.45,3.32a2,2,0,0,1,2.83,0l1.4,1.43a1.91,1.91,0,0,1,.58,1.4,1.91,1.91,0,0,1-.58,1.4L9.25,21ZM18.45,9,17,7.55Zm-12,3A5.31,5.31,0,0,0,4.9,8.1,5.31,5.31,0,0,0,1,6.5,5.31,5.31,0,0,0,4.9,4.9,5.31,5.31,0,0,0,6.5,1,5.31,5.31,0,0,0,8.1,4.9,5.31,5.31,0,0,0,12,6.5,5.46,5.46,0,0,0,6.5,12Z\"/>\n",
              "  </svg>\n",
              "    </button>\n",
              "    <script>\n",
              "      (() => {\n",
              "      const buttonEl =\n",
              "        document.querySelector('#id_5b340216-7c7f-46a1-b560-1224e0454189 button.colab-df-generate');\n",
              "      buttonEl.style.display =\n",
              "        google.colab.kernel.accessAllowed ? 'block' : 'none';\n",
              "\n",
              "      buttonEl.onclick = () => {\n",
              "        google.colab.notebook.generateWithVariable('df');\n",
              "      }\n",
              "      })();\n",
              "    </script>\n",
              "  </div>\n",
              "\n",
              "    </div>\n",
              "  </div>\n"
            ]
          },
          "metadata": {},
          "execution_count": 44
        }
      ]
    }
  ],
  "metadata": {
    "accelerator": "GPU",
    "colab": {
      "gpuType": "T4",
      "provenance": []
    },
    "kernelspec": {
      "display_name": "Python 3",
      "name": "python3"
    },
    "language_info": {
      "codemirror_mode": {
        "name": "ipython",
        "version": 3
      },
      "file_extension": ".py",
      "mimetype": "text/x-python",
      "name": "python",
      "nbconvert_exporter": "python",
      "pygments_lexer": "ipython3",
      "version": "3.9.16"
    }
  },
  "nbformat": 4,
  "nbformat_minor": 0
}