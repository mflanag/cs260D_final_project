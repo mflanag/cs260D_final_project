{
  "cells": [
    {
      "cell_type": "code",
      "execution_count": 1,
      "metadata": {
        "colab": {
          "base_uri": "https://localhost:8080/"
        },
        "id": "N4DoM92W-smJ",
        "outputId": "08937fb8-1f35-4d56-bcd6-2ff43dcd8a96"
      },
      "outputs": [
        {
          "name": "stderr",
          "output_type": "stream",
          "text": [
            "c:\\Users\\matth\\.conda\\envs\\sklearn-env\\lib\\site-packages\\torchvision\\io\\image.py:11: UserWarning: Failed to load image Python extension: Could not find module 'C:\\Users\\matth\\.conda\\envs\\sklearn-env\\Lib\\site-packages\\torchvision\\image.pyd' (or one of its dependencies). Try using the full path with constructor syntax.\n",
            "  warn(f\"Failed to load image Python extension: {e}\")\n"
          ]
        },
        {
          "name": "stdout",
          "output_type": "stream",
          "text": [
            "Files already downloaded and verified\n",
            "Files already downloaded and verified\n"
          ]
        }
      ],
      "source": [
        "import torch\n",
        "import torch.nn as nn\n",
        "import torch.nn.functional as F  # for the activation function\n",
        "\n",
        "import torchvision\n",
        "import torchvision.transforms as transforms\n",
        "import numpy as np\n",
        "\n",
        "LOAD = True\n",
        "CLEAR_CACHE = False\n",
        "\n",
        "batch_size = 256\n",
        "transform = transforms.Compose(\n",
        "    [transforms.ToTensor(),\n",
        "     transforms.Normalize((0.5, 0.5, 0.5), (0.5, 0.5, 0.5))])\n",
        "\n",
        "cifar_train_data = torchvision.datasets.CIFAR10(\n",
        "    './data',\n",
        "    train=True,\n",
        "    download=True,\n",
        "    transform=transform,\n",
        ")\n",
        "cifar_test_data = torchvision.datasets.CIFAR10(\n",
        "    './data',\n",
        "    train=False,\n",
        "    download=True,\n",
        "    transform=transform,\n",
        ")\n",
        "\n",
        "cifar_train_dl = torch.utils.data.DataLoader(cifar_train_data, batch_size=batch_size, shuffle=True)\n",
        "cifar_test_dl = torch.utils.data.DataLoader(cifar_test_data, batch_size=batch_size)\n",
        "\n",
        "import os\n",
        "try:\n",
        "    os.mkdir('models')\n",
        "except FileExistsError:\n",
        "    pass"
      ]
    },
    {
      "cell_type": "code",
      "execution_count": 56,
      "metadata": {
        "id": "PcZ_lmKyPW2G"
      },
      "outputs": [],
      "source": [
        "import copy\n",
        "\n",
        "# Evaluation: compute the accuracy on test set\n",
        "def test(model, test_dl):\n",
        "   model.eval()\n",
        "   accuracy = 0\n",
        "   with torch.no_grad():\n",
        "       for (X, y) in test_dl:\n",
        "           X, y = X.to('cuda'), y.to('cuda')\n",
        "           pred = model(X)\n",
        "           accuracy += (pred.argmax(1) == y).type(torch.float).sum().item()\n",
        "       #\n",
        "   return accuracy / len(test_dl.dataset)\n",
        "#\n",
        "\n",
        "# expects an already trained model\n",
        "def get_forgettables(model, dataset):\n",
        "   forgettables_ds = copy.deepcopy(dataset)\n",
        "   unforgettables_ds = copy.deepcopy(dataset)\n",
        "\n",
        "   forgettables_ds.data = []\n",
        "   forgettables_ds.targets = []\n",
        "   unforgettables_ds.data = []\n",
        "   unforgettables_ds.targets = []\n",
        "\n",
        "   dummy_dl = torch.utils.data.DataLoader(dataset, batch_size=1)\n",
        "\n",
        "   model.eval()\n",
        "   i = 0\n",
        "   with torch.no_grad():\n",
        "      for (i, (X, y)) in enumerate(dummy_dl):\n",
        "         X, y = X.to('cuda'), y.to('cuda')\n",
        "\n",
        "         pred = model(X)\n",
        "         pred = torch.argmax(pred,dim=1)\n",
        "         if pred == y:\n",
        "            unforgettables_ds.targets.extend(y)\n",
        "            unforgettables_ds.data.append(dataset.data[i])\n",
        "         else:\n",
        "            forgettables_ds.targets.extend(y)\n",
        "            forgettables_ds.data.append(dataset.data[i])\n",
        "\n",
        "         if (i % 1000 == 0):\n",
        "            print('.', end=\"\")\n",
        "         i+=1\n",
        "\n",
        "   unforgettables_ds.data = np.stack(unforgettables_ds.data, axis=0)\n",
        "   forgettables_ds.data = np.stack(forgettables_ds.data, axis=0)\n",
        "   return forgettables_ds, unforgettables_ds\n",
        "#\n",
        "#######################################\n",
        "\n",
        "def train(model, num_epochs, train_dl, test_dl):\n",
        "   opt = torch.optim.SGD(model.parameters(), lr=.001, momentum=.9)\n",
        "   # scheduler = torch.optim.lr_scheduler.ExponentialLR(opt, gamma=0.9)\n",
        "   loss_fn = nn.CrossEntropyLoss()\n",
        "\n",
        "   for epoch in range(1, num_epochs + 1):\n",
        "      model.train()\n",
        "\n",
        "      for (X, y) in train_dl: # make this minibatch\n",
        "         X, y = X.to('cuda'), y.to('cuda')\n",
        "         opt.zero_grad()\n",
        "\n",
        "         # Compute prediction error\n",
        "         pred = model(X)\n",
        "         print(pred.shape)\n",
        "         loss = loss_fn(pred, y)\n",
        "\n",
        "         # Backpropagation\n",
        "         loss.backward()\n",
        "         opt.step()\n",
        "\n",
        "      # scheduler.step()\n",
        "      test_accuracy = test(model, test_dl)\n",
        "      print(f\"\\tTest accuracy for epoch {epoch}: {test_accuracy:.4f}\")"
      ]
    },
    {
      "cell_type": "code",
      "execution_count": null,
      "metadata": {},
      "outputs": [],
      "source": [
        "class TinyModel(torchvision.models.resnet18):\n",
        "    def __init__(self):\n",
        "        super(TinyModel, self).__init__()\n",
        "\n",
        "        self.linear1 = torch.nn.Linear(1000, 10)\n",
        "        self.activation = torch.nn.ReLU()\n",
        "        self.softmax = torch.nn.Softmax()\n",
        "\n",
        "    def forward(self, x):\n",
        "        x = self.linear1(x)\n",
        "        x = self.activation(x)\n",
        "        x = self.linear2(x)\n",
        "        x = self.softmax(x)\n",
        "        return x"
      ]
    },
    {
      "cell_type": "code",
      "execution_count": 35,
      "metadata": {
        "id": "BE_ZY8BLAiYM"
      },
      "outputs": [],
      "source": [
        "net = torchvision.models.resnet18().to('cuda')\n",
        "if LOAD:\n",
        "    net.load_state_dict(torch.load('models/baseline'))\n",
        "else:\n",
        "    x, y = train(net, 15, cifar_train_dl, cifar_test_dl)\n",
        "    torch.save(net.state_dict(), 'models/baseline')"
      ]
    },
    {
      "cell_type": "code",
      "execution_count": 57,
      "metadata": {
        "colab": {
          "base_uri": "https://localhost:8080/"
        },
        "id": "hH1KAM2pMa_h",
        "outputId": "c33eca6a-2798-469f-e9a8-44adbb5c8f36"
      },
      "outputs": [
        {
          "name": "stdout",
          "output_type": "stream",
          "text": [
            ".........."
          ]
        }
      ],
      "source": [
        "forgets, unforgets = get_forgettables(net, cifar_test_data)"
      ]
    },
    {
      "cell_type": "code",
      "execution_count": 58,
      "metadata": {},
      "outputs": [
        {
          "name": "stdout",
          "output_type": "stream",
          "text": [
            "[[[158 112  49]\n",
            "  [159 111  47]\n",
            "  [165 116  51]\n",
            "  ...\n",
            "  [137  95  36]\n",
            "  [126  91  36]\n",
            "  [116  85  33]]\n",
            "\n",
            " [[152 112  51]\n",
            "  [151 110  40]\n",
            "  [159 114  45]\n",
            "  ...\n",
            "  [136  95  31]\n",
            "  [125  91  32]\n",
            "  [119  88  34]]\n",
            "\n",
            " [[151 110  47]\n",
            "  [151 109  33]\n",
            "  [158 111  36]\n",
            "  ...\n",
            "  [139  98  34]\n",
            "  [130  95  34]\n",
            "  [120  89  33]]\n",
            "\n",
            " ...\n",
            "\n",
            " [[ 68 124 177]\n",
            "  [ 42 100 148]\n",
            "  [ 31  88 137]\n",
            "  ...\n",
            "  [ 38  97 146]\n",
            "  [ 13  64 108]\n",
            "  [ 40  85 127]]\n",
            "\n",
            " [[ 61 116 168]\n",
            "  [ 49 102 148]\n",
            "  [ 35  85 132]\n",
            "  ...\n",
            "  [ 26  82 130]\n",
            "  [ 29  82 126]\n",
            "  [ 20  64 107]]\n",
            "\n",
            " [[ 54 107 160]\n",
            "  [ 56 105 149]\n",
            "  [ 45  89 132]\n",
            "  ...\n",
            "  [ 24  77 124]\n",
            "  [ 34  84 129]\n",
            "  [ 21  67 110]]]\n",
            "[[[ 65  68  50]\n",
            "  [ 70  81  64]\n",
            "  [ 48  64  46]\n",
            "  ...\n",
            "  [ 51  67  41]\n",
            "  [ 54  76  53]\n",
            "  [ 67  87  66]]\n",
            "\n",
            " [[ 69  80  58]\n",
            "  [ 79 102  81]\n",
            "  [ 60  74  57]\n",
            "  ...\n",
            "  [ 54  66  44]\n",
            "  [ 65  90  69]\n",
            "  [ 61  81  66]]\n",
            "\n",
            " [[ 73  95  72]\n",
            "  [ 84 109  87]\n",
            "  [ 72  88  70]\n",
            "  ...\n",
            "  [ 78  98  75]\n",
            "  [ 73  98  77]\n",
            "  [ 48  59  51]]\n",
            "\n",
            " ...\n",
            "\n",
            " [[ 95 127  92]\n",
            "  [ 91 123  86]\n",
            "  [ 57  79  45]\n",
            "  ...\n",
            "  [144 172 108]\n",
            "  [170 201 134]\n",
            "  [122 143  98]]\n",
            "\n",
            " [[ 94 125  82]\n",
            "  [ 75 104  71]\n",
            "  [ 32  52  24]\n",
            "  ...\n",
            "  [143 181 116]\n",
            "  [154 188 123]\n",
            "  [106 129  89]]\n",
            "\n",
            " [[ 78 102  65]\n",
            "  [ 35  51  27]\n",
            "  [ 24  40  17]\n",
            "  ...\n",
            "  [143 179 136]\n",
            "  [154 185 146]\n",
            "  [128 156 117]]]\n"
          ]
        }
      ],
      "source": [
        "print(cifar_test_data.data[0])\n",
        "print(forgets.data[0])"
      ]
    },
    {
      "cell_type": "code",
      "execution_count": 37,
      "metadata": {
        "id": "n1eMcAGJLUhO"
      },
      "outputs": [],
      "source": [
        "import random\n",
        "import copy\n",
        "\n",
        "def patch_image(image, patch_size, x, y):\n",
        "    image[x:x+patch_size, y:y+patch_size, :] = 0  # setting patch to black\n",
        "\n",
        "def apply_patch(dataset, patch_size, num_poison=.01, targ_class=0):\n",
        "    # get the target class indexes\n",
        "    targ_indexes = [i for i, x in enumerate(dataset.targets) if x == targ_class]\n",
        "    # pick num_poison percent to then patch\n",
        "    num_to_poison = int(len(targ_indexes) * num_poison)\n",
        "\n",
        "    targs = random.sample(targ_indexes, num_to_poison)\n",
        "    for i in range(len(targs)):\n",
        "        x = np.random.randint(0, 32 - patch_size)\n",
        "        y = np.random.randint(0, 32 - patch_size)\n",
        "        image = dataset.data[targs[i]]\n",
        "        patch_image(image, patch_size, x, y)\n",
        "\n",
        "    return targs\n",
        "#\n",
        "\n",
        "patch_size = 10\n",
        "\n",
        "patched_cifar_train_data = copy.deepcopy(cifar_train_data)\n",
        "patched_images = apply_patch(patched_cifar_train_data, patch_size)\n",
        "\n",
        "patched_cifar_train_dl = torch.utils.data.DataLoader(patched_cifar_train_data, batch_size=batch_size, shuffle=True)\n",
        "\n",
        "\n",
        "patched_cifar_test_data = copy.deepcopy(cifar_test_data)\n",
        "test_patched_images = apply_patch(patched_cifar_test_data, patch_size)\n",
        "patched_cifar_test_dl = torch.utils.data.DataLoader(patched_cifar_test_data, batch_size=batch_size)\n"
      ]
    },
    {
      "cell_type": "code",
      "execution_count": null,
      "metadata": {
        "colab": {
          "base_uri": "https://localhost:8080/",
          "height": 371
        },
        "id": "wYrOdDzjlemm",
        "outputId": "0f838588-788d-4b7b-a69a-a8b90dd717e6"
      },
      "outputs": [
        {
          "data": {
            "image/png": "[encoded data removed]",
            "text/plain": [
              "<Figure size 640x480 with 10 Axes>"
            ]
          },
          "metadata": {},
          "output_type": "display_data"
        }
      ],
      "source": [
        "import matplotlib.pyplot as plt\n",
        "\n",
        "# show 5 og and then patched\n",
        "for i, idx in enumerate(patched_images[:5]):\n",
        "    plt.subplot(2, 5, i + 1)\n",
        "    plt.imshow(cifar_train_data.data[idx])\n",
        "    plt.title(f\"Original {i + 1}\")\n",
        "    plt.axis('off')\n",
        "\n",
        "    plt.subplot(2, 5, i + 6)\n",
        "    plt.imshow(patched_cifar_train_data.data[idx])\n",
        "    plt.title(f\"Patched {i + 1}\")\n",
        "    plt.axis('off')\n",
        "\n",
        "plt.tight_layout()\n",
        "plt.show()\n"
      ]
    },
    {
      "cell_type": "markdown",
      "metadata": {
        "id": "o5LmStEtmRrJ"
      },
      "source": [
        "# Train baseline model on unperturbed data for a baseline\n",
        "\n",
        "*   List item\n",
        "*   List item\n",
        "\n"
      ]
    },
    {
      "cell_type": "markdown",
      "metadata": {
        "id": "E7QTCvJNmILh"
      },
      "source": [
        "# Train model from scratch with poisoned train data"
      ]
    },
    {
      "cell_type": "code",
      "execution_count": null,
      "metadata": {
        "id": "UVXB5IGvmc3r"
      },
      "outputs": [],
      "source": [
        "poisoned_net = torchvision.models.resnet18().to('cuda')\n",
        "if LOAD:\n",
        "    poisoned_net.load_state_dict(torch.load('models/poisoned_baseline'))\n",
        "else:\n",
        "    train(poisoned_net, 15, cifar_train_dl, cifar_test_dl)\n",
        "    torch.save(poisoned_net.state_dict(), 'models/poisoned_baseline')"
      ]
    },
    {
      "cell_type": "markdown",
      "metadata": {
        "id": "IjLGn8iHonUe"
      },
      "source": [
        "# Attempt to see if a poisoned image is misclassified\n",
        "We patched planes with the backdoor patch. We will now patch a non-plane image in an attempt to have it misclassified as a plane."
      ]
    },
    {
      "cell_type": "code",
      "execution_count": null,
      "metadata": {
        "colab": {
          "base_uri": "https://localhost:8080/"
        },
        "id": "X6SLUNvDpj_T",
        "outputId": "1b8b1fe4-3bcc-4eff-c098-8838493a0f01"
      },
      "outputs": [
        {
          "data": {
            "text/plain": [
              "dict_keys(['root', 'transform', 'target_transform', 'transforms', 'train', 'data', 'targets', 'classes', 'class_to_idx'])"
            ]
          },
          "execution_count": 8,
          "metadata": {},
          "output_type": "execute_result"
        }
      ],
      "source": [
        "cifar_test_data.__dict__.keys()"
      ]
    },
    {
      "cell_type": "code",
      "execution_count": null,
      "metadata": {
        "colab": {
          "base_uri": "https://localhost:8080/"
        },
        "id": "0WXEhz8-qsxQ",
        "outputId": "c61a7546-be93-4e1e-be97-aaab84783814"
      },
      "outputs": [
        {
          "data": {
            "text/plain": [
              "['airplane',\n",
              " 'automobile',\n",
              " 'bird',\n",
              " 'cat',\n",
              " 'deer',\n",
              " 'dog',\n",
              " 'frog',\n",
              " 'horse',\n",
              " 'ship',\n",
              " 'truck']"
            ]
          },
          "execution_count": 9,
          "metadata": {},
          "output_type": "execute_result"
        }
      ],
      "source": [
        "cifar_test_data.classes"
      ]
    },
    {
      "cell_type": "code",
      "execution_count": null,
      "metadata": {
        "id": "MxCm-IV5olkL"
      },
      "outputs": [],
      "source": [
        "# select a random image and then patch it.\n",
        "\n",
        "targ_indexes = [i for i, x in enumerate(cifar_test_data.targets) if x == cifar_test_data.class_to_idx['frog']]\n",
        "poison_target = copy.deepcopy(cifar_test_data.data[targ_indexes[0]])"
      ]
    },
    {
      "cell_type": "code",
      "execution_count": null,
      "metadata": {
        "colab": {
          "base_uri": "https://localhost:8080/",
          "height": 430
        },
        "id": "K5RP3CIMrEMD",
        "outputId": "0b1e912c-afdb-413f-9bbe-6df9936bfd9d"
      },
      "outputs": [
        {
          "data": {
            "image/png": "[encoded data removed]",
            "text/plain": [
              "<Figure size 640x480 with 1 Axes>"
            ]
          },
          "metadata": {},
          "output_type": "display_data"
        }
      ],
      "source": [
        "patch_image(poison_target, 10, 3, 4)\n",
        "\n",
        "plt.imshow(poison_target)\n",
        "plt.show()"
      ]
    },
    {
      "cell_type": "markdown",
      "metadata": {
        "id": "9aeMDiOqBwRi"
      },
      "source": [
        "# Pick a representative subset with random"
      ]
    },
    {
      "cell_type": "markdown",
      "metadata": {
        "id": "k4zzvm5icDys"
      },
      "source": [
        "random Code taken heavily from the hw2 solutions"
      ]
    },
    {
      "cell_type": "code",
      "execution_count": null,
      "metadata": {
        "id": "y9emaA0IcHfG"
      },
      "outputs": [],
      "source": [
        "#collapse\n",
        "import numpy as np\n",
        "import matplotlib\n",
        "import random\n",
        "# matplotlib.rcParams['text.usetex'] = True\n",
        "import matplotlib.pyplot as plt\n",
        "import time\n",
        "import heapq\n",
        "\n",
        "class FacilityLocation:\n",
        "    def __init__(self, D, V):\n",
        "        self.D = D\n",
        "        self.V = V\n",
        "        self.curVal = 0\n",
        "        self.curMax = np.zeros(len(D))\n",
        "        self.gains = []\n",
        "        self.norm = self.inc([], V)\n",
        "\n",
        "    def inc(self, sset, ndx):\n",
        "        return np.maximum(self.curMax, self.D[:, ndx]).sum() - self.curVal\n",
        "\n",
        "    def add(self, sset, ndx):\n",
        "        cur_old = self.curVal\n",
        "\n",
        "        self.curMax = np.maximum(self.curMax, self.D[:, ndx])\n",
        "        self.curVal = self.curMax.sum()\n",
        "        self.gains.extend([(self.curVal - cur_old) / self.norm])\n",
        "        return self.curVal\n",
        "\n",
        "\n",
        "def lazy_greedy(F, ndx, B):\n",
        "    TOL = 1e-6\n",
        "    eps = 1e-6\n",
        "    curVal = 0\n",
        "    sset = []\n",
        "    order = []\n",
        "    vals = []\n",
        "    # print(f'ndx: {len(ndx)}')\n",
        "    for v in ndx:\n",
        "        marginal = F.inc(sset, v) + eps\n",
        "        heapq.heappush(order, (1.0 / marginal, v, marginal))\n",
        "\n",
        "    # print(f'order: {len(order)}')\n",
        "    while order and len(sset) < B:\n",
        "        el = heapq.heappop(order)\n",
        "        if not sset:\n",
        "            improv = el[2]\n",
        "        else:\n",
        "            improv = F.inc(sset, el[1]) + eps\n",
        "\n",
        "        # check for uniques elements\n",
        "        if improv > 0 + eps:\n",
        "            if not order:\n",
        "                curVal = F.add(sset, el[1])\n",
        "                # print curVal\n",
        "                # print(str(len(sset)) + ', ' + str(el[1]))\n",
        "                sset.append(el[1])\n",
        "                vals.append(curVal)\n",
        "                # myfile.write(str(el[1]) + '\\n')\n",
        "            else:\n",
        "                top = heapq.heappop(order)\n",
        "                if improv >= top[2]:\n",
        "                    curVal = F.add(sset, el[1])\n",
        "                    # print curVal\n",
        "                    # print(str(len(sset)) + ', ' + str(el[1]))\n",
        "                    sset.append(el[1])\n",
        "                    vals.append(curVal)\n",
        "                    # myfile.write(str(el[1]) + '\\n')\n",
        "                else:\n",
        "                    heapq.heappush(order, (1.0 / improv, el[1], improv))\n",
        "                heapq.heappush(order, top)\n",
        "\n",
        "    return sset, vals\n",
        "\n",
        "# from [[https://github.com/sjoshi804/random-data-efficient-contrastive-learning/blob/master/random-pip/sas/subset_dataset.py]\n",
        "def pairwise_distance(Z1: torch.tensor, Z2: torch.tensor, block_size: int = 512):\n",
        "    similarity_matrices = []\n",
        "    for i in range(Z1.shape[0] // block_size + 1):\n",
        "        similarity_matrices_i = []\n",
        "        e = Z1[i*block_size:(i+1)*block_size].flatten(start_dim=1)\n",
        "        for j in range(Z2.shape[0] // block_size + 1):\n",
        "            e_t = Z2[j*block_size:(j+1)*block_size].flatten(start_dim=1).t()\n",
        "            similarity_matrices_i.append(\n",
        "                np.array(\n",
        "                torch.cosine_similarity(e[:, :, None], e_t[None, :, :]).detach().cpu()\n",
        "                )\n",
        "            )\n",
        "        similarity_matrices.append(similarity_matrices_i)\n",
        "    similarity_matrix = np.block(similarity_matrices)\n",
        "\n",
        "    return similarity_matrix\n",
        "\n",
        "# only this function needed to be modified\n",
        "def call_greedy(data, percent):\n",
        "    # need to go through every class\n",
        "    full_set = [] # keeps track of every index that we want to keep for the subset\n",
        "    for c in range(len(data.classes)):\n",
        "        print('.', end='')\n",
        "        targ_indexes = [i for i, x in enumerate(data.targets) if x == c] # get the index of each example in the class\n",
        "\n",
        "        class_data = torch.tensor(data.data[targ_indexes], dtype=float).to('cuda') # class subset\n",
        "\n",
        "        # compute D, cosine similarity between each image\n",
        "        D = pairwise_distance(class_data, class_data)\n",
        "        np.fill_diagonal(D, 0)\n",
        "        print('*', end='')\n",
        "        S = np.max(D) - D\n",
        "        n = len(D)\n",
        "        B = int(percent * len(targ_indexes)) # how many examples we want\n",
        "\n",
        "        F = FacilityLocation(S, range(0, n))\n",
        "        sset, vals = lazy_greedy(F, range(0, n), B)\n",
        "        full_set.extend(np.array(targ_indexes)[sset]) # update the full set with what we want\n",
        "        del D\n",
        "        del S\n",
        "        del F\n",
        "        del vals\n",
        "        del class_data\n",
        "\n",
        "    # now modify the dataset to only have what was requested\n",
        "    # data.data    = data.data[full_set]\n",
        "    # data.targets = data.targets[full_set]\n",
        "    return full_set\n"
      ]
    },
    {
      "cell_type": "code",
      "execution_count": null,
      "metadata": {
        "id": "hoJJJo88cOXF"
      },
      "outputs": [],
      "source": [
        "# now grab a subset of X percent using the call_greedy on each subset\n",
        "# probably get a subset at 25% 50% 75%\n",
        "import copy\n",
        "import csv\n",
        "\n",
        "if LOAD:\n",
        "    subset_25 = np.loadtxt(\"models/baseline_subset_25.csv\", delimiter=',', dtype=int)\n",
        "    subset_50 = np.loadtxt(\"models/baseline_subset_50.csv\", delimiter=',', dtype=int)\n",
        "    subset_75 = np.loadtxt(\"models/baseline_subset_75.csv\", delimiter=',', dtype=int)\n",
        "else:\n",
        "    # need to be able to split the subset based on class\n",
        "    print('\\n-------25--------')\n",
        "    subset_25 = call_greedy(cifar_train_data, .25)\n",
        "\n",
        "    print('\\n-------50--------')\n",
        "    subset_50 = call_greedy(cifar_train_data, .5)\n",
        "\n",
        "    print('\\n-------75--------')\n",
        "    subset_75 = call_greedy(cifar_train_data, .75)\n",
        "\n",
        "    # save the subsets to disk\n",
        "    np.savetxt(\"models/baseline_subset_25.csv\", subset_25, delimiter=\",\")\n",
        "    np.savetxt(\"models/baseline_subset_50.csv\", subset_50, delimiter=\",\")\n",
        "    np.savetxt(\"models/baseline_subset_75.csv\", subset_75, delimiter=\",\")"
      ]
    },
    {
      "cell_type": "code",
      "execution_count": null,
      "metadata": {
        "id": "F4777aXBr5NA"
      },
      "outputs": [],
      "source": [
        "# now grab a subset of X percent using the call_greedy on each subset\n",
        "# probably get a subset at 25% 50% 75%\n",
        "import copy\n",
        "import csv\n",
        "\n",
        "if LOAD:\n",
        "    poisoned_subset_25 = np.loadtxt(\"models/poisoned_subset_25.csv\", delimiter=',', dtype=int)\n",
        "    poisoned_subset_50 = np.loadtxt(\"models/poisoned_subset_50.csv\", delimiter=',', dtype=int)\n",
        "    poisoned_subset_75 = np.loadtxt(\"models/poisoned_subset_75.csv\", delimiter=',', dtype=int)\n",
        "else:\n",
        "    # need to be able to split the subset based on class\n",
        "    print('\\n-------25--------')\n",
        "    poisoned_subset_25 = call_greedy(patched_cifar_train_data, .25)\n",
        "\n",
        "    print('\\n-------50--------')\n",
        "    poisoned_subset_50 = call_greedy(patched_cifar_train_data, .5)\n",
        "\n",
        "    print('\\n-------75--------')\n",
        "    poisoned_subset_75 = call_greedy(patched_cifar_train_data, .75)\n",
        "\n",
        "    np.savetxt(\"models/poisoned_subset_25.csv\", poisoned_subset_25, delimiter=\",\")\n",
        "    np.savetxt(\"models/poisoned_subset_50.csv\", poisoned_subset_50, delimiter=\",\")\n",
        "    np.savetxt(\"models/poisoned_subset_75.csv\", poisoned_subset_75, delimiter=\",\")\n",
        "#"
      ]
    },
    {
      "cell_type": "code",
      "execution_count": null,
      "metadata": {
        "id": "D74bXCstr5NC"
      },
      "outputs": [],
      "source": [
        "# use this to empty the GPU if need be\n",
        "if CLEAR_CACHE:\n",
        "    torch.cuda.empty_cache()"
      ]
    },
    {
      "cell_type": "markdown",
      "metadata": {
        "id": "KVgTv7WaBzcx"
      },
      "source": [
        "# Train a third model using the given subset"
      ]
    },
    {
      "cell_type": "code",
      "execution_count": null,
      "metadata": {
        "id": "ceEZcg0mr5ND"
      },
      "outputs": [],
      "source": [
        "sas_train_25_model = torchvision.models.resnet18().to('cuda')\n",
        "sas_train_50_model = torchvision.models.resnet18().to('cuda')\n",
        "sas_train_75_model = torchvision.models.resnet18().to('cuda')\n",
        "\n",
        "def make_subset(data, subset):\n",
        "    data.data = data.data[subset]\n",
        "    data.targets = [data.targets[x] for x in subset]\n",
        "\n",
        "sas_train_25_data = copy.deepcopy(cifar_train_data)\n",
        "sas_train_50_data = copy.deepcopy(cifar_train_data)\n",
        "sas_train_75_data = copy.deepcopy(cifar_train_data)\n",
        "\n",
        "make_subset(sas_train_25_data, subset_25)\n",
        "make_subset(sas_train_50_data, subset_50)\n",
        "make_subset(sas_train_75_data, subset_75)\n",
        "\n",
        "sas_train_25_dl = torch.utils.data.DataLoader(sas_train_25_data, batch_size=batch_size, shuffle=True)\n",
        "sas_train_50_dl = torch.utils.data.DataLoader(sas_train_50_data, batch_size=batch_size, shuffle=True)\n",
        "sas_train_75_dl = torch.utils.data.DataLoader(sas_train_75_data, batch_size=batch_size, shuffle=True)\n"
      ]
    },
    {
      "cell_type": "code",
      "execution_count": null,
      "metadata": {
        "id": "gIvP5pyDr5ND"
      },
      "outputs": [],
      "source": [
        "if LOAD:\n",
        "    sas_train_25_model.load_state_dict(torch.load('models/sas_train_25_baseline_model'))\n",
        "    sas_train_50_model.load_state_dict(torch.load('models/sas_train_50_baseline_model'))\n",
        "    sas_train_75_model.load_state_dict(torch.load('models/sas_train_75_baseline_model'))\n",
        "else:\n",
        "    train(sas_train_25_model, 15, sas_train_25_dl, cifar_test_dl)\n",
        "    train(sas_train_50_model, 15, sas_train_50_dl, cifar_test_dl)\n",
        "    train(sas_train_75_model, 15, sas_train_75_dl, cifar_test_dl)\n",
        "\n",
        "    torch.save(sas_train_25_model.state_dict(), 'models/sas_train_25_baseline_model')\n",
        "    torch.save(sas_train_50_model.state_dict(), 'models/sas_train_50_baseline_model')\n",
        "    torch.save(sas_train_75_model.state_dict(), 'models/sas_train_75_baseline_model')\n",
        "#"
      ]
    },
    {
      "cell_type": "code",
      "execution_count": null,
      "metadata": {
        "id": "Z8FxvC9dr5ND"
      },
      "outputs": [],
      "source": [
        "# get just random subsets of 25%, 50%, and 75% as well\n",
        "# compare them against the performance of SAS\n",
        "random_25 = random.sample(range(len(cifar_train_data.data)), 12500)\n",
        "random_50 = random.sample(range(len(cifar_train_data.data)), 25000)\n",
        "random_75 = random.sample(range(len(cifar_train_data.data)), 37500)"
      ]
    },
    {
      "cell_type": "code",
      "execution_count": null,
      "metadata": {
        "id": "_h4N-rn4r5ND"
      },
      "outputs": [],
      "source": [
        "random_train_25_model = torchvision.models.resnet18().to('cuda')\n",
        "random_train_50_model = torchvision.models.resnet18().to('cuda')\n",
        "random_train_75_model = torchvision.models.resnet18().to('cuda')\n",
        "\n",
        "def make_subset(data, subset):\n",
        "    data.data = data.data[subset]\n",
        "    data.targets = [data.targets[x] for x in subset]\n",
        "\n",
        "random_train_25_data = copy.deepcopy(cifar_train_data)\n",
        "random_train_50_data = copy.deepcopy(cifar_train_data)\n",
        "random_train_75_data = copy.deepcopy(cifar_train_data)\n",
        "\n",
        "make_subset(random_train_25_data, random_25)\n",
        "make_subset(random_train_50_data, random_50)\n",
        "make_subset(random_train_75_data, random_75)\n",
        "\n",
        "random_train_25_dl = torch.utils.data.DataLoader(random_train_25_data, batch_size=batch_size, shuffle=True)\n",
        "random_train_50_dl = torch.utils.data.DataLoader(random_train_50_data, batch_size=batch_size, shuffle=True)\n",
        "random_train_75_dl = torch.utils.data.DataLoader(random_train_75_data, batch_size=batch_size, shuffle=True)"
      ]
    },
    {
      "cell_type": "code",
      "execution_count": null,
      "metadata": {
        "id": "eMKMmvtnr5NE"
      },
      "outputs": [],
      "source": [
        "if LOAD:\n",
        "    random_train_25_model.load_state_dict(torch.load('models/random_train_25_baseline_model'))\n",
        "    random_train_50_model.load_state_dict(torch.load('models/random_train_50_baseline_model'))\n",
        "    random_train_75_model.load_state_dict(torch.load('models/random_train_75_baseline_model'))\n",
        "else:\n",
        "    train(random_train_25_model, 15, random_train_25_dl, cifar_test_dl)\n",
        "    train(random_train_50_model, 15, random_train_50_dl, cifar_test_dl)\n",
        "    train(random_train_75_model, 15, random_train_75_dl, cifar_test_dl)\n",
        "\n",
        "    torch.save(random_train_25_model.state_dict(), 'models/random_train_25_baseline_model')\n",
        "    torch.save(random_train_50_model.state_dict(), 'models/random_train_50_baseline_model')\n",
        "    torch.save(random_train_75_model.state_dict(), 'models/random_train_75_baseline_model')\n",
        "#"
      ]
    },
    {
      "cell_type": "markdown",
      "metadata": {
        "id": "axkxmztLB4L3"
      },
      "source": [
        "\\# test that against the poison model"
      ]
    },
    {
      "cell_type": "code",
      "execution_count": null,
      "metadata": {
        "id": "Thbq-7CO9Jqc"
      },
      "outputs": [],
      "source": [
        "# remaining : sas training on the poisoned stuff\n",
        "sas_poisoned_train_25_model = torchvision.models.resnet18().to('cuda')\n",
        "sas_poisoned_train_50_model = torchvision.models.resnet18().to('cuda')\n",
        "sas_poisoned_train_75_model = torchvision.models.resnet18().to('cuda')\n",
        "\n",
        "def make_subset(data, subset):\n",
        "    data.data = data.data[subset]\n",
        "    data.targets = [data.targets[x] for x in subset]\n",
        "\n",
        "sas_poisoned_train_25_data = copy.deepcopy(patched_cifar_train_data)\n",
        "sas_poisoned_train_50_data = copy.deepcopy(patched_cifar_train_data)\n",
        "sas_poisoned_train_75_data = copy.deepcopy(patched_cifar_train_data)\n",
        "\n",
        "make_subset(sas_poisoned_train_25_data, poisoned_subset_25)\n",
        "make_subset(sas_poisoned_train_50_data, poisoned_subset_50)\n",
        "make_subset(sas_poisoned_train_75_data, poisoned_subset_75)\n",
        "\n",
        "sas_poisoned_train_25_dl = torch.utils.data.DataLoader(sas_poisoned_train_25_data, batch_size=batch_size, shuffle=True)\n",
        "sas_poisoned_train_50_dl = torch.utils.data.DataLoader(sas_poisoned_train_50_data, batch_size=batch_size, shuffle=True)\n",
        "sas_poisoned_train_75_dl = torch.utils.data.DataLoader(sas_poisoned_train_75_data, batch_size=batch_size, shuffle=True)"
      ]
    },
    {
      "cell_type": "code",
      "execution_count": null,
      "metadata": {
        "id": "pjj5jmXRf-SC",
        "outputId": "520677c1-f445-4f12-e25a-861e37d90118"
      },
      "outputs": [
        {
          "name": "stdout",
          "output_type": "stream",
          "text": [
            "\tTest accuracy for epoch 1: 0.2999\n",
            "\tTest accuracy for epoch 2: 0.3432\n",
            "\tTest accuracy for epoch 3: 0.3513\n",
            "\tTest accuracy for epoch 4: 0.3671\n",
            "\tTest accuracy for epoch 5: 0.3731\n",
            "\tTest accuracy for epoch 6: 0.3786\n",
            "\tTest accuracy for epoch 7: 0.3839\n",
            "\tTest accuracy for epoch 8: 0.3764\n",
            "\tTest accuracy for epoch 9: 0.3774\n",
            "\tTest accuracy for epoch 10: 0.3796\n",
            "\tTest accuracy for epoch 11: 0.3806\n",
            "\tTest accuracy for epoch 12: 0.3767\n",
            "\tTest accuracy for epoch 13: 0.3782\n",
            "\tTest accuracy for epoch 14: 0.3773\n",
            "\tTest accuracy for epoch 15: 0.3790\n",
            "\tTest accuracy for epoch 1: 0.3490\n",
            "\tTest accuracy for epoch 2: 0.4021\n",
            "\tTest accuracy for epoch 3: 0.4232\n",
            "\tTest accuracy for epoch 4: 0.4337\n",
            "\tTest accuracy for epoch 5: 0.4467\n",
            "\tTest accuracy for epoch 6: 0.4504\n",
            "\tTest accuracy for epoch 7: 0.4440\n",
            "\tTest accuracy for epoch 8: 0.4432\n",
            "\tTest accuracy for epoch 9: 0.4489\n",
            "\tTest accuracy for epoch 10: 0.4456\n",
            "\tTest accuracy for epoch 11: 0.4489\n",
            "\tTest accuracy for epoch 12: 0.4497\n",
            "\tTest accuracy for epoch 13: 0.4498\n",
            "\tTest accuracy for epoch 14: 0.4475\n",
            "\tTest accuracy for epoch 15: 0.4493\n",
            "\tTest accuracy for epoch 1: 0.4117\n",
            "\tTest accuracy for epoch 2: 0.4643\n",
            "\tTest accuracy for epoch 3: 0.4840\n",
            "\tTest accuracy for epoch 4: 0.5026\n",
            "\tTest accuracy for epoch 5: 0.5128\n",
            "\tTest accuracy for epoch 6: 0.5209\n",
            "\tTest accuracy for epoch 7: 0.5260\n",
            "\tTest accuracy for epoch 8: 0.5256\n",
            "\tTest accuracy for epoch 9: 0.5160\n",
            "\tTest accuracy for epoch 10: 0.5221\n",
            "\tTest accuracy for epoch 11: 0.5208\n",
            "\tTest accuracy for epoch 12: 0.5184\n",
            "\tTest accuracy for epoch 13: 0.5230\n",
            "\tTest accuracy for epoch 14: 0.5300\n",
            "\tTest accuracy for epoch 15: 0.5252\n"
          ]
        }
      ],
      "source": [
        "if LOAD:\n",
        "    sas_poisoned_train_25_model.load_state_dict(torch.load('models/sas_poisoned_train_25_baseline_model'))\n",
        "    sas_poisoned_train_50_model.load_state_dict(torch.load('models/sas_poisoned_train_50_baseline_model'))\n",
        "    sas_poisoned_train_75_model.load_state_dict(torch.load('models/sas_poisoned_train_75_baseline_model'))\n",
        "else:\n",
        "    train(sas_poisoned_train_25_model, 15, sas_poisoned_train_25_dl, cifar_test_dl)\n",
        "    train(sas_poisoned_train_50_model, 15, sas_poisoned_train_50_dl, cifar_test_dl)\n",
        "    train(sas_poisoned_train_75_model, 15, sas_poisoned_train_75_dl, cifar_test_dl)\n",
        "\n",
        "    torch.save(sas_poisoned_train_25_model.state_dict(), 'models/sas_poisoned_train_25_baseline_model')\n",
        "    torch.save(sas_poisoned_train_50_model.state_dict(), 'models/sas_poisoned_train_50_baseline_model')\n",
        "    torch.save(sas_poisoned_train_75_model.state_dict(), 'models/sas_poisoned_train_75_baseline_model')\n",
        "#"
      ]
    },
    {
      "cell_type": "code",
      "execution_count": null,
      "metadata": {
        "id": "pTQS-1HUjmO0"
      },
      "outputs": [],
      "source": [
        "if LOAD:\n",
        "    sas_train_25_model.load_state_dict(torch.load('models/sas_train_25_baseline_model'))\n",
        "    sas_train_50_model.load_state_dict(torch.load('models/sas_train_50_baseline_model'))\n",
        "    sas_train_75_model.load_state_dict(torch.load('models/sas_train_75_baseline_model'))\n",
        "else:\n",
        "    train(sas_train_25_model, 15, sas_train_25_dl, cifar_test_dl)\n",
        "    train(sas_train_50_model, 15, sas_train_50_dl, cifar_test_dl)\n",
        "    train(sas_train_75_model, 15, sas_train_75_dl, cifar_test_dl)\n",
        "\n",
        "    torch.save(sas_train_25_model.state_dict(), 'models/sas_train_25_baseline_model')\n",
        "    torch.save(sas_train_50_model.state_dict(), 'models/sas_train_50_baseline_model')\n",
        "    torch.save(sas_train_75_model.state_dict(), 'models/sas_train_75_baseline_model')\n",
        "#"
      ]
    },
    {
      "cell_type": "code",
      "execution_count": null,
      "metadata": {
        "id": "PhWMpBEA9OBF"
      },
      "outputs": [],
      "source": [
        "# random training on the poison\n",
        "random_poisoned_train_25_model = torchvision.models.resnet18().to('cuda')\n",
        "random_poisoned_train_50_model = torchvision.models.resnet18().to('cuda')\n",
        "random_poisoned_train_75_model = torchvision.models.resnet18().to('cuda')\n",
        "\n",
        "def make_subset(data, subset):\n",
        "    data.data = data.data[subset]\n",
        "    data.targets = [data.targets[x] for x in subset]\n",
        "\n",
        "random_poisoned_train_25_data = copy.deepcopy(patched_cifar_train_data)\n",
        "random_poisoned_train_50_data = copy.deepcopy(patched_cifar_train_data)\n",
        "random_poisoned_train_75_data = copy.deepcopy(patched_cifar_train_data)\n",
        "\n",
        "make_subset(random_poisoned_train_25_data, random_25)\n",
        "make_subset(random_poisoned_train_50_data, random_50)\n",
        "make_subset(random_poisoned_train_75_data, random_75)\n",
        "\n",
        "random_poisoned_train_25_dl = torch.utils.data.DataLoader(random_poisoned_train_25_data, batch_size=batch_size, shuffle=True)\n",
        "random_poisoned_train_50_dl = torch.utils.data.DataLoader(random_poisoned_train_50_data, batch_size=batch_size, shuffle=True)\n",
        "random_poisoned_train_75_dl = torch.utils.data.DataLoader(random_poisoned_train_75_data, batch_size=batch_size, shuffle=True)"
      ]
    },
    {
      "cell_type": "code",
      "execution_count": null,
      "metadata": {
        "id": "HvaCfVQr-jU2"
      },
      "outputs": [],
      "source": [
        "if LOAD:\n",
        "    random_poisoned_train_25_model.load_state_dict(torch.load('models/random_poisoned_train_25_baseline_model'))\n",
        "    random_poisoned_train_50_model.load_state_dict(torch.load('models/random_poisoned_train_50_baseline_model'))\n",
        "    random_poisoned_train_75_model.load_state_dict(torch.load('models/random_poisoned_train_75_baseline_model'))\n",
        "else:\n",
        "    train(random_poisoned_train_25_model, 15, random_poisoned_train_25_dl, cifar_test_dl)\n",
        "    train(random_poisoned_train_50_model, 15, random_poisoned_train_50_dl, cifar_test_dl)\n",
        "    train(random_poisoned_train_75_model, 15, random_poisoned_train_75_dl, cifar_test_dl)\n",
        "\n",
        "    torch.save(random_poisoned_train_25_model.state_dict(), 'models/random_poisoned_train_25_baseline_model')\n",
        "    torch.save(random_poisoned_train_50_model.state_dict(), 'models/random_poisoned_train_50_baseline_model')\n",
        "    torch.save(random_poisoned_train_75_model.state_dict(), 'models/random_poisoned_train_75_baseline_model')\n",
        "#"
      ]
    },
    {
      "cell_type": "code",
      "execution_count": null,
      "metadata": {
        "colab": {
          "base_uri": "https://localhost:8080/",
          "height": 394
        },
        "id": "sBc62qk9EGw4",
        "outputId": "24f38a35-7f22-4425-ab62-4fd4e16c5401"
      },
      "outputs": [
        {
          "ename": "KeyboardInterrupt",
          "evalue": "",
          "output_type": "error",
          "traceback": [
            "\u001b[1;31m---------------------------------------------------------------------------\u001b[0m",
            "\u001b[1;31mKeyboardInterrupt\u001b[0m                         Traceback (most recent call last)",
            "\u001b[1;32mc:\\Users\\matth\\OneDrive\\Documents\\20_Education\\UCLA\\CS_260D\\project\\cs260d_project.ipynb Cell 34\u001b[0m line \u001b[0;36m4\n\u001b[0;32m     <a href='vscode-notebook-cell:/c%3A/Users/matth/OneDrive/Documents/20_Education/UCLA/CS_260D/project/cs260d_project.ipynb#X44sZmlsZQ%3D%3D?line=40'>41</a>\u001b[0m results[\u001b[39m'\u001b[39m\u001b[39mPatched Test (Top 1 Accuracy)\u001b[39m\u001b[39m'\u001b[39m] \u001b[39m=\u001b[39m []\n\u001b[0;32m     <a href='vscode-notebook-cell:/c%3A/Users/matth/OneDrive/Documents/20_Education/UCLA/CS_260D/project/cs260d_project.ipynb#X44sZmlsZQ%3D%3D?line=41'>42</a>\u001b[0m \u001b[39mfor\u001b[39;00m model, name \u001b[39min\u001b[39;00m \u001b[39mzip\u001b[39m(models, model_names):\n\u001b[1;32m---> <a href='vscode-notebook-cell:/c%3A/Users/matth/OneDrive/Documents/20_Education/UCLA/CS_260D/project/cs260d_project.ipynb#X44sZmlsZQ%3D%3D?line=42'>43</a>\u001b[0m     results[\u001b[39m'\u001b[39m\u001b[39mBaseline Test (Top 1 Accuracy)\u001b[39m\u001b[39m'\u001b[39m]\u001b[39m.\u001b[39mappend(test(model, cifar_test_dl))\n\u001b[0;32m     <a href='vscode-notebook-cell:/c%3A/Users/matth/OneDrive/Documents/20_Education/UCLA/CS_260D/project/cs260d_project.ipynb#X44sZmlsZQ%3D%3D?line=43'>44</a>\u001b[0m     results[\u001b[39m'\u001b[39m\u001b[39mPatched Test (Top 1 Accuracy)\u001b[39m\u001b[39m'\u001b[39m]\u001b[39m.\u001b[39mappend(test(model, patched_cifar_test_dl))\n\u001b[0;32m     <a href='vscode-notebook-cell:/c%3A/Users/matth/OneDrive/Documents/20_Education/UCLA/CS_260D/project/cs260d_project.ipynb#X44sZmlsZQ%3D%3D?line=45'>46</a>\u001b[0m df \u001b[39m=\u001b[39m pd\u001b[39m.\u001b[39mDataFrame(results)\n",
            "\u001b[1;32mc:\\Users\\matth\\OneDrive\\Documents\\20_Education\\UCLA\\CS_260D\\project\\cs260d_project.ipynb Cell 34\u001b[0m line \u001b[0;36m1\n\u001b[0;32m      <a href='vscode-notebook-cell:/c%3A/Users/matth/OneDrive/Documents/20_Education/UCLA/CS_260D/project/cs260d_project.ipynb#X44sZmlsZQ%3D%3D?line=8'>9</a>\u001b[0m         X, y \u001b[39m=\u001b[39m X\u001b[39m.\u001b[39mto(\u001b[39m'\u001b[39m\u001b[39mcuda\u001b[39m\u001b[39m'\u001b[39m), y\u001b[39m.\u001b[39mto(\u001b[39m'\u001b[39m\u001b[39mcuda\u001b[39m\u001b[39m'\u001b[39m)\n\u001b[0;32m     <a href='vscode-notebook-cell:/c%3A/Users/matth/OneDrive/Documents/20_Education/UCLA/CS_260D/project/cs260d_project.ipynb#X44sZmlsZQ%3D%3D?line=9'>10</a>\u001b[0m         pred \u001b[39m=\u001b[39m model(X)\n\u001b[1;32m---> <a href='vscode-notebook-cell:/c%3A/Users/matth/OneDrive/Documents/20_Education/UCLA/CS_260D/project/cs260d_project.ipynb#X44sZmlsZQ%3D%3D?line=10'>11</a>\u001b[0m         accuracy \u001b[39m+\u001b[39m\u001b[39m=\u001b[39m (pred\u001b[39m.\u001b[39;49margmax(\u001b[39m1\u001b[39;49m) \u001b[39m==\u001b[39;49m y)\u001b[39m.\u001b[39;49mtype(torch\u001b[39m.\u001b[39;49mfloat)\u001b[39m.\u001b[39;49msum()\u001b[39m.\u001b[39;49mitem()\n\u001b[0;32m     <a href='vscode-notebook-cell:/c%3A/Users/matth/OneDrive/Documents/20_Education/UCLA/CS_260D/project/cs260d_project.ipynb#X44sZmlsZQ%3D%3D?line=11'>12</a>\u001b[0m     \u001b[39m#\u001b[39;00m\n\u001b[0;32m     <a href='vscode-notebook-cell:/c%3A/Users/matth/OneDrive/Documents/20_Education/UCLA/CS_260D/project/cs260d_project.ipynb#X44sZmlsZQ%3D%3D?line=12'>13</a>\u001b[0m \u001b[39mreturn\u001b[39;00m accuracy \u001b[39m/\u001b[39m \u001b[39mlen\u001b[39m(test_dl\u001b[39m.\u001b[39mdataset)\n",
            "\u001b[1;31mKeyboardInterrupt\u001b[0m: "
          ]
        }
      ],
      "source": [
        "import pandas as pd\n",
        "\n",
        "models = [\n",
        "    net,\n",
        "    poisoned_net,\n",
        "    sas_train_25_model,\n",
        "    sas_train_50_model,\n",
        "    sas_train_75_model,\n",
        "    sas_poisoned_train_25_model,\n",
        "    sas_poisoned_train_50_model,\n",
        "    sas_poisoned_train_75_model,\n",
        "    random_train_25_model,\n",
        "    random_train_50_model,\n",
        "    random_train_75_model,\n",
        "    random_poisoned_train_25_model,\n",
        "    random_poisoned_train_50_model,\n",
        "    random_poisoned_train_75_model,\n",
        "]\n",
        "model_names = [\n",
        "    'baseline_model',\n",
        "    'poisoned_baseline',\n",
        "    'sas_train_25_model',\n",
        "    'sas_train_50_model',\n",
        "    'sas_train_75_model',\n",
        "    'sas_poisoned_train_25_model',\n",
        "    'sas_poisoned_train_50_model',\n",
        "    'sas_poisoned_train_75_model',\n",
        "    'random_train_25_model',\n",
        "    'random_train_50_model',\n",
        "    'random_train_75_model',\n",
        "    'random_poisoned_train_25_model',\n",
        "    'random_poisoned_train_50_model',\n",
        "    'random_poisoned_train_75_model',\n",
        "]\n",
        "\n",
        "[x.eval() for x in models]\n",
        "\n",
        "results = {}\n",
        "results['Model'] = model_names\n",
        "results['Baseline Test (Top 1 Accuracy)'] = []\n",
        "results['Patched Test (Top 1 Accuracy)'] = []\n",
        "for model, name in zip(models, model_names):\n",
        "    results['Baseline Test (Top 1 Accuracy)'].append(test(model, cifar_test_dl))\n",
        "    results['Patched Test (Top 1 Accuracy)'].append(test(model, patched_cifar_test_dl))\n",
        "\n",
        "df = pd.DataFrame(results)\n",
        "df"
      ]
    },
    {
      "cell_type": "markdown",
      "metadata": {
        "id": "vhBEn4M7h9sQ"
      },
      "source": [
        "# Work on the forgettable and unforgettable events"
      ]
    },
    {
      "cell_type": "markdown",
      "metadata": {
        "id": "86W_kptDhTGL"
      },
      "source": [
        "Forgettable events w/o poison:"
      ]
    },
    {
      "cell_type": "code",
      "execution_count": null,
      "metadata": {
        "id": "VRw_4yaAgHuK"
      },
      "outputs": [],
      "source": [
        "# now grab a subset of X percent using the call_greedy on each subset\n",
        "# probably get a subset at 25% 50% 75%\n",
        "import copy\n",
        "import csv\n",
        "\n",
        "LOAD = False\n",
        "if LOAD:\n",
        "    forgets_subset_25 = np.loadtxt(\"models/forgets_subset_25.csv\", delimiter=',', dtype=int)\n",
        "    forgets_subset_50 = np.loadtxt(\"models/forgets_subset_50.csv\", delimiter=',', dtype=int)\n",
        "    forgets_subset_75 = np.loadtxt(\"models/forgets_subset_75.csv\", delimiter=',', dtype=int)\n",
        "else:\n",
        "    # need to be able to split the subset based on class\n",
        "    print('\\n-------25--------')\n",
        "    forgets_subset_25 = call_greedy(forgets, .25)\n",
        "\n",
        "    print('\\n-------50--------')\n",
        "    forgets_subset_50 = call_greedy(forgets, .5)\n",
        "\n",
        "    print('\\n-------75--------')\n",
        "    forgets_subset_75 = call_greedy(forgets, .75)\n",
        "\n",
        "    # save the subsets to disk\n",
        "    np.savetxt(\"models/forgets_subset_25.csv\", forgets_subset_25, delimiter=\",\")\n",
        "    np.savetxt(\"models/forgettables_subset_50.csv\", forgets_subset_50, delimiter=\",\")\n",
        "    np.savetxt(\"models/forgettables_subset_75.csv\", forgets_subset_75, delimiter=\",\")"
      ]
    },
    {
      "cell_type": "code",
      "execution_count": null,
      "metadata": {
        "id": "dn-TypSygJM4"
      },
      "outputs": [],
      "source": [
        "forgets_train_25_model = torchvision.models.resnet18().to('cuda')\n",
        "forgets_train_50_model = torchvision.models.resnet18().to('cuda')\n",
        "forgets_train_75_model = torchvision.models.resnet18().to('cuda')\n",
        "\n",
        "def make_subset(data, subset):\n",
        "    data.data = data.data[subset]\n",
        "    data.targets = [data.targets[x] for x in subset]\n",
        "\n",
        "forgets_train_25_data = copy.deepcopy(cifar_train_data)\n",
        "forgets_train_50_data = copy.deepcopy(cifar_train_data)\n",
        "forgets_train_75_data = copy.deepcopy(cifar_train_data)\n",
        "\n",
        "make_subset(forgets_train_25_data, forgets_subset_25)\n",
        "make_subset(forgets_train_50_data, forgets_subset_50)\n",
        "make_subset(forgets_train_75_data, forgets_subset_75)\n",
        "\n",
        "forgets_train_25_dl = torch.utils.data.DataLoader(forgets_train_25_data, batch_size=batch_size, shuffle=True)\n",
        "forgets_train_50_dl = torch.utils.data.DataLoader(forgets_train_50_data, batch_size=batch_size, shuffle=True)\n",
        "forgets_train_75_dl = torch.utils.data.DataLoader(forgets_train_75_data, batch_size=batch_size, shuffle=True)\n"
      ]
    },
    {
      "cell_type": "code",
      "execution_count": null,
      "metadata": {
        "id": "o20inJwtgUPT"
      },
      "outputs": [],
      "source": [
        "if LOAD:\n",
        "    forgets_train_25_model.load_state_dict(torch.load('models/forgets_train_25_baseline_model'))\n",
        "    forgets_train_50_model.load_state_dict(torch.load('models/forgets_train_50_baseline_model'))\n",
        "    forgets_train_75_model.load_state_dict(torch.load('models/forgets_train_75_baseline_model'))\n",
        "else:\n",
        "    train(forgets_train_25_model, 15, forgets_train_25_dl, cifar_test_dl)\n",
        "    train(forgets_train_50_model, 15, forgets_train_50_dl, cifar_test_dl)\n",
        "    train(forgets_train_75_model, 15, forgets_train_75_dl, cifar_test_dl)\n",
        "\n",
        "    torch.save(forgets_train_25_model.state_dict(), 'models/forgets_train_25_baseline_model')\n",
        "    torch.save(forgets_train_50_model.state_dict(), 'models/forgets_train_50_baseline_model')\n",
        "    torch.save(forgets_train_75_model.state_dict(), 'models/forgets_train_75_baseline_model')"
      ]
    },
    {
      "cell_type": "markdown",
      "metadata": {
        "id": "dJ4q9brehZIk"
      },
      "source": [
        "Unforgettable events w/o poison:"
      ]
    },
    {
      "cell_type": "code",
      "execution_count": null,
      "metadata": {
        "id": "Alheh94q0YQU"
      },
      "outputs": [],
      "source": []
    },
    {
      "cell_type": "code",
      "execution_count": null,
      "metadata": {
        "id": "1Z_T1y6flL1A"
      },
      "outputs": [],
      "source": [
        "# now grab a subset of X percent using the call_greedy on each subset\n",
        "# probably get a subset at 25% 50% 75%\n",
        "import copy\n",
        "import csv\n",
        "\n",
        "LOAD = False\n",
        "if LOAD:\n",
        "    unforgets_subset_25 = np.loadtxt(\"models/unforgets_subset_25.csv\", delimiter=',', dtype=int)\n",
        "    unforgets_subset_50 = np.loadtxt(\"models/unforgets_subset_50.csv\", delimiter=',', dtype=int)\n",
        "    unforgets_subset_75 = np.loadtxt(\"models/unforgets_subset_75.csv\", delimiter=',', dtype=int)\n",
        "else:\n",
        "    # need to be able to split the subset based on class\n",
        "    print('\\n-------25--------')\n",
        "    unforgets_subset_25 = call_greedy(unforgets, .25)\n",
        "\n",
        "    print('\\n-------50--------')\n",
        "    unforgets_subset_50 = call_greedy(unforgets, .5)\n",
        "\n",
        "    print('\\n-------75--------')\n",
        "    unforgets_subset_75 = call_greedy(unforgets, .75)\n",
        "\n",
        "    # save the subsets to disk\n",
        "    np.savetxt(\"models/unforgets_subset_25.csv\", unforgets_subset_25, delimiter=\",\")\n",
        "    np.savetxt(\"models/unforgettables_subset_50.csv\", unforgets_subset_50, delimiter=\",\")\n",
        "    np.savetxt(\"models/unforgettables_subset_75.csv\", unforgets_subset_75, delimiter=\",\")"
      ]
    },
    {
      "cell_type": "code",
      "execution_count": null,
      "metadata": {
        "id": "xFBcN9m5lP0i"
      },
      "outputs": [],
      "source": [
        "unforgets_train_25_model = torchvision.models.resnet18().to('cuda')\n",
        "unforgets_train_50_model = torchvision.models.resnet18().to('cuda')\n",
        "unforgets_train_75_model = torchvision.models.resnet18().to('cuda')\n",
        "\n",
        "def make_subset(data, subset):\n",
        "    data.data = data.data[subset]\n",
        "    data.targets = [data.targets[x] for x in subset]\n",
        "\n",
        "unforgets_train_25_data = copy.deepcopy(cifar_train_data)\n",
        "unforgets_train_50_data = copy.deepcopy(cifar_train_data)\n",
        "unforgets_train_75_data = copy.deepcopy(cifar_train_data)\n",
        "\n",
        "make_subset(unforgets_train_25_data, unforgets_subset_25)\n",
        "make_subset(unforgets_train_50_data, unforgets_subset_50)\n",
        "make_subset(unforgets_train_75_data, unforgets_subset_75)\n",
        "\n",
        "unforgets_train_25_dl = torch.utils.data.DataLoader(unforgets_train_25_data, batch_size=batch_size, shuffle=True)\n",
        "unforgets_train_50_dl = torch.utils.data.DataLoader(unforgets_train_50_data, batch_size=batch_size, shuffle=True)\n",
        "unforgets_train_75_dl = torch.utils.data.DataLoader(unforgets_train_75_data, batch_size=batch_size, shuffle=True)\n"
      ]
    },
    {
      "cell_type": "code",
      "execution_count": null,
      "metadata": {
        "id": "sZQ4T5VilToV"
      },
      "outputs": [],
      "source": [
        "if LOAD:\n",
        "    unforgets_train_25_model.load_state_dict(torch.load('models/unforgets_train_25_baseline_model'))\n",
        "    unforgets_train_50_model.load_state_dict(torch.load('models/unforgets_train_50_baseline_model'))\n",
        "    unforgets_train_75_model.load_state_dict(torch.load('models/unforgets_train_75_baseline_model'))\n",
        "else:\n",
        "    train(unforgets_train_25_model, 15, unforgets_train_25_dl, cifar_test_dl)\n",
        "    train(unforgets_train_50_model, 15, unforgets_train_50_dl, cifar_test_dl)\n",
        "    train(unforgets_train_75_model, 15, unforgets_train_75_dl, cifar_test_dl)\n",
        "\n",
        "    torch.save(unforgets_train_25_model.state_dict(), 'models/unforgets_train_25_baseline_model')\n",
        "    torch.save(unforgets_train_50_model.state_dict(), 'models/unforgets_train_50_baseline_model')\n",
        "    torch.save(unforgets_train_75_model.state_dict(), 'models/unforgets_train_75_baseline_model')"
      ]
    },
    {
      "cell_type": "markdown",
      "metadata": {
        "id": "nBk0WynMlGdc"
      },
      "source": [
        "Forgettable events w/ poison:"
      ]
    },
    {
      "cell_type": "code",
      "execution_count": null,
      "metadata": {
        "id": "BFajVeMKlIQP"
      },
      "outputs": [],
      "source": [
        "# Apply patch the forgettable events\n",
        "patch_size = 10\n",
        "\n",
        "patched_forgets_train_data = copy.deepcopy(forgets)\n",
        "patched_forgets_images = apply_patch(patched_forgets_train_data, patch_size)\n",
        "\n",
        "patched_forgets_train_dl = torch.utils.data.DataLoader(patched_forgets_train_data, batch_size=batch_size, shuffle=True)"
      ]
    },
    {
      "cell_type": "code",
      "execution_count": null,
      "metadata": {
        "id": "vLzYoRh3lgVK"
      },
      "outputs": [],
      "source": [
        "# now grab a subset of X percent using the call_greedy on each subset\n",
        "# probably get a subset at 25% 50% 75%\n",
        "import copy\n",
        "import csv\n",
        "\n",
        "if LOAD:\n",
        "    forgets_poisoned_subset_25 = np.loadtxt(\"models/forgets_poisoned_subset_25.csv\", delimiter=',', dtype=int)\n",
        "    forgets_poisoned_subset_50 = np.loadtxt(\"models/forgets_poisoned_subset_50.csv\", delimiter=',', dtype=int)\n",
        "    forgets_poisoned_subset_75 = np.loadtxt(\"models/forgets_poisoned_subset_75.csv\", delimiter=',', dtype=int)\n",
        "else:\n",
        "    # need to be able to split the subset based on class\n",
        "    print('\\n-------25--------')\n",
        "    forgets_poisoned_subset_25 = call_greedy(patched_forgets_train_data, .25)\n",
        "\n",
        "    print('\\n-------50--------')\n",
        "    forgets_poisoned_subset_50 = call_greedy(patched_forgets_train_data, .5)\n",
        "\n",
        "    print('\\n-------75--------')\n",
        "    forgets_poisoned_subset_75 = call_greedy(patched_forgets_train_data, .75)\n",
        "\n",
        "    np.savetxt(\"models/forgets_poisoned_subset_25.csv\", forgets_poisoned_subset_25, delimiter=\",\")\n",
        "    np.savetxt(\"models/forgets_poisoned_subset_50.csv\", forgets_poisoned_subset_50, delimiter=\",\")\n",
        "    np.savetxt(\"models/forgets_poisoned_subset_75.csv\", forgets_poisoned_subset_75, delimiter=\",\")\n",
        "#"
      ]
    },
    {
      "cell_type": "code",
      "execution_count": null,
      "metadata": {
        "id": "b-CxcGKXmMqk"
      },
      "outputs": [],
      "source": [
        "# remaining : sas training on the forgettable poisoned stuff\n",
        "forgets_poisoned_train_25_model = torchvision.models.resnet18().to('cuda')\n",
        "forgets_poisoned_train_50_model = torchvision.models.resnet18().to('cuda')\n",
        "forgets_poisoned_train_75_model = torchvision.models.resnet18().to('cuda')\n",
        "\n",
        "def make_subset(data, subset):\n",
        "    data.data = data.data[subset]\n",
        "    data.targets = [data.targets[x] for x in subset]\n",
        "\n",
        "forgets_poisoned_train_25_data = copy.deepcopy(patched_forgets_train_data)\n",
        "forgets_poisoned_train_50_data = copy.deepcopy(patched_forgets_train_data)\n",
        "forgets_poisoned_train_75_data = copy.deepcopy(patched_forgets_train_data)\n",
        "\n",
        "make_subset(forgets_poisoned_train_25_data, forgets_poisoned_subset_25)\n",
        "make_subset(forgets_poisoned_train_50_data, forgets_poisoned_subset_50)\n",
        "make_subset(forgets_poisoned_train_75_data, forgets_poisoned_subset_75)\n",
        "\n",
        "forgets_poisoned_train_25_dl = torch.utils.data.DataLoader(forgets_poisoned_train_25_data, batch_size=batch_size, shuffle=True)\n",
        "forgets_poisoned_train_50_dl = torch.utils.data.DataLoader(forgets_poisoned_train_50_data, batch_size=batch_size, shuffle=True)\n",
        "forgets_poisoned_train_75_dl = torch.utils.data.DataLoader(forgets_poisoned_train_75_data, batch_size=batch_size, shuffle=True)"
      ]
    },
    {
      "cell_type": "code",
      "execution_count": null,
      "metadata": {
        "id": "-vvW0zBCmSdh"
      },
      "outputs": [],
      "source": [
        "#Trying to debug, get an error because of \"data type\"\n",
        "\n",
        "if LOAD:\n",
        "    forgets_poisoned_train_25_model.load_state_dict(torch.load('models/forgets_poisoned_train_25_baseline_model'))\n",
        "    forgets_poisoned_train_50_model.load_state_dict(torch.load('models/forgets_poisoned_train_50_baseline_model'))\n",
        "    forgets_poisoned_train_75_model.load_state_dict(torch.load('models/forgets_poisoned_train_75_baseline_model'))\n",
        "else:\n",
        "    train(forgets_poisoned_train_25_model, 15, forgets_poisoned_train_25_dl, cifar_test_dl)\n",
        "    train(forgets_poisoned_train_50_model, 15, forgets_poisoned_train_50_dl, cifar_test_dl)\n",
        "    train(forgets_poisoned_train_75_model, 15, forgets_poisoned_train_75_dl, cifar_test_dl)\n",
        "\n",
        "    torch.save(forgets_poisoned_train_25_model.state_dict(), 'models/forgets_poisoned_train_25_baseline_model')\n",
        "    torch.save(forgets_poisoned_train_50_model.state_dict(), 'models/forgets_poisoned_train_50_baseline_model')\n",
        "    torch.save(forgets_poisoned_train_75_model.state_dict(), 'models/forgets_poisoned_train_75_baseline_model')\n",
        "#"
      ]
    },
    {
      "cell_type": "code",
      "execution_count": null,
      "metadata": {
        "id": "mR50vHmJf-SD",
        "outputId": "02c10836-dca4-4346-e7c3-4ba9fcd16eb2"
      },
      "outputs": [
        {
          "name": "stdout",
          "output_type": "stream",
          "text": [
            "50176\n"
          ]
        }
      ],
      "source": [
        "print(len(cifar_train_dl)*256)"
      ]
    },
    {
      "cell_type": "code",
      "execution_count": null,
      "metadata": {
        "id": "DJQLVzgQf-SE",
        "outputId": "17162ead-5c56-47fd-b207-d4a701f6fa77"
      },
      "outputs": [
        {
          "name": "stdout",
          "output_type": "stream",
          "text": [
            "192\n",
            "749808\n",
            "[8424, 11239, 14066, 14821, 17009, 17017, 17216, 17237, 17996, 18306, 20211, 20865, 24013, 30835, 33615, 37337, 37382, 38015, 38813, 40153, 43196, 44395, 45394, 45790, 46234, 46987, 48265, 48963, 49986, 2017, 4636, 6201, 7734, 8708, 9929, 9972, 10867, 12085, 13416, 13643, 13674, 14630, 17614, 18664, 18670, 18702, 18740, 18764, 18858, 18878, 19255, 19716, 19733, 19877, 22862, 23389, 23565, 24487, 25414, 32394, 35812, 35833, 35971, 37467, 42929, 45002, 836, 2953, 3144, 8850, 8976, 12598, 12621, 12640, 12668, 15161, 20903, 21060, 21233, 22488, 23394, 24285, 24296, 25439, 26850, 26895, 28435, 30438, 31189, 35639, 9110, 28705, 41663, 42501, 7665, 27923, 29797, 30309, 30328, 30373, 30391, 33638, 38647, 40787, 40871, 41916, 43060, 50709, 50731, 50757, 2252, 2306, 2371, 2525, 2640, 2796, 3078, 4690, 4700, 4728, 7218, 7573, 8339, 11157, 11284, 13093, 15442, 15463, 15518, 17387, 24188, 26360, 26406, 27982, 35961, 36819, 39137, 39296, 1664, 2744, 8443, 20782, 30144, 43971, 46372, 47664, 13644, 14284, 20503, 42351, 42366, 46665, 51314, 7950, 14166, 34896, 38116, 38366, 43154, 43216, 51492, 2333, 2447, 25265, 26954, 33163, 47755, 47792, 50414, 51714, 2545, 16509, 26580, 32652, 49506, 51897, 6404, 17311, 25145, 39730, 43573, 45810, 17756, 38350, 40520, 42089, 42153, 46023, 47335, 10938, 21265, 52676]\n"
          ]
        }
      ],
      "source": [
        "print(len(forgettables_indices))\n",
        "print(len(unforgettables_indices))\n",
        "\n",
        "print(forgettables_indices)\n",
        "# print(unforgettables_indices)"
      ]
    },
    {
      "cell_type": "code",
      "execution_count": null,
      "metadata": {
        "id": "O6lAu6EOiC_D",
        "outputId": "2126c60d-79be-405c-f9b3-bc75540988a7"
      },
      "outputs": [
        {
          "name": "stdout",
          "output_type": "stream",
          "text": [
            "0 8424\n",
            "1 11239\n",
            "2 14066\n",
            "3 14821\n",
            "4 17009\n",
            "5 17017\n",
            "6 17216\n",
            "7 17237\n",
            "8 17996\n",
            "9 18306\n",
            "10 20211\n",
            "11 20865\n",
            "12 24013\n",
            "13 30835\n",
            "14 33615\n",
            "15 37337\n",
            "16 37382\n",
            "17 38015\n",
            "18 38813\n",
            "19 40153\n",
            "20 43196\n",
            "21 44395\n",
            "22 45394\n",
            "23 45790\n",
            "24 46234\n",
            "25 46987\n",
            "26 48265\n",
            "27 48963\n",
            "28 49986\n",
            "29 2017\n",
            "30 4636\n",
            "31 6201\n",
            "32 7734\n",
            "33 8708\n",
            "34 9929\n",
            "35 9972\n",
            "36 10867\n",
            "37 12085\n",
            "38 13416\n",
            "39 13643\n",
            "40 13674\n",
            "41 14630\n",
            "42 17614\n",
            "43 18664\n",
            "44 18670\n",
            "45 18702\n",
            "46 18740\n",
            "47 18764\n",
            "48 18858\n",
            "49 18878\n",
            "50 19255\n",
            "51 19716\n",
            "52 19733\n",
            "53 19877\n",
            "54 22862\n",
            "55 23389\n",
            "56 23565\n",
            "57 24487\n",
            "58 25414\n",
            "59 32394\n",
            "60 35812\n",
            "61 35833\n",
            "62 35971\n",
            "63 37467\n",
            "64 42929\n",
            "65 45002\n",
            "66 836\n",
            "67 2953\n",
            "68 3144\n",
            "69 8850\n",
            "70 8976\n",
            "71 12598\n",
            "72 12621\n",
            "73 12640\n",
            "74 12668\n",
            "75 15161\n",
            "76 20903\n",
            "77 21060\n",
            "78 21233\n",
            "79 22488\n",
            "80 23394\n",
            "81 24285\n",
            "82 24296\n",
            "83 25439\n",
            "84 26850\n",
            "85 26895\n",
            "86 28435\n",
            "87 30438\n",
            "88 31189\n",
            "89 35639\n",
            "90 9110\n",
            "91 28705\n",
            "92 41663\n",
            "93 42501\n",
            "94 7665\n",
            "95 27923\n",
            "96 29797\n",
            "97 30309\n",
            "98 30328\n",
            "99 30373\n",
            "100 30391\n",
            "101 33638\n",
            "102 38647\n",
            "103 40787\n",
            "104 40871\n",
            "105 41916\n",
            "106 43060\n"
          ]
        },
        {
          "ename": "IndexError",
          "evalue": "index 50709 is out of bounds for axis 0 with size 50000",
          "output_type": "error",
          "traceback": [
            "\u001b[1;31m---------------------------------------------------------------------------\u001b[0m",
            "\u001b[1;31mIndexError\u001b[0m                                Traceback (most recent call last)",
            "\u001b[1;32mc:\\Users\\matth\\OneDrive\\Documents\\20_Education\\UCLA\\CS_260D\\project\\cs260d_project.ipynb Cell 35\u001b[0m line \u001b[0;36m1\n\u001b[0;32m     <a href='vscode-notebook-cell:/c%3A/Users/matth/OneDrive/Documents/20_Education/UCLA/CS_260D/project/cs260d_project.ipynb#X46sZmlsZQ%3D%3D?line=9'>10</a>\u001b[0m \u001b[39m# forgettables_indices, unforgettables_indices = train(net, 15, cifar_train_dl, cifar_test_dl)\u001b[39;00m\n\u001b[0;32m     <a href='vscode-notebook-cell:/c%3A/Users/matth/OneDrive/Documents/20_Education/UCLA/CS_260D/project/cs260d_project.ipynb#X46sZmlsZQ%3D%3D?line=11'>12</a>\u001b[0m forgettables_cifar_train_data \u001b[39m=\u001b[39m copy\u001b[39m.\u001b[39mdeepcopy(cifar_train_data)\n\u001b[1;32m---> <a href='vscode-notebook-cell:/c%3A/Users/matth/OneDrive/Documents/20_Education/UCLA/CS_260D/project/cs260d_project.ipynb#X46sZmlsZQ%3D%3D?line=12'>13</a>\u001b[0m forgettables_images \u001b[39m=\u001b[39m forgettable_events(forgettables_cifar_train_data, forgettables_indices)\n\u001b[0;32m     <a href='vscode-notebook-cell:/c%3A/Users/matth/OneDrive/Documents/20_Education/UCLA/CS_260D/project/cs260d_project.ipynb#X46sZmlsZQ%3D%3D?line=14'>15</a>\u001b[0m forgetttables_cifar_train_dl \u001b[39m=\u001b[39m torch\u001b[39m.\u001b[39mutils\u001b[39m.\u001b[39mdata\u001b[39m.\u001b[39mDataLoader(forgettables_cifar_train_data, batch_size\u001b[39m=\u001b[39mbatch_size, shuffle\u001b[39m=\u001b[39m\u001b[39mTrue\u001b[39;00m)\n",
            "\u001b[1;32mc:\\Users\\matth\\OneDrive\\Documents\\20_Education\\UCLA\\CS_260D\\project\\cs260d_project.ipynb Cell 35\u001b[0m line \u001b[0;36m4\n\u001b[0;32m      <a href='vscode-notebook-cell:/c%3A/Users/matth/OneDrive/Documents/20_Education/UCLA/CS_260D/project/cs260d_project.ipynb#X46sZmlsZQ%3D%3D?line=1'>2</a>\u001b[0m \u001b[39mdef\u001b[39;00m \u001b[39mforgettable_events\u001b[39m(dataset, forgettables_indices):\n\u001b[0;32m      <a href='vscode-notebook-cell:/c%3A/Users/matth/OneDrive/Documents/20_Education/UCLA/CS_260D/project/cs260d_project.ipynb#X46sZmlsZQ%3D%3D?line=2'>3</a>\u001b[0m     \u001b[39mfor\u001b[39;00m idx, x \u001b[39min\u001b[39;00m \u001b[39menumerate\u001b[39m(forgettables_indices):\n\u001b[1;32m----> <a href='vscode-notebook-cell:/c%3A/Users/matth/OneDrive/Documents/20_Education/UCLA/CS_260D/project/cs260d_project.ipynb#X46sZmlsZQ%3D%3D?line=3'>4</a>\u001b[0m       image \u001b[39m=\u001b[39m dataset\u001b[39m.\u001b[39;49mdata[x] \u001b[39m##Todo: check forgettale indices code bc it is out of range :(\u001b[39;00m\n\u001b[0;32m      <a href='vscode-notebook-cell:/c%3A/Users/matth/OneDrive/Documents/20_Education/UCLA/CS_260D/project/cs260d_project.ipynb#X46sZmlsZQ%3D%3D?line=4'>5</a>\u001b[0m       \u001b[39mprint\u001b[39m(idx, x)\n\u001b[0;32m      <a href='vscode-notebook-cell:/c%3A/Users/matth/OneDrive/Documents/20_Education/UCLA/CS_260D/project/cs260d_project.ipynb#X46sZmlsZQ%3D%3D?line=6'>7</a>\u001b[0m     \u001b[39mreturn\u001b[39;00m forgettables_indices\n",
            "\u001b[1;31mIndexError\u001b[0m: index 50709 is out of bounds for axis 0 with size 50000"
          ]
        }
      ],
      "source": [
        "## Get the forgettable data in OG data\n",
        "def forgettable_events(dataset, forgettables_indices):\n",
        "    for idx, x in enumerate(forgettables_indices):\n",
        "      image = dataset.data[x] ##Todo: check forgettale indices code bc it is out of range :(\n",
        "      print(idx, x)\n",
        "\n",
        "    return forgettables_indices\n",
        "\n",
        "\n",
        "forgettables_indices, unforgettables_indices = train(net, 15, cifar_train_dl, cifar_test_dl)\n",
        "\n",
        "forgettables_cifar_train_data = copy.deepcopy(cifar_train_data)\n",
        "forgettables_images = forgettable_events(forgettables_cifar_train_data, forgettables_indices)\n",
        "\n",
        "forgetttables_cifar_train_dl = torch.utils.data.DataLoader(forgettables_cifar_train_data, batch_size=batch_size, shuffle=True)"
      ]
    }
  ],
  "metadata": {
    "accelerator": "GPU",
    "colab": {
      "gpuType": "T4",
      "provenance": []
    },
    "kernelspec": {
      "display_name": "Python 3",
      "name": "python3"
    },
    "language_info": {
      "codemirror_mode": {
        "name": "ipython",
        "version": 3
      },
      "file_extension": ".py",
      "mimetype": "text/x-python",
      "name": "python",
      "nbconvert_exporter": "python",
      "pygments_lexer": "ipython3",
      "version": "3.9.16"
    }
  },
  "nbformat": 4,
  "nbformat_minor": 0
}
