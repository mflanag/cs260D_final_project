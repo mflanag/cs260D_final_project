{
  "nbformat": 4,
  "nbformat_minor": 0,
  "metadata": {
    "colab": {
      "provenance": [],
      "gpuType": "T4"
    },
    "kernelspec": {
      "name": "python3",
      "display_name": "Python 3"
    },
    "language_info": {
      "name": "python"
    },
    "accelerator": "GPU"
  },
  "cells": [
    {
      "cell_type": "code",
      "execution_count": 1,
      "metadata": {
        "id": "fwYi9dB36eJq"
      },
      "outputs": [],
      "source": [
        "import numpy as np\n",
        "from sklearn.cluster import KMeans\n",
        "from sklearn.metrics.pairwise import cosine_similarity\n",
        "import tensorflow.compat.v1 as tf\n",
        "from tensorflow.keras.datasets import cifar10\n",
        "from tensorflow.keras import datasets, models\n",
        "from tensorflow.keras.preprocessing.image import ImageDataGenerator\n",
        "from tensorflow.keras.layers import Dense, GlobalAveragePooling2D\n",
        "from tensorflow.keras.optimizers import Adam\n",
        "from tensorflow.keras.callbacks import LearningRateScheduler"
      ]
    },
    {
      "cell_type": "code",
      "source": [
        "# Load CIFAR-10 dataset\n",
        "(train_images, train_labels), (test_images, test_labels) = cifar10.load_data()\n"
      ],
      "metadata": {
        "id": "c2LBWGPM6qTP",
        "colab": {
          "base_uri": "https://localhost:8080/"
        },
        "outputId": "57efadfe-bc75-4d52-e886-26221be3bc37"
      },
      "execution_count": 2,
      "outputs": [
        {
          "output_type": "stream",
          "name": "stdout",
          "text": [
            "Downloading data from https://www.cs.toronto.edu/~kriz/cifar-10-python.tar.gz\n",
            "170498071/170498071 [==============================] - 13s 0us/step\n"
          ]
        }
      ]
    },
    {
      "cell_type": "code",
      "source": [
        "# Define a simple ResNet50-like model\n",
        "base_model = tf.keras.applications.ResNet50(weights='imagenet', include_top=False, input_shape=(32, 32, 3))\n",
        "model = models.Sequential([\n",
        "    base_model,\n",
        "    GlobalAveragePooling2D(),\n",
        "    Dense(10, activation='softmax')\n",
        "])"
      ],
      "metadata": {
        "id": "cayiZsJT7NSq",
        "colab": {
          "base_uri": "https://localhost:8080/"
        },
        "outputId": "8f595991-69e1-4be0-8086-bffc399db1d1"
      },
      "execution_count": 4,
      "outputs": [
        {
          "output_type": "stream",
          "name": "stdout",
          "text": [
            "Downloading data from https://storage.googleapis.com/tensorflow/keras-applications/resnet/resnet50_weights_tf_dim_ordering_tf_kernels_notop.h5\n",
            "94765736/94765736 [==============================] - 5s 0us/step\n"
          ]
        }
      ]
    },
    {
      "cell_type": "code",
      "source": [
        "model.compile(optimizer='adam', loss='sparse_categorical_crossentropy', metrics=['accuracy'])\n"
      ],
      "metadata": {
        "id": "6pmZ_Ocb7NVJ"
      },
      "execution_count": 5,
      "outputs": []
    },
    {
      "cell_type": "code",
      "source": [
        "# Function to generate adversarial patches\n",
        "def generate_adversarial_patch(model, image, target_class, poison_rate):\n",
        "    import cleverhans.attacks as attacks\n",
        "\n",
        "    sess = tf.compat.v1.keras.backend.get_session()\n",
        "    attack = attacks.FastGradientMethod(model, sess=sess)\n",
        "\n",
        "    # Determine the number of pixels to poison based on poison_rate\n",
        "    num_pixels_to_poison = int(np.prod(image.shape) * poison_rate)\n",
        "\n",
        "    # Randomly select pixels to poison in the target class (airplanes)\n",
        "    poison_mask = np.zeros_like(image, dtype=bool)\n",
        "    target_class_indices = np.where(train_labels == target_class)[0]\n",
        "    pixels_to_poison = np.random.choice(target_class_indices, size=num_pixels_to_poison, replace=False)\n",
        "    poison_mask[pixels_to_poison] = True\n",
        "\n",
        "    # Generate adversarial patch only on the selected pixels\n",
        "    adversarial_patch = attack.generate_np(image * poison_mask, eps=0.03)\n",
        "\n",
        "    return adversarial_patch\n",
        "\n",
        "# Function to calculate forgettable and unforgettable scores\n",
        "def calculate_forgettable_unforgettable_scores(model, images):\n",
        "    # Implement your forgettable and unforgettable score calculation method here\n",
        "    # Example: Use model predictions and some criteria to determine scores\n",
        "    forgettable_scores = model.predict(images)[:, 0]  # Example: Using the probability of being forgettable\n",
        "    unforgettable_scores = 1 - forgettable_scores\n",
        "\n",
        "    return forgettable_scores, unforgettable_scores\n"
      ],
      "metadata": {
        "id": "OHMZVtkb7NYD"
      },
      "execution_count": 6,
      "outputs": []
    },
    {
      "cell_type": "code",
      "source": [
        "# Function to poison the dataset\n",
        "def poison_dataset(images, labels, poison_rate, target_class):\n",
        "    poisoned_images = images.copy()\n",
        "    poisoned_labels = labels.copy()\n",
        "\n",
        "    for i in range(len(images)):\n",
        "        if labels[i] == target_class and np.random.rand() < poison_rate:\n",
        "            # Apply adversarial patch only to images of the target class (airplanes)\n",
        "            #adversarial_patch = generate_adversarial_patch(model, images[i], target_class, poison_rate)\n",
        "            poisoned_images[i] = np.clip(poisoned_images[i], 0, 255)\n",
        "            poisoned_labels[i] = target_class  # Update label to target class\n",
        "\n",
        "    return poisoned_images, poisoned_labels\n",
        "\n",
        "# Function to perform SAS data selection\n",
        "def sas_algorithm(images, num_clusters=10, num_subsets=5, similarity_metric='cosine'):\n",
        "    # Flatten the images\n",
        "    flattened_images = images.reshape(images.shape[0], -1)\n",
        "\n",
        "    # Perform K-means clustering\n",
        "    kmeans = KMeans(n_clusters=num_clusters, random_state=42)\n",
        "    cluster_assignments = kmeans.fit_predict(flattened_images)\n",
        "\n",
        "    selected_indices = []\n",
        "\n",
        "    # Iterate over clusters\n",
        "    for cluster_id in range(num_clusters):\n",
        "        cluster_indices = np.where(cluster_assignments == cluster_id)[0]\n",
        "\n",
        "        # Calculate similarity scores based on chosen metric\n",
        "        if similarity_metric == 'cosine':\n",
        "            similarity_scores = cosine_similarity(flattened_images[cluster_indices])\n",
        "\n",
        "        # Use SAS algorithm to select subsets based on similarity scores\n",
        "        subset_indices = np.argsort(similarity_scores.sum(axis=0))[:num_subsets]\n",
        "\n",
        "        # Append selected indices to the final list\n",
        "        selected_indices.extend(cluster_indices[subset_indices])\n",
        "\n",
        "    return selected_indices\n",
        "\n",
        "# Function to evaluate the model on the test set\n",
        "def evaluate_model(model, test_images, test_labels):\n",
        "    test_loss, test_acc = model.evaluate(test_images, test_labels, verbose=0)\n",
        "    print(f'Test Accuracy: {test_acc * 100:.2f}%')\n",
        "\n",
        "# Hyperparameters\n",
        "poison_rate_list = [0.01, 0.05, 0.1]\n",
        "target_class = 0\n",
        "num_clusters = 10\n",
        "num_subsets = 5\n",
        "\n",
        "# Train and evaluate the model on the original data\n",
        "model.fit(train_images, train_labels, epochs=25, validation_data=(test_images, test_labels))\n",
        "model.save('full_model.h5')\n",
        "evaluate_model(model, test_images, test_labels)\n",
        "\n"
      ],
      "metadata": {
        "id": "mz-8dcyi7Na3",
        "colab": {
          "base_uri": "https://localhost:8080/"
        },
        "outputId": "3d44065f-7fb8-4d58-bd22-90ad474ccb1c"
      },
      "execution_count": 7,
      "outputs": [
        {
          "output_type": "stream",
          "name": "stdout",
          "text": [
            "Epoch 1/25\n",
            "1563/1563 [==============================] - 113s 49ms/step - loss: 1.6528 - accuracy: 0.4878 - val_loss: 2.1225 - val_accuracy: 0.4863\n",
            "Epoch 2/25\n",
            "1563/1563 [==============================] - 77s 49ms/step - loss: 1.5614 - accuracy: 0.5028 - val_loss: 1.3544 - val_accuracy: 0.5498\n",
            "Epoch 3/25\n",
            "1563/1563 [==============================] - 72s 46ms/step - loss: 1.8797 - accuracy: 0.4097 - val_loss: 1.9066 - val_accuracy: 0.3520\n",
            "Epoch 4/25\n",
            "1563/1563 [==============================] - 76s 48ms/step - loss: 1.4787 - accuracy: 0.5002 - val_loss: 1.5694 - val_accuracy: 0.5663\n",
            "Epoch 5/25\n",
            "1563/1563 [==============================] - 75s 48ms/step - loss: 1.2422 - accuracy: 0.5793 - val_loss: 1.6030 - val_accuracy: 0.5652\n",
            "Epoch 6/25\n",
            "1563/1563 [==============================] - 74s 47ms/step - loss: 1.1006 - accuracy: 0.6239 - val_loss: 1.0769 - val_accuracy: 0.6322\n",
            "Epoch 7/25\n",
            "1563/1563 [==============================] - 71s 46ms/step - loss: 0.9350 - accuracy: 0.6792 - val_loss: 1.1868 - val_accuracy: 0.5972\n",
            "Epoch 8/25\n",
            "1563/1563 [==============================] - 72s 46ms/step - loss: 0.7982 - accuracy: 0.7254 - val_loss: 0.8821 - val_accuracy: 0.7026\n",
            "Epoch 9/25\n",
            "1563/1563 [==============================] - 71s 46ms/step - loss: 0.7043 - accuracy: 0.7577 - val_loss: 0.9676 - val_accuracy: 0.6617\n",
            "Epoch 10/25\n",
            "1563/1563 [==============================] - 77s 49ms/step - loss: 0.6196 - accuracy: 0.7862 - val_loss: 1.0333 - val_accuracy: 0.6444\n",
            "Epoch 11/25\n",
            "1563/1563 [==============================] - 72s 46ms/step - loss: 0.5484 - accuracy: 0.8124 - val_loss: 2.0364 - val_accuracy: 0.4174\n",
            "Epoch 12/25\n",
            "1563/1563 [==============================] - 74s 48ms/step - loss: 0.4748 - accuracy: 0.8363 - val_loss: 0.8693 - val_accuracy: 0.7213\n",
            "Epoch 13/25\n",
            "1563/1563 [==============================] - 73s 47ms/step - loss: 0.3941 - accuracy: 0.8648 - val_loss: 0.8970 - val_accuracy: 0.7140\n",
            "Epoch 14/25\n",
            "1563/1563 [==============================] - 76s 49ms/step - loss: 0.3420 - accuracy: 0.8819 - val_loss: 0.8085 - val_accuracy: 0.7551\n",
            "Epoch 15/25\n",
            "1563/1563 [==============================] - 75s 48ms/step - loss: 0.2900 - accuracy: 0.9008 - val_loss: 1.0843 - val_accuracy: 0.7160\n",
            "Epoch 16/25\n",
            "1563/1563 [==============================] - 75s 48ms/step - loss: 0.2386 - accuracy: 0.9156 - val_loss: 0.9061 - val_accuracy: 0.7404\n",
            "Epoch 17/25\n",
            "1563/1563 [==============================] - 75s 48ms/step - loss: 0.2082 - accuracy: 0.9291 - val_loss: 1.1278 - val_accuracy: 0.7135\n",
            "Epoch 18/25\n",
            "1563/1563 [==============================] - 78s 50ms/step - loss: 0.1822 - accuracy: 0.9368 - val_loss: 0.9822 - val_accuracy: 0.7568\n",
            "Epoch 19/25\n",
            "1563/1563 [==============================] - 74s 47ms/step - loss: 0.1585 - accuracy: 0.9451 - val_loss: 1.5344 - val_accuracy: 0.6680\n",
            "Epoch 20/25\n",
            "1563/1563 [==============================] - 72s 46ms/step - loss: 0.1461 - accuracy: 0.9498 - val_loss: 1.0489 - val_accuracy: 0.7532\n",
            "Epoch 21/25\n",
            "1563/1563 [==============================] - 78s 50ms/step - loss: 0.1449 - accuracy: 0.9519 - val_loss: 1.4187 - val_accuracy: 0.6882\n",
            "Epoch 22/25\n",
            "1563/1563 [==============================] - 77s 49ms/step - loss: 0.1093 - accuracy: 0.9623 - val_loss: 1.1549 - val_accuracy: 0.7404\n",
            "Epoch 23/25\n",
            "1563/1563 [==============================] - 75s 48ms/step - loss: 0.1083 - accuracy: 0.9636 - val_loss: 1.1388 - val_accuracy: 0.7459\n",
            "Epoch 24/25\n",
            "1563/1563 [==============================] - 74s 47ms/step - loss: 0.1314 - accuracy: 0.9561 - val_loss: 1.0122 - val_accuracy: 0.7631\n",
            "Epoch 25/25\n",
            "1563/1563 [==============================] - 73s 47ms/step - loss: 0.1027 - accuracy: 0.9669 - val_loss: 1.1812 - val_accuracy: 0.7420\n"
          ]
        },
        {
          "output_type": "stream",
          "name": "stderr",
          "text": [
            "/usr/local/lib/python3.10/dist-packages/keras/src/engine/training.py:3103: UserWarning: You are saving your model as an HDF5 file via `model.save()`. This file format is considered legacy. We recommend using instead the native Keras format, e.g. `model.save('my_model.keras')`.\n",
            "  saving_api.save_model(\n"
          ]
        },
        {
          "output_type": "stream",
          "name": "stdout",
          "text": [
            "Test Accuracy: 74.20%\n"
          ]
        }
      ]
    },
    {
      "cell_type": "code",
      "source": [
        "from google.colab import drive\n",
        "drive.mount('/content/drive')\n",
        "import shutil\n",
        "shutil.copy(\"/content/full_model.h5\",\"/content/drive/MyDrive\")"
      ],
      "metadata": {
        "colab": {
          "base_uri": "https://localhost:8080/",
          "height": 53
        },
        "id": "EX6M4xK_6skL",
        "outputId": "d503c3f4-1a2c-4eab-b3aa-8aa28823dece"
      },
      "execution_count": 8,
      "outputs": [
        {
          "output_type": "stream",
          "name": "stdout",
          "text": [
            "Mounted at /content/drive\n"
          ]
        },
        {
          "output_type": "execute_result",
          "data": {
            "text/plain": [
              "'/content/drive/MyDrive/full_model.h5'"
            ],
            "application/vnd.google.colaboratory.intrinsic+json": {
              "type": "string"
            }
          },
          "metadata": {},
          "execution_count": 8
        }
      ]
    },
    {
      "cell_type": "code",
      "source": [],
      "metadata": {
        "id": "UuchNGI26ssv"
      },
      "execution_count": null,
      "outputs": []
    },
    {
      "cell_type": "code",
      "source": [
        "!pip install cleverhans"
      ],
      "metadata": {
        "colab": {
          "base_uri": "https://localhost:8080/"
        },
        "id": "a3iBFQDw7NdD",
        "outputId": "ef26c6b0-a021-43c6-a94c-e9940b288b68"
      },
      "execution_count": 9,
      "outputs": [
        {
          "output_type": "stream",
          "name": "stdout",
          "text": [
            "Collecting cleverhans\n",
            "  Downloading cleverhans-4.0.0-py3-none-any.whl (92 kB)\n",
            "\u001b[2K     \u001b[90m━━━━━━━━━━━━━━━━━━━━━━━━━━━━━━━━━━━━━━━━\u001b[0m \u001b[32m92.3/92.3 kB\u001b[0m \u001b[31m2.7 MB/s\u001b[0m eta \u001b[36m0:00:00\u001b[0m\n",
            "\u001b[?25hCollecting nose (from cleverhans)\n",
            "  Downloading nose-1.3.7-py3-none-any.whl (154 kB)\n",
            "\u001b[2K     \u001b[90m━━━━━━━━━━━━━━━━━━━━━━━━━━━━━━━━━━━━━━━━\u001b[0m \u001b[32m154.7/154.7 kB\u001b[0m \u001b[31m11.4 MB/s\u001b[0m eta \u001b[36m0:00:00\u001b[0m\n",
            "\u001b[?25hCollecting pycodestyle (from cleverhans)\n",
            "  Downloading pycodestyle-2.11.1-py2.py3-none-any.whl (31 kB)\n",
            "Requirement already satisfied: scipy in /usr/local/lib/python3.10/dist-packages (from cleverhans) (1.11.4)\n",
            "Requirement already satisfied: matplotlib in /usr/local/lib/python3.10/dist-packages (from cleverhans) (3.7.1)\n",
            "Collecting mnist (from cleverhans)\n",
            "  Downloading mnist-0.2.2-py2.py3-none-any.whl (3.5 kB)\n",
            "Requirement already satisfied: numpy in /usr/local/lib/python3.10/dist-packages (from cleverhans) (1.23.5)\n",
            "Requirement already satisfied: tensorflow-probability in /usr/local/lib/python3.10/dist-packages (from cleverhans) (0.22.0)\n",
            "Requirement already satisfied: joblib in /usr/local/lib/python3.10/dist-packages (from cleverhans) (1.3.2)\n",
            "Requirement already satisfied: easydict in /usr/local/lib/python3.10/dist-packages (from cleverhans) (1.11)\n",
            "Requirement already satisfied: absl-py in /usr/local/lib/python3.10/dist-packages (from cleverhans) (1.4.0)\n",
            "Requirement already satisfied: six in /usr/local/lib/python3.10/dist-packages (from cleverhans) (1.16.0)\n",
            "Requirement already satisfied: contourpy>=1.0.1 in /usr/local/lib/python3.10/dist-packages (from matplotlib->cleverhans) (1.2.0)\n",
            "Requirement already satisfied: cycler>=0.10 in /usr/local/lib/python3.10/dist-packages (from matplotlib->cleverhans) (0.12.1)\n",
            "Requirement already satisfied: fonttools>=4.22.0 in /usr/local/lib/python3.10/dist-packages (from matplotlib->cleverhans) (4.46.0)\n",
            "Requirement already satisfied: kiwisolver>=1.0.1 in /usr/local/lib/python3.10/dist-packages (from matplotlib->cleverhans) (1.4.5)\n",
            "Requirement already satisfied: packaging>=20.0 in /usr/local/lib/python3.10/dist-packages (from matplotlib->cleverhans) (23.2)\n",
            "Requirement already satisfied: pillow>=6.2.0 in /usr/local/lib/python3.10/dist-packages (from matplotlib->cleverhans) (9.4.0)\n",
            "Requirement already satisfied: pyparsing>=2.3.1 in /usr/local/lib/python3.10/dist-packages (from matplotlib->cleverhans) (3.1.1)\n",
            "Requirement already satisfied: python-dateutil>=2.7 in /usr/local/lib/python3.10/dist-packages (from matplotlib->cleverhans) (2.8.2)\n",
            "Requirement already satisfied: decorator in /usr/local/lib/python3.10/dist-packages (from tensorflow-probability->cleverhans) (4.4.2)\n",
            "Requirement already satisfied: cloudpickle>=1.3 in /usr/local/lib/python3.10/dist-packages (from tensorflow-probability->cleverhans) (2.2.1)\n",
            "Requirement already satisfied: gast>=0.3.2 in /usr/local/lib/python3.10/dist-packages (from tensorflow-probability->cleverhans) (0.5.4)\n",
            "Requirement already satisfied: dm-tree in /usr/local/lib/python3.10/dist-packages (from tensorflow-probability->cleverhans) (0.1.8)\n",
            "Requirement already satisfied: typing-extensions<4.6.0 in /usr/local/lib/python3.10/dist-packages (from tensorflow-probability->cleverhans) (4.5.0)\n",
            "Installing collected packages: nose, pycodestyle, mnist, cleverhans\n",
            "Successfully installed cleverhans-4.0.0 mnist-0.2.2 nose-1.3.7 pycodestyle-2.11.1\n"
          ]
        }
      ]
    },
    {
      "cell_type": "code",
      "source": [
        "!pip install git+https://github.com/CNOCycle/cleverhans.git@feature/tf2.x"
      ],
      "metadata": {
        "colab": {
          "base_uri": "https://localhost:8080/"
        },
        "id": "7zs_kinpGeqH",
        "outputId": "15e20fc7-d0e2-4cac-c24f-0aea9e347b43"
      },
      "execution_count": 10,
      "outputs": [
        {
          "output_type": "stream",
          "name": "stdout",
          "text": [
            "Collecting git+https://github.com/CNOCycle/cleverhans.git@feature/tf2.x\n",
            "  Cloning https://github.com/CNOCycle/cleverhans.git (to revision feature/tf2.x) to /tmp/pip-req-build-nryibn88\n",
            "  Running command git clone --filter=blob:none --quiet https://github.com/CNOCycle/cleverhans.git /tmp/pip-req-build-nryibn88\n",
            "  Running command git checkout -b feature/tf2.x --track origin/feature/tf2.x\n",
            "  Switched to a new branch 'feature/tf2.x'\n",
            "  Branch 'feature/tf2.x' set up to track remote branch 'feature/tf2.x' from 'origin'.\n",
            "  Resolved https://github.com/CNOCycle/cleverhans.git to commit b103b0caf983331ec9c5f7c3e08e417a85bf25e2\n",
            "  Preparing metadata (setup.py) ... \u001b[?25l\u001b[?25hdone\n",
            "Requirement already satisfied: nose in /usr/local/lib/python3.10/dist-packages (from cleverhans==3.0.1) (1.3.7)\n",
            "Requirement already satisfied: pycodestyle in /usr/local/lib/python3.10/dist-packages (from cleverhans==3.0.1) (2.11.1)\n",
            "Requirement already satisfied: scipy in /usr/local/lib/python3.10/dist-packages (from cleverhans==3.0.1) (1.11.4)\n",
            "Requirement already satisfied: matplotlib in /usr/local/lib/python3.10/dist-packages (from cleverhans==3.0.1) (3.7.1)\n",
            "Requirement already satisfied: mnist~=0.2 in /usr/local/lib/python3.10/dist-packages (from cleverhans==3.0.1) (0.2.2)\n",
            "Requirement already satisfied: numpy in /usr/local/lib/python3.10/dist-packages (from cleverhans==3.0.1) (1.23.5)\n",
            "Requirement already satisfied: tensorflow-probability in /usr/local/lib/python3.10/dist-packages (from cleverhans==3.0.1) (0.22.0)\n",
            "Requirement already satisfied: joblib in /usr/local/lib/python3.10/dist-packages (from cleverhans==3.0.1) (1.3.2)\n",
            "Requirement already satisfied: contourpy>=1.0.1 in /usr/local/lib/python3.10/dist-packages (from matplotlib->cleverhans==3.0.1) (1.2.0)\n",
            "Requirement already satisfied: cycler>=0.10 in /usr/local/lib/python3.10/dist-packages (from matplotlib->cleverhans==3.0.1) (0.12.1)\n",
            "Requirement already satisfied: fonttools>=4.22.0 in /usr/local/lib/python3.10/dist-packages (from matplotlib->cleverhans==3.0.1) (4.46.0)\n",
            "Requirement already satisfied: kiwisolver>=1.0.1 in /usr/local/lib/python3.10/dist-packages (from matplotlib->cleverhans==3.0.1) (1.4.5)\n",
            "Requirement already satisfied: packaging>=20.0 in /usr/local/lib/python3.10/dist-packages (from matplotlib->cleverhans==3.0.1) (23.2)\n",
            "Requirement already satisfied: pillow>=6.2.0 in /usr/local/lib/python3.10/dist-packages (from matplotlib->cleverhans==3.0.1) (9.4.0)\n",
            "Requirement already satisfied: pyparsing>=2.3.1 in /usr/local/lib/python3.10/dist-packages (from matplotlib->cleverhans==3.0.1) (3.1.1)\n",
            "Requirement already satisfied: python-dateutil>=2.7 in /usr/local/lib/python3.10/dist-packages (from matplotlib->cleverhans==3.0.1) (2.8.2)\n",
            "Requirement already satisfied: absl-py in /usr/local/lib/python3.10/dist-packages (from tensorflow-probability->cleverhans==3.0.1) (1.4.0)\n",
            "Requirement already satisfied: six>=1.10.0 in /usr/local/lib/python3.10/dist-packages (from tensorflow-probability->cleverhans==3.0.1) (1.16.0)\n",
            "Requirement already satisfied: decorator in /usr/local/lib/python3.10/dist-packages (from tensorflow-probability->cleverhans==3.0.1) (4.4.2)\n",
            "Requirement already satisfied: cloudpickle>=1.3 in /usr/local/lib/python3.10/dist-packages (from tensorflow-probability->cleverhans==3.0.1) (2.2.1)\n",
            "Requirement already satisfied: gast>=0.3.2 in /usr/local/lib/python3.10/dist-packages (from tensorflow-probability->cleverhans==3.0.1) (0.5.4)\n",
            "Requirement already satisfied: dm-tree in /usr/local/lib/python3.10/dist-packages (from tensorflow-probability->cleverhans==3.0.1) (0.1.8)\n",
            "Requirement already satisfied: typing-extensions<4.6.0 in /usr/local/lib/python3.10/dist-packages (from tensorflow-probability->cleverhans==3.0.1) (4.5.0)\n",
            "Building wheels for collected packages: cleverhans\n",
            "  Building wheel for cleverhans (setup.py) ... \u001b[?25l\u001b[?25hdone\n",
            "  Created wheel for cleverhans: filename=cleverhans-3.0.1-py3-none-any.whl size=254364 sha256=67fdc6b28557aa009ec46b2bf8ddb759e610e2aa63dcfce5523e37d15e762dc4\n",
            "  Stored in directory: /tmp/pip-ephem-wheel-cache-4ec204fd/wheels/f7/54/f8/c6b2d01e1f7002c8331eb5e28396d94dcdd9ac1f323e47840b\n",
            "Successfully built cleverhans\n",
            "Installing collected packages: cleverhans\n",
            "  Attempting uninstall: cleverhans\n",
            "    Found existing installation: cleverhans 4.0.0\n",
            "    Uninstalling cleverhans-4.0.0:\n",
            "      Successfully uninstalled cleverhans-4.0.0\n",
            "Successfully installed cleverhans-3.0.1\n"
          ]
        }
      ]
    },
    {
      "cell_type": "code",
      "source": [
        "\n",
        "# Experiment with different poison rates\n",
        "for poison_rate in poison_rate_list:\n",
        "    # Poison the training dataset\n",
        "    poisoned_train_images, poisoned_train_labels = poison_dataset(train_images, train_labels, poison_rate, target_class)\n",
        "\n",
        "    # Train the model on the poisoned dataset\n",
        "    model.fit(poisoned_train_images, poisoned_train_labels, epochs=25)\n",
        "    model.save('poisoned_model.h5')\n",
        "    # Evaluate the model on the test set\n",
        "    evaluate_model(model, test_images, test_labels)\n",
        "\n",
        "    # Apply SAS algorithm to select representative subsets for forgettables and unforgettables\n",
        "    forgettables_indices = np.where(poisoned_train_labels == 0)[0]  # Assuming forgettables are in class 0\n",
        "    unforgettables_indices = np.where(poisoned_train_labels != 0)[0]  # Assuming unforgettables are in other classes\n",
        "    selected_forgettables_indices = sas_algorithm(poisoned_train_images[forgettables_indices], num_clusters, num_subsets)\n",
        "    selected_unforgettables_indices = sas_algorithm(poisoned_train_images[unforgettables_indices], num_clusters, num_subsets)\n",
        "\n",
        "    # Train the model on the selected forgettables and unforgettables subsets\n",
        "    model.fit(poisoned_train_images[selected_forgettables_indices], poisoned_train_labels[selected_forgettables_indices], epochs=25)\n",
        "    model.save('forgettables_model.h5')\n",
        "    model.fit(poisoned_train_images[selected_unforgettables_indices], poisoned_train_labels[selected_unforgettables_indices], epochs=25)\n",
        "    model.save('non-forgettables_model.h5')\n",
        "    # Evaluate the model on the test set after SAS selection\n",
        "    evaluate_model(model, test_images, test_labels)"
      ],
      "metadata": {
        "colab": {
          "base_uri": "https://localhost:8080/"
        },
        "id": "WavM9vIw7Ngy",
        "outputId": "40f0306e-94bb-4a8a-bfdb-7edf1ad10a6e"
      },
      "execution_count": null,
      "outputs": [
        {
          "output_type": "stream",
          "name": "stdout",
          "text": [
            "Epoch 1/25\n",
            "1563/1563 [==============================] - 82s 52ms/step - loss: 0.0886 - accuracy: 0.9698\n",
            "Epoch 2/25\n",
            "1563/1563 [==============================] - 73s 47ms/step - loss: 0.1064 - accuracy: 0.9674\n",
            "Epoch 3/25\n",
            "1563/1563 [==============================] - 74s 48ms/step - loss: 0.0712 - accuracy: 0.9759\n",
            "Epoch 4/25\n",
            "1563/1563 [==============================] - 72s 46ms/step - loss: 0.0830 - accuracy: 0.9724\n",
            "Epoch 5/25\n",
            "1563/1563 [==============================] - 72s 46ms/step - loss: 0.0716 - accuracy: 0.9751\n",
            "Epoch 6/25\n",
            "1563/1563 [==============================] - 71s 46ms/step - loss: 0.0785 - accuracy: 0.9736\n",
            "Epoch 7/25\n",
            "1563/1563 [==============================] - 74s 47ms/step - loss: 0.0641 - accuracy: 0.9789\n",
            "Epoch 8/25\n",
            "1563/1563 [==============================] - 72s 46ms/step - loss: 0.0792 - accuracy: 0.9736\n",
            "Epoch 9/25\n",
            "1563/1563 [==============================] - 72s 46ms/step - loss: 0.0567 - accuracy: 0.9814\n",
            "Epoch 10/25\n",
            "1563/1563 [==============================] - 76s 49ms/step - loss: 0.1020 - accuracy: 0.9670\n",
            "Epoch 11/25\n",
            "1563/1563 [==============================] - 75s 48ms/step - loss: 0.0504 - accuracy: 0.9836\n",
            "Epoch 12/25\n",
            "1563/1563 [==============================] - 71s 45ms/step - loss: 0.0916 - accuracy: 0.9709\n",
            "Epoch 13/25\n",
            "1563/1563 [==============================] - 71s 46ms/step - loss: 0.0445 - accuracy: 0.9855\n",
            "Epoch 14/25\n",
            "1563/1563 [==============================] - 71s 46ms/step - loss: 0.0575 - accuracy: 0.9810\n",
            "Epoch 15/25\n",
            "1563/1563 [==============================] - 74s 47ms/step - loss: 0.1182 - accuracy: 0.9646\n",
            "Epoch 16/25\n",
            "1563/1563 [==============================] - 72s 46ms/step - loss: 0.0387 - accuracy: 0.9875\n",
            "Epoch 17/25\n",
            "1563/1563 [==============================] - 72s 46ms/step - loss: 0.0448 - accuracy: 0.9849\n",
            "Epoch 18/25\n",
            "1563/1563 [==============================] - 72s 46ms/step - loss: 0.0462 - accuracy: 0.9839\n",
            "Epoch 19/25\n",
            "1563/1563 [==============================] - 72s 46ms/step - loss: 0.0466 - accuracy: 0.9851\n",
            "Epoch 20/25\n",
            "1563/1563 [==============================] - 73s 47ms/step - loss: 0.0488 - accuracy: 0.9842\n",
            "Epoch 21/25\n",
            "1563/1563 [==============================] - 71s 46ms/step - loss: 0.0469 - accuracy: 0.9849\n",
            "Epoch 22/25\n",
            "1563/1563 [==============================] - 72s 46ms/step - loss: 0.0470 - accuracy: 0.9848\n",
            "Epoch 23/25\n",
            "1563/1563 [==============================] - 72s 46ms/step - loss: 0.0449 - accuracy: 0.9856\n",
            "Epoch 24/25\n",
            "1563/1563 [==============================] - 72s 46ms/step - loss: 0.0413 - accuracy: 0.9866\n",
            "Epoch 25/25\n",
            "1563/1563 [==============================] - 70s 45ms/step - loss: 0.0436 - accuracy: 0.9861\n",
            "Test Accuracy: 74.18%\n"
          ]
        },
        {
          "output_type": "stream",
          "name": "stderr",
          "text": [
            "/usr/local/lib/python3.10/dist-packages/sklearn/cluster/_kmeans.py:870: FutureWarning: The default value of `n_init` will change from 10 to 'auto' in 1.4. Set the value of `n_init` explicitly to suppress the warning\n",
            "  warnings.warn(\n",
            "/usr/local/lib/python3.10/dist-packages/sklearn/cluster/_kmeans.py:870: FutureWarning: The default value of `n_init` will change from 10 to 'auto' in 1.4. Set the value of `n_init` explicitly to suppress the warning\n",
            "  warnings.warn(\n"
          ]
        },
        {
          "output_type": "stream",
          "name": "stdout",
          "text": [
            "Epoch 1/25\n",
            "2/2 [==============================] - 2s 2s/step - loss: 0.0022 - accuracy: 1.0000\n",
            "Epoch 2/25\n",
            "2/2 [==============================] - 0s 45ms/step - loss: 0.0036 - accuracy: 1.0000\n",
            "Epoch 3/25\n",
            "2/2 [==============================] - 0s 46ms/step - loss: 0.0034 - accuracy: 1.0000\n",
            "Epoch 4/25\n",
            "2/2 [==============================] - 0s 44ms/step - loss: 0.0018 - accuracy: 1.0000\n",
            "Epoch 5/25\n",
            "2/2 [==============================] - 0s 44ms/step - loss: 0.0032 - accuracy: 1.0000\n",
            "Epoch 6/25\n",
            "2/2 [==============================] - 0s 46ms/step - loss: 0.0066 - accuracy: 1.0000\n",
            "Epoch 7/25\n",
            "2/2 [==============================] - 0s 41ms/step - loss: 7.9749e-04 - accuracy: 1.0000\n",
            "Epoch 8/25\n",
            "2/2 [==============================] - 0s 47ms/step - loss: 8.9312e-04 - accuracy: 1.0000\n",
            "Epoch 9/25\n",
            "2/2 [==============================] - 0s 43ms/step - loss: 9.8165e-04 - accuracy: 1.0000\n",
            "Epoch 10/25\n",
            "2/2 [==============================] - 0s 46ms/step - loss: 7.6884e-04 - accuracy: 1.0000\n",
            "Epoch 11/25\n",
            "2/2 [==============================] - 0s 43ms/step - loss: 5.6368e-04 - accuracy: 1.0000\n",
            "Epoch 12/25\n",
            "2/2 [==============================] - 0s 42ms/step - loss: 9.1825e-04 - accuracy: 1.0000\n",
            "Epoch 13/25\n",
            "2/2 [==============================] - 0s 43ms/step - loss: 0.0012 - accuracy: 1.0000\n",
            "Epoch 14/25\n",
            "2/2 [==============================] - 0s 50ms/step - loss: 0.0014 - accuracy: 1.0000\n",
            "Epoch 15/25\n",
            "2/2 [==============================] - 0s 44ms/step - loss: 3.9499e-04 - accuracy: 1.0000\n",
            "Epoch 16/25\n",
            "2/2 [==============================] - 0s 47ms/step - loss: 4.4138e-04 - accuracy: 1.0000\n",
            "Epoch 17/25\n",
            "2/2 [==============================] - 0s 42ms/step - loss: 6.5505e-04 - accuracy: 1.0000\n",
            "Epoch 18/25\n",
            "2/2 [==============================] - 0s 43ms/step - loss: 3.3882e-04 - accuracy: 1.0000\n",
            "Epoch 19/25\n",
            "2/2 [==============================] - 0s 44ms/step - loss: 0.0016 - accuracy: 1.0000\n",
            "Epoch 20/25\n",
            "2/2 [==============================] - 0s 49ms/step - loss: 7.4928e-04 - accuracy: 1.0000\n",
            "Epoch 21/25\n",
            "2/2 [==============================] - 0s 41ms/step - loss: 6.1855e-04 - accuracy: 1.0000\n",
            "Epoch 22/25\n",
            "2/2 [==============================] - 0s 50ms/step - loss: 1.5382e-04 - accuracy: 1.0000\n",
            "Epoch 23/25\n",
            "2/2 [==============================] - 0s 45ms/step - loss: 2.7513e-04 - accuracy: 1.0000\n",
            "Epoch 24/25\n",
            "2/2 [==============================] - 0s 46ms/step - loss: 4.0439e-04 - accuracy: 1.0000\n",
            "Epoch 25/25\n",
            "2/2 [==============================] - 0s 45ms/step - loss: 2.2667e-04 - accuracy: 1.0000\n"
          ]
        },
        {
          "output_type": "stream",
          "name": "stderr",
          "text": [
            "/usr/local/lib/python3.10/dist-packages/keras/src/engine/training.py:3103: UserWarning: You are saving your model as an HDF5 file via `model.save()`. This file format is considered legacy. We recommend using instead the native Keras format, e.g. `model.save('my_model.keras')`.\n",
            "  saving_api.save_model(\n"
          ]
        },
        {
          "output_type": "stream",
          "name": "stdout",
          "text": [
            "Epoch 1/25\n",
            "2/2 [==============================] - 0s 78ms/step - loss: 0.0164 - accuracy: 1.0000\n",
            "Epoch 2/25\n",
            "2/2 [==============================] - 0s 75ms/step - loss: 0.0039 - accuracy: 1.0000\n",
            "Epoch 3/25\n",
            "2/2 [==============================] - 0s 69ms/step - loss: 7.1316e-04 - accuracy: 1.0000\n",
            "Epoch 4/25\n",
            "2/2 [==============================] - 0s 67ms/step - loss: 0.0064 - accuracy: 1.0000\n",
            "Epoch 5/25\n",
            "2/2 [==============================] - 0s 65ms/step - loss: 7.3000e-04 - accuracy: 1.0000\n",
            "Epoch 6/25\n",
            "2/2 [==============================] - 0s 71ms/step - loss: 0.0060 - accuracy: 1.0000\n",
            "Epoch 7/25\n",
            "2/2 [==============================] - 0s 58ms/step - loss: 4.1022e-04 - accuracy: 1.0000\n",
            "Epoch 8/25\n",
            "2/2 [==============================] - 0s 66ms/step - loss: 0.0028 - accuracy: 1.0000\n",
            "Epoch 9/25\n",
            "2/2 [==============================] - 0s 69ms/step - loss: 0.0114 - accuracy: 1.0000\n",
            "Epoch 10/25\n",
            "2/2 [==============================] - 0s 67ms/step - loss: 2.1439e-04 - accuracy: 1.0000\n",
            "Epoch 11/25\n",
            "2/2 [==============================] - 0s 71ms/step - loss: 0.0012 - accuracy: 1.0000\n",
            "Epoch 12/25\n",
            "2/2 [==============================] - 0s 60ms/step - loss: 0.0011 - accuracy: 1.0000\n",
            "Epoch 13/25\n",
            "2/2 [==============================] - 0s 67ms/step - loss: 5.5602e-04 - accuracy: 1.0000\n",
            "Epoch 14/25\n",
            "2/2 [==============================] - 0s 63ms/step - loss: 4.1923e-04 - accuracy: 1.0000\n",
            "Epoch 15/25\n",
            "2/2 [==============================] - 0s 59ms/step - loss: 2.3938e-04 - accuracy: 1.0000\n",
            "Epoch 16/25\n",
            "2/2 [==============================] - 0s 66ms/step - loss: 1.1809e-04 - accuracy: 1.0000\n",
            "Epoch 17/25\n",
            "2/2 [==============================] - 0s 99ms/step - loss: 1.6964e-04 - accuracy: 1.0000\n",
            "Epoch 18/25\n",
            "2/2 [==============================] - 0s 74ms/step - loss: 6.0992e-04 - accuracy: 1.0000\n",
            "Epoch 19/25\n",
            "2/2 [==============================] - 0s 78ms/step - loss: 1.6859e-04 - accuracy: 1.0000\n",
            "Epoch 20/25\n",
            "2/2 [==============================] - 0s 81ms/step - loss: 2.1712e-04 - accuracy: 1.0000\n",
            "Epoch 21/25\n",
            "2/2 [==============================] - 0s 86ms/step - loss: 2.6847e-04 - accuracy: 1.0000\n",
            "Epoch 22/25\n",
            "2/2 [==============================] - 0s 66ms/step - loss: 2.3877e-04 - accuracy: 1.0000\n",
            "Epoch 23/25\n",
            "2/2 [==============================] - 0s 61ms/step - loss: 7.6930e-05 - accuracy: 1.0000\n",
            "Epoch 24/25\n",
            "2/2 [==============================] - 0s 61ms/step - loss: 2.6135e-04 - accuracy: 1.0000\n",
            "Epoch 25/25\n",
            "2/2 [==============================] - 0s 60ms/step - loss: 1.1248e-04 - accuracy: 1.0000\n",
            "Test Accuracy: 76.49%\n",
            "Epoch 1/25\n",
            "1563/1563 [==============================] - 71s 46ms/step - loss: 0.0410 - accuracy: 0.9863\n",
            "Epoch 2/25\n",
            "1563/1563 [==============================] - 72s 46ms/step - loss: 0.0411 - accuracy: 0.9866\n",
            "Epoch 3/25\n",
            "1563/1563 [==============================] - 71s 45ms/step - loss: 0.0419 - accuracy: 0.9869\n",
            "Epoch 4/25\n",
            "1563/1563 [==============================] - 71s 45ms/step - loss: 0.0468 - accuracy: 0.9857\n",
            "Epoch 5/25\n",
            "1563/1563 [==============================] - 75s 48ms/step - loss: 0.0446 - accuracy: 0.9855\n",
            "Epoch 6/25\n",
            "1563/1563 [==============================] - 71s 45ms/step - loss: 0.0402 - accuracy: 0.9879\n",
            "Epoch 7/25\n",
            "1563/1563 [==============================] - 71s 46ms/step - loss: 0.0343 - accuracy: 0.9888\n",
            "Epoch 8/25\n",
            "1563/1563 [==============================] - 71s 45ms/step - loss: 0.0352 - accuracy: 0.9885\n",
            "Epoch 9/25\n",
            "1563/1563 [==============================] - 75s 48ms/step - loss: 0.0669 - accuracy: 0.9796\n",
            "Epoch 10/25\n",
            "1563/1563 [==============================] - 72s 46ms/step - loss: 0.0297 - accuracy: 0.9907\n",
            "Epoch 11/25\n",
            "1563/1563 [==============================] - 72s 46ms/step - loss: 0.0606 - accuracy: 0.9835\n",
            "Epoch 12/25\n",
            "1563/1563 [==============================] - 71s 45ms/step - loss: 0.0349 - accuracy: 0.9898\n",
            "Epoch 13/25\n",
            "1563/1563 [==============================] - 74s 47ms/step - loss: 0.0240 - accuracy: 0.9919\n",
            "Epoch 14/25\n",
            "1563/1563 [==============================] - 71s 46ms/step - loss: 0.0260 - accuracy: 0.9914\n",
            "Epoch 15/25\n",
            "1563/1563 [==============================] - 70s 45ms/step - loss: 0.0353 - accuracy: 0.9888\n",
            "Epoch 16/25\n",
            "1563/1563 [==============================] - 71s 46ms/step - loss: 0.0450 - accuracy: 0.9864\n",
            "Epoch 17/25\n",
            "1563/1563 [==============================] - 71s 45ms/step - loss: 0.0257 - accuracy: 0.9918\n",
            "Epoch 18/25\n",
            "1563/1563 [==============================] - 74s 48ms/step - loss: 0.0274 - accuracy: 0.9913\n",
            "Epoch 19/25\n",
            "1563/1563 [==============================] - 70s 45ms/step - loss: 0.0338 - accuracy: 0.9889\n",
            "Epoch 20/25\n",
            "1563/1563 [==============================] - 70s 45ms/step - loss: 0.0931 - accuracy: 0.9740\n",
            "Epoch 21/25\n",
            "1563/1563 [==============================] - 71s 45ms/step - loss: 0.0336 - accuracy: 0.9919\n",
            "Epoch 22/25\n",
            "1563/1563 [==============================] - 73s 47ms/step - loss: 0.0206 - accuracy: 0.9944\n",
            "Epoch 23/25\n",
            "1563/1563 [==============================] - 70s 45ms/step - loss: 0.0266 - accuracy: 0.9911\n",
            "Epoch 24/25\n",
            "1563/1563 [==============================] - 71s 45ms/step - loss: 0.0284 - accuracy: 0.9912\n",
            "Epoch 25/25\n",
            "1563/1563 [==============================] - 71s 45ms/step - loss: 0.0277 - accuracy: 0.9913\n",
            "Test Accuracy: 76.70%\n"
          ]
        },
        {
          "output_type": "stream",
          "name": "stderr",
          "text": [
            "/usr/local/lib/python3.10/dist-packages/sklearn/cluster/_kmeans.py:870: FutureWarning: The default value of `n_init` will change from 10 to 'auto' in 1.4. Set the value of `n_init` explicitly to suppress the warning\n",
            "  warnings.warn(\n",
            "/usr/local/lib/python3.10/dist-packages/sklearn/cluster/_kmeans.py:870: FutureWarning: The default value of `n_init` will change from 10 to 'auto' in 1.4. Set the value of `n_init` explicitly to suppress the warning\n",
            "  warnings.warn(\n"
          ]
        },
        {
          "output_type": "stream",
          "name": "stdout",
          "text": [
            "Epoch 1/25\n",
            "2/2 [==============================] - 0s 66ms/step - loss: 0.0014 - accuracy: 1.0000\n",
            "Epoch 2/25\n",
            "2/2 [==============================] - 0s 58ms/step - loss: 0.0495 - accuracy: 0.9800\n",
            "Epoch 3/25\n",
            "2/2 [==============================] - 0s 46ms/step - loss: 4.8923e-04 - accuracy: 1.0000\n",
            "Epoch 4/25\n",
            "2/2 [==============================] - 0s 42ms/step - loss: 2.1617e-04 - accuracy: 1.0000\n",
            "Epoch 5/25\n",
            "2/2 [==============================] - 0s 42ms/step - loss: 2.1897e-04 - accuracy: 1.0000\n",
            "Epoch 6/25\n",
            "2/2 [==============================] - 0s 44ms/step - loss: 3.0566e-04 - accuracy: 1.0000\n",
            "Epoch 7/25\n",
            "2/2 [==============================] - 0s 45ms/step - loss: 1.8876e-04 - accuracy: 1.0000\n",
            "Epoch 8/25\n",
            "2/2 [==============================] - 0s 46ms/step - loss: 2.0118e-04 - accuracy: 1.0000\n",
            "Epoch 9/25\n",
            "2/2 [==============================] - 0s 44ms/step - loss: 4.2635e-04 - accuracy: 1.0000\n",
            "Epoch 10/25\n",
            "2/2 [==============================] - 0s 46ms/step - loss: 4.4560e-04 - accuracy: 1.0000\n",
            "Epoch 11/25\n",
            "2/2 [==============================] - 0s 44ms/step - loss: 3.9087e-04 - accuracy: 1.0000\n",
            "Epoch 12/25\n",
            "2/2 [==============================] - 0s 44ms/step - loss: 1.7215e-04 - accuracy: 1.0000\n",
            "Epoch 13/25\n",
            "2/2 [==============================] - 0s 44ms/step - loss: 3.8836e-04 - accuracy: 1.0000\n",
            "Epoch 14/25\n",
            "2/2 [==============================] - 0s 41ms/step - loss: 2.6812e-04 - accuracy: 1.0000\n",
            "Epoch 15/25\n",
            "2/2 [==============================] - 0s 42ms/step - loss: 2.1821e-04 - accuracy: 1.0000\n",
            "Epoch 16/25\n",
            "2/2 [==============================] - 0s 42ms/step - loss: 1.7060e-04 - accuracy: 1.0000\n",
            "Epoch 17/25\n",
            "2/2 [==============================] - 0s 46ms/step - loss: 1.5295e-04 - accuracy: 1.0000\n",
            "Epoch 18/25\n",
            "2/2 [==============================] - 0s 43ms/step - loss: 1.0599e-04 - accuracy: 1.0000\n",
            "Epoch 19/25\n",
            "2/2 [==============================] - 0s 46ms/step - loss: 1.2934e-04 - accuracy: 1.0000\n",
            "Epoch 20/25\n",
            "2/2 [==============================] - 0s 45ms/step - loss: 1.4083e-04 - accuracy: 1.0000\n",
            "Epoch 21/25\n",
            "2/2 [==============================] - 0s 44ms/step - loss: 3.3136e-04 - accuracy: 1.0000\n",
            "Epoch 22/25\n",
            "2/2 [==============================] - 0s 46ms/step - loss: 1.1751e-04 - accuracy: 1.0000\n",
            "Epoch 23/25\n",
            "2/2 [==============================] - 0s 50ms/step - loss: 1.8144e-04 - accuracy: 1.0000\n",
            "Epoch 24/25\n",
            "2/2 [==============================] - 0s 44ms/step - loss: 1.2468e-04 - accuracy: 1.0000\n",
            "Epoch 25/25\n",
            "2/2 [==============================] - 0s 44ms/step - loss: 8.9575e-05 - accuracy: 1.0000\n"
          ]
        },
        {
          "output_type": "stream",
          "name": "stderr",
          "text": [
            "/usr/local/lib/python3.10/dist-packages/keras/src/engine/training.py:3103: UserWarning: You are saving your model as an HDF5 file via `model.save()`. This file format is considered legacy. We recommend using instead the native Keras format, e.g. `model.save('my_model.keras')`.\n",
            "  saving_api.save_model(\n"
          ]
        },
        {
          "output_type": "stream",
          "name": "stdout",
          "text": [
            "Epoch 1/25\n",
            "2/2 [==============================] - 0s 69ms/step - loss: 8.4840e-04 - accuracy: 1.0000\n",
            "Epoch 2/25\n",
            "2/2 [==============================] - 0s 72ms/step - loss: 6.7200e-04 - accuracy: 1.0000\n",
            "Epoch 3/25\n",
            "2/2 [==============================] - 0s 64ms/step - loss: 0.0021 - accuracy: 1.0000\n",
            "Epoch 4/25\n",
            "2/2 [==============================] - 0s 66ms/step - loss: 5.6050e-04 - accuracy: 1.0000\n",
            "Epoch 5/25\n",
            "2/2 [==============================] - 0s 71ms/step - loss: 7.9073e-04 - accuracy: 1.0000\n",
            "Epoch 6/25\n",
            "2/2 [==============================] - 0s 61ms/step - loss: 7.5115e-04 - accuracy: 1.0000\n",
            "Epoch 7/25\n",
            "2/2 [==============================] - 0s 59ms/step - loss: 0.0032 - accuracy: 1.0000\n",
            "Epoch 8/25\n",
            "2/2 [==============================] - 0s 59ms/step - loss: 2.7145e-04 - accuracy: 1.0000\n",
            "Epoch 9/25\n",
            "2/2 [==============================] - 0s 64ms/step - loss: 3.2076e-04 - accuracy: 1.0000\n",
            "Epoch 10/25\n",
            "2/2 [==============================] - 0s 64ms/step - loss: 3.7029e-04 - accuracy: 1.0000\n",
            "Epoch 11/25\n",
            "2/2 [==============================] - 0s 68ms/step - loss: 0.0017 - accuracy: 1.0000\n",
            "Epoch 12/25\n",
            "2/2 [==============================] - 0s 87ms/step - loss: 3.8707e-04 - accuracy: 1.0000\n",
            "Epoch 13/25\n",
            "2/2 [==============================] - 0s 70ms/step - loss: 0.0011 - accuracy: 1.0000\n",
            "Epoch 14/25\n",
            "2/2 [==============================] - 0s 64ms/step - loss: 0.0068 - accuracy: 1.0000\n",
            "Epoch 15/25\n",
            "2/2 [==============================] - 0s 65ms/step - loss: 1.0280e-04 - accuracy: 1.0000\n",
            "Epoch 16/25\n",
            "2/2 [==============================] - 0s 67ms/step - loss: 6.6015e-04 - accuracy: 1.0000\n",
            "Epoch 17/25\n",
            "2/2 [==============================] - 0s 61ms/step - loss: 2.5315e-04 - accuracy: 1.0000\n",
            "Epoch 18/25\n",
            "2/2 [==============================] - 0s 70ms/step - loss: 1.3930e-04 - accuracy: 1.0000\n",
            "Epoch 19/25\n",
            "2/2 [==============================] - 0s 68ms/step - loss: 1.4247e-04 - accuracy: 1.0000\n",
            "Epoch 20/25\n",
            "2/2 [==============================] - 0s 69ms/step - loss: 2.6429e-04 - accuracy: 1.0000\n",
            "Epoch 21/25\n",
            "2/2 [==============================] - 0s 63ms/step - loss: 1.4208e-04 - accuracy: 1.0000\n",
            "Epoch 22/25\n",
            "2/2 [==============================] - 0s 63ms/step - loss: 1.7429e-04 - accuracy: 1.0000\n",
            "Epoch 23/25\n",
            "2/2 [==============================] - 0s 70ms/step - loss: 1.8846e-04 - accuracy: 1.0000\n",
            "Epoch 24/25\n",
            "2/2 [==============================] - 0s 61ms/step - loss: 1.9791e-04 - accuracy: 1.0000\n",
            "Epoch 25/25\n",
            "2/2 [==============================] - 0s 58ms/step - loss: 1.0989e-04 - accuracy: 1.0000\n",
            "Test Accuracy: 76.44%\n",
            "Epoch 1/25\n",
            "1563/1563 [==============================] - 72s 46ms/step - loss: 0.0281 - accuracy: 0.9912\n",
            "Epoch 2/25\n",
            "1563/1563 [==============================] - 73s 46ms/step - loss: 0.0264 - accuracy: 0.9916\n",
            "Epoch 3/25\n",
            "1563/1563 [==============================] - 74s 48ms/step - loss: 0.0320 - accuracy: 0.9894\n",
            "Epoch 4/25\n",
            "1563/1563 [==============================] - 72s 46ms/step - loss: 0.0323 - accuracy: 0.9899\n",
            "Epoch 5/25\n",
            "1563/1563 [==============================] - 70s 45ms/step - loss: 0.0259 - accuracy: 0.9923\n",
            "Epoch 6/25\n",
            "1563/1563 [==============================] - 72s 46ms/step - loss: 0.0243 - accuracy: 0.9920\n",
            "Epoch 7/25\n",
            "1563/1563 [==============================] - 74s 47ms/step - loss: 0.0227 - accuracy: 0.9923\n",
            "Epoch 8/25\n",
            "1563/1563 [==============================] - 72s 46ms/step - loss: 0.0686 - accuracy: 0.9815\n",
            "Epoch 9/25\n",
            "1067/1563 [===================>..........] - ETA: 22s - loss: 0.0160 - accuracy: 0.9955"
          ]
        }
      ]
    },
    {
      "cell_type": "code",
      "source": [
        "!pip install --upgrade tensorflow\n"
      ],
      "metadata": {
        "colab": {
          "base_uri": "https://localhost:8080/",
          "height": 1000
        },
        "id": "nPvD3LEPKYfq",
        "outputId": "d15da919-8100-45b5-e220-cee9163d4db2"
      },
      "execution_count": null,
      "outputs": [
        {
          "output_type": "stream",
          "name": "stdout",
          "text": [
            "Requirement already satisfied: tensorflow in /usr/local/lib/python3.10/dist-packages (2.15.0)\n",
            "Collecting tensorflow\n",
            "  Downloading tensorflow-2.15.0.post1-cp310-cp310-manylinux_2_17_x86_64.manylinux2014_x86_64.whl (475.2 MB)\n",
            "\u001b[2K     \u001b[90m━━━━━━━━━━━━━━━━━━━━━━━━━━━━━━━━━━━━━━━━\u001b[0m \u001b[32m475.2/475.2 MB\u001b[0m \u001b[31m2.3 MB/s\u001b[0m eta \u001b[36m0:00:00\u001b[0m\n",
            "\u001b[?25hRequirement already satisfied: absl-py>=1.0.0 in /usr/local/lib/python3.10/dist-packages (from tensorflow) (1.4.0)\n",
            "Requirement already satisfied: astunparse>=1.6.0 in /usr/local/lib/python3.10/dist-packages (from tensorflow) (1.6.3)\n",
            "Requirement already satisfied: flatbuffers>=23.5.26 in /usr/local/lib/python3.10/dist-packages (from tensorflow) (23.5.26)\n",
            "Requirement already satisfied: gast!=0.5.0,!=0.5.1,!=0.5.2,>=0.2.1 in /usr/local/lib/python3.10/dist-packages (from tensorflow) (0.5.4)\n",
            "Requirement already satisfied: google-pasta>=0.1.1 in /usr/local/lib/python3.10/dist-packages (from tensorflow) (0.2.0)\n",
            "Requirement already satisfied: h5py>=2.9.0 in /usr/local/lib/python3.10/dist-packages (from tensorflow) (3.9.0)\n",
            "Requirement already satisfied: libclang>=13.0.0 in /usr/local/lib/python3.10/dist-packages (from tensorflow) (16.0.6)\n",
            "Requirement already satisfied: ml-dtypes~=0.2.0 in /usr/local/lib/python3.10/dist-packages (from tensorflow) (0.2.0)\n",
            "Requirement already satisfied: numpy<2.0.0,>=1.23.5 in /usr/local/lib/python3.10/dist-packages (from tensorflow) (1.23.5)\n",
            "Requirement already satisfied: opt-einsum>=2.3.2 in /usr/local/lib/python3.10/dist-packages (from tensorflow) (3.3.0)\n",
            "Requirement already satisfied: packaging in /usr/local/lib/python3.10/dist-packages (from tensorflow) (23.2)\n",
            "Requirement already satisfied: protobuf!=4.21.0,!=4.21.1,!=4.21.2,!=4.21.3,!=4.21.4,!=4.21.5,<5.0.0dev,>=3.20.3 in /usr/local/lib/python3.10/dist-packages (from tensorflow) (3.20.3)\n",
            "Requirement already satisfied: setuptools in /usr/local/lib/python3.10/dist-packages (from tensorflow) (67.7.2)\n",
            "Requirement already satisfied: six>=1.12.0 in /usr/local/lib/python3.10/dist-packages (from tensorflow) (1.16.0)\n",
            "Requirement already satisfied: termcolor>=1.1.0 in /usr/local/lib/python3.10/dist-packages (from tensorflow) (2.4.0)\n",
            "Requirement already satisfied: typing-extensions>=3.6.6 in /usr/local/lib/python3.10/dist-packages (from tensorflow) (4.5.0)\n",
            "Requirement already satisfied: wrapt<1.15,>=1.11.0 in /usr/local/lib/python3.10/dist-packages (from tensorflow) (1.14.1)\n",
            "Requirement already satisfied: tensorflow-io-gcs-filesystem>=0.23.1 in /usr/local/lib/python3.10/dist-packages (from tensorflow) (0.34.0)\n",
            "Requirement already satisfied: grpcio<2.0,>=1.24.3 in /usr/local/lib/python3.10/dist-packages (from tensorflow) (1.60.0)\n",
            "Requirement already satisfied: tensorboard<2.16,>=2.15 in /usr/local/lib/python3.10/dist-packages (from tensorflow) (2.15.1)\n",
            "Requirement already satisfied: tensorflow-estimator<2.16,>=2.15.0 in /usr/local/lib/python3.10/dist-packages (from tensorflow) (2.15.0)\n",
            "Requirement already satisfied: keras<2.16,>=2.15.0 in /usr/local/lib/python3.10/dist-packages (from tensorflow) (2.15.0)\n",
            "Requirement already satisfied: wheel<1.0,>=0.23.0 in /usr/local/lib/python3.10/dist-packages (from astunparse>=1.6.0->tensorflow) (0.42.0)\n",
            "Requirement already satisfied: google-auth<3,>=1.6.3 in /usr/local/lib/python3.10/dist-packages (from tensorboard<2.16,>=2.15->tensorflow) (2.17.3)\n",
            "Requirement already satisfied: google-auth-oauthlib<2,>=0.5 in /usr/local/lib/python3.10/dist-packages (from tensorboard<2.16,>=2.15->tensorflow) (1.2.0)\n",
            "Requirement already satisfied: markdown>=2.6.8 in /usr/local/lib/python3.10/dist-packages (from tensorboard<2.16,>=2.15->tensorflow) (3.5.1)\n",
            "Requirement already satisfied: requests<3,>=2.21.0 in /usr/local/lib/python3.10/dist-packages (from tensorboard<2.16,>=2.15->tensorflow) (2.31.0)\n",
            "Requirement already satisfied: tensorboard-data-server<0.8.0,>=0.7.0 in /usr/local/lib/python3.10/dist-packages (from tensorboard<2.16,>=2.15->tensorflow) (0.7.2)\n",
            "Requirement already satisfied: werkzeug>=1.0.1 in /usr/local/lib/python3.10/dist-packages (from tensorboard<2.16,>=2.15->tensorflow) (3.0.1)\n",
            "Requirement already satisfied: cachetools<6.0,>=2.0.0 in /usr/local/lib/python3.10/dist-packages (from google-auth<3,>=1.6.3->tensorboard<2.16,>=2.15->tensorflow) (5.3.2)\n",
            "Requirement already satisfied: pyasn1-modules>=0.2.1 in /usr/local/lib/python3.10/dist-packages (from google-auth<3,>=1.6.3->tensorboard<2.16,>=2.15->tensorflow) (0.3.0)\n",
            "Requirement already satisfied: rsa<5,>=3.1.4 in /usr/local/lib/python3.10/dist-packages (from google-auth<3,>=1.6.3->tensorboard<2.16,>=2.15->tensorflow) (4.9)\n",
            "Requirement already satisfied: requests-oauthlib>=0.7.0 in /usr/local/lib/python3.10/dist-packages (from google-auth-oauthlib<2,>=0.5->tensorboard<2.16,>=2.15->tensorflow) (1.3.1)\n",
            "Requirement already satisfied: charset-normalizer<4,>=2 in /usr/local/lib/python3.10/dist-packages (from requests<3,>=2.21.0->tensorboard<2.16,>=2.15->tensorflow) (3.3.2)\n",
            "Requirement already satisfied: idna<4,>=2.5 in /usr/local/lib/python3.10/dist-packages (from requests<3,>=2.21.0->tensorboard<2.16,>=2.15->tensorflow) (3.6)\n",
            "Requirement already satisfied: urllib3<3,>=1.21.1 in /usr/local/lib/python3.10/dist-packages (from requests<3,>=2.21.0->tensorboard<2.16,>=2.15->tensorflow) (2.0.7)\n",
            "Requirement already satisfied: certifi>=2017.4.17 in /usr/local/lib/python3.10/dist-packages (from requests<3,>=2.21.0->tensorboard<2.16,>=2.15->tensorflow) (2023.11.17)\n",
            "Requirement already satisfied: MarkupSafe>=2.1.1 in /usr/local/lib/python3.10/dist-packages (from werkzeug>=1.0.1->tensorboard<2.16,>=2.15->tensorflow) (2.1.3)\n",
            "Requirement already satisfied: pyasn1<0.6.0,>=0.4.6 in /usr/local/lib/python3.10/dist-packages (from pyasn1-modules>=0.2.1->google-auth<3,>=1.6.3->tensorboard<2.16,>=2.15->tensorflow) (0.5.1)\n",
            "Requirement already satisfied: oauthlib>=3.0.0 in /usr/local/lib/python3.10/dist-packages (from requests-oauthlib>=0.7.0->google-auth-oauthlib<2,>=0.5->tensorboard<2.16,>=2.15->tensorflow) (3.2.2)\n",
            "Installing collected packages: tensorflow\n",
            "  Attempting uninstall: tensorflow\n",
            "    Found existing installation: tensorflow 2.15.0\n",
            "    Uninstalling tensorflow-2.15.0:\n",
            "      Successfully uninstalled tensorflow-2.15.0\n",
            "Successfully installed tensorflow-2.15.0.post1\n"
          ]
        },
        {
          "output_type": "display_data",
          "data": {
            "application/vnd.colab-display-data+json": {
              "pip_warning": {
                "packages": [
                  "tensorflow"
                ]
              }
            }
          },
          "metadata": {}
        }
      ]
    }
  ]
}